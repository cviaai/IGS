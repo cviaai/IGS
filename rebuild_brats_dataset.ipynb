{
 "cells": [
  {
   "cell_type": "markdown",
   "source": [
    "# Rebuild brats 2d dataset - without empty slices"
   ],
   "metadata": {
    "collapsed": false
   }
  },
  {
   "cell_type": "code",
   "execution_count": 1,
   "metadata": {
    "collapsed": true
   },
   "outputs": [],
   "source": [
    "import pickle\n",
    "import numpy as np\n",
    "import pylab as plt\n",
    "plt.style.use('dark_background')\n",
    "import h5py\n",
    "from tqdm import tqdm"
   ]
  },
  {
   "cell_type": "code",
   "execution_count": 2,
   "outputs": [],
   "source": [
    "hf = h5py.File('/home/a_razumov/small_datasets/brats_h5/val.h5', 'r')\n",
    "hfn = h5py.File('/home/a_razumov/small_datasets/brats_seg_h5/val.h5', 'w')"
   ],
   "metadata": {
    "collapsed": false,
    "pycharm": {
     "name": "#%%\n"
    }
   }
  },
  {
   "cell_type": "code",
   "execution_count": 3,
   "outputs": [],
   "source": [
    "with open('brats_train.cache', 'rb') as f:\n",
    "    train_slices_cache = pickle.load(f)\n",
    "with open('brats_val.cache', 'rb') as f:\n",
    "    val_slices_cache = pickle.load(f)"
   ],
   "metadata": {
    "collapsed": false,
    "pycharm": {
     "name": "#%%\n"
    }
   }
  },
  {
   "cell_type": "code",
   "execution_count": 11,
   "outputs": [],
   "source": [
    "key, idx = val_slices_cache[0]\n",
    "img = hf[key][:-1,:,:,idx]\n",
    "mask = hf[key][-1:,:,:,idx]\n",
    "mask[mask==4] = 3"
   ],
   "metadata": {
    "collapsed": false,
    "pycharm": {
     "name": "#%%\n"
    }
   }
  },
  {
   "cell_type": "code",
   "execution_count": 12,
   "outputs": [
    {
     "data": {
      "text/plain": "((4, 240, 240), (1, 240, 240))"
     },
     "execution_count": 12,
     "metadata": {},
     "output_type": "execute_result"
    }
   ],
   "source": [
    "img.shape, mask.shape"
   ],
   "metadata": {
    "collapsed": false,
    "pycharm": {
     "name": "#%%\n"
    }
   }
  },
  {
   "cell_type": "code",
   "execution_count": 15,
   "outputs": [
    {
     "data": {
      "text/plain": "(5, 240, 240)"
     },
     "execution_count": 15,
     "metadata": {},
     "output_type": "execute_result"
    }
   ],
   "source": [
    "np.concatenate([img, mask], axis=0).shape"
   ],
   "metadata": {
    "collapsed": false,
    "pycharm": {
     "name": "#%%\n"
    }
   }
  },
  {
   "cell_type": "code",
   "execution_count": 16,
   "outputs": [
    {
     "name": "stderr",
     "output_type": "stream",
     "text": [
      "100%|██████████| 15391/15391 [04:40<00:00, 54.80it/s]\n"
     ]
    }
   ],
   "source": [
    "for i, (k, idx) in tqdm(enumerate(val_slices_cache), total=len(val_slices_cache)):\n",
    "    img = hf[k][:-1,:,:,idx]\n",
    "    mask = hf[k][-1:,:,:,idx]\n",
    "    mask[mask==4] = 3\n",
    "    hfn.create_dataset(name=str(i), data=np.concatenate([img, mask], axis=0))"
   ],
   "metadata": {
    "collapsed": false,
    "pycharm": {
     "name": "#%%\n"
    }
   }
  },
  {
   "cell_type": "code",
   "execution_count": 17,
   "outputs": [],
   "source": [
    "hf.close()\n",
    "hfn.close()"
   ],
   "metadata": {
    "collapsed": false,
    "pycharm": {
     "name": "#%%\n"
    }
   }
  },
  {
   "cell_type": "code",
   "execution_count": 18,
   "outputs": [
    {
     "name": "stderr",
     "output_type": "stream",
     "text": [
      "100%|██████████| 35508/35508 [10:49<00:00, 54.70it/s]\n"
     ]
    }
   ],
   "source": [
    "hf = h5py.File('/home/a_razumov/small_datasets/brats_h5/train.h5', 'r')\n",
    "hfn = h5py.File('/home/a_razumov/small_datasets/brats_seg_h5/train.h5', 'w')\n",
    "for i, (k, idx) in tqdm(enumerate(train_slices_cache), total=len(train_slices_cache)):\n",
    "    img = hf[k][:-1,:,:,idx]\n",
    "    mask = hf[k][-1:,:,:,idx]\n",
    "    mask[mask==4] = 3\n",
    "    hfn.create_dataset(name=str(i), data=np.concatenate([img, mask], axis=0))"
   ],
   "metadata": {
    "collapsed": false,
    "pycharm": {
     "name": "#%%\n"
    }
   }
  },
  {
   "cell_type": "code",
   "execution_count": 19,
   "outputs": [],
   "source": [
    "hf.close()\n",
    "hfn.close()"
   ],
   "metadata": {
    "collapsed": false,
    "pycharm": {
     "name": "#%%\n"
    }
   }
  },
  {
   "cell_type": "code",
   "execution_count": 2,
   "outputs": [],
   "source": [
    "hf = h5py.File('/home/a_razumov/small_datasets/brats_seg_h5/train.h5')"
   ],
   "metadata": {
    "collapsed": false,
    "pycharm": {
     "name": "#%%\n"
    }
   }
  },
  {
   "cell_type": "code",
   "execution_count": 12,
   "outputs": [
    {
     "data": {
      "text/plain": "<Figure size 432x288 with 1 Axes>",
      "image/png": "[encoded data removed]"
     },
     "metadata": {},
     "output_type": "display_data"
    }
   ],
   "source": [
    "plt.imshow(hf['110'][0])\n",
    "plt.show()"
   ],
   "metadata": {
    "collapsed": false,
    "pycharm": {
     "name": "#%%\n"
    }
   }
  },
  {
   "cell_type": "markdown",
   "source": [
    "# Rebuild brats 3d dataset"
   ],
   "metadata": {
    "collapsed": false
   }
  },
  {
   "cell_type": "code",
   "execution_count": 1,
   "outputs": [],
   "source": [
    "import numpy as np\n",
    "import pylab as plt\n",
    "plt.style.use('dark_background')\n",
    "import h5py\n",
    "from tqdm import tqdm"
   ],
   "metadata": {
    "collapsed": false,
    "pycharm": {
     "name": "#%%\n"
    }
   }
  },
  {
   "cell_type": "code",
   "execution_count": 2,
   "outputs": [],
   "source": [
    "hf = h5py.File('/home/a_razumov/small_datasets/brats_h5/val.h5', 'r')\n",
    "hfn = h5py.File('/home/a_razumov/small_datasets/brats_seg_h5/val_3d.h5', 'w')"
   ],
   "metadata": {
    "collapsed": false,
    "pycharm": {
     "name": "#%%\n"
    }
   }
  },
  {
   "cell_type": "code",
   "execution_count": 6,
   "outputs": [
    {
     "name": "stderr",
     "output_type": "stream",
     "text": [
      "100%|██████████| 111/111 [01:10<00:00,  1.58it/s]\n"
     ]
    }
   ],
   "source": [
    "for k in tqdm(hf.keys()):\n",
    "    img = hf[k][:-1,:,:,:]\n",
    "    mask = hf[k][-1:,:,:,:]\n",
    "    mask[mask==4] = 3\n",
    "    hfn.create_dataset(name=k, data=np.concatenate([img, mask], axis=0))"
   ],
   "metadata": {
    "collapsed": false,
    "pycharm": {
     "name": "#%%\n"
    }
   }
  },
  {
   "cell_type": "code",
   "execution_count": 7,
   "outputs": [],
   "source": [
    "hf.close()\n",
    "hfn.close()"
   ],
   "metadata": {
    "collapsed": false,
    "pycharm": {
     "name": "#%%\n"
    }
   }
  },
  {
   "cell_type": "code",
   "execution_count": 9,
   "outputs": [
    {
     "name": "stderr",
     "output_type": "stream",
     "text": [
      "100%|██████████| 258/258 [02:44<00:00,  1.57it/s]\n"
     ]
    }
   ],
   "source": [
    "hf = h5py.File('/home/a_razumov/small_datasets/brats_h5/train.h5', 'r')\n",
    "hfn = h5py.File('/home/a_razumov/small_datasets/brats_seg_h5/train_3d.h5', 'w')\n",
    "\n",
    "for k in tqdm(hf.keys()):\n",
    "    img = hf[k][:-1,:,:,:]\n",
    "    mask = hf[k][-1:,:,:,:]\n",
    "    mask[mask==4] = 3\n",
    "    hfn.create_dataset(name=k, data=np.concatenate([img, mask], axis=0))\n",
    "\n",
    "hf.close()\n",
    "hfn.close()"
   ],
   "metadata": {
    "collapsed": false,
    "pycharm": {
     "name": "#%%\n"
    }
   }
  },
  {
   "cell_type": "markdown",
   "source": [
    "# ACDC 3d dataset"
   ],
   "metadata": {
    "collapsed": false
   }
  },
  {
   "cell_type": "code",
   "execution_count": 1,
   "outputs": [],
   "source": [
    "import numpy as np\n",
    "import pylab as plt\n",
    "plt.style.use('dark_background')\n",
    "import h5py\n",
    "from tqdm import tqdm"
   ],
   "metadata": {
    "collapsed": false,
    "pycharm": {
     "name": "#%%\n"
    }
   }
  },
  {
   "cell_type": "code",
   "execution_count": 2,
   "outputs": [],
   "source": [
    "hf = h5py.File('/home/a_razumov/small_datasets/acdc_seg_h5/val_3d.h5', 'r')"
   ],
   "metadata": {
    "collapsed": false,
    "pycharm": {
     "name": "#%%\n"
    }
   }
  },
  {
   "cell_type": "code",
   "execution_count": 6,
   "outputs": [
    {
     "data": {
      "text/plain": "<KeysViewHDF5 ['0', '1']>"
     },
     "execution_count": 6,
     "metadata": {},
     "output_type": "execute_result"
    }
   ],
   "source": [
    "hf['patient015'].keys()"
   ],
   "metadata": {
    "collapsed": false,
    "pycharm": {
     "name": "#%%\n"
    }
   }
  },
  {
   "cell_type": "code",
   "execution_count": null,
   "outputs": [],
   "source": [],
   "metadata": {
    "collapsed": false,
    "pycharm": {
     "name": "#%%\n"
    }
   }
  }
 ],
 "metadata": {
  "kernelspec": {
   "display_name": "Python 3",
   "language": "python",
   "name": "python3"
  },
  "language_info": {
   "codemirror_mode": {
    "name": "ipython",
    "version": 2
   },
   "file_extension": ".py",
   "mimetype": "text/x-python",
   "name": "python",
   "nbconvert_exporter": "python",
   "pygments_lexer": "ipython2",
   "version": "2.7.6"
  }
 },
 "nbformat": 4,
 "nbformat_minor": 0
}