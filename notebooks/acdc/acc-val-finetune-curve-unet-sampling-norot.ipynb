{
 "cells": [
  {
   "cell_type": "code",
   "execution_count": 1,
   "metadata": {},
   "outputs": [
    {
     "name": "stdout",
     "output_type": "stream",
     "text": [
      "env: CUDA_VISIBLE_DEVICES=0\n"
     ]
    }
   ],
   "source": [
    "%env CUDA_VISIBLE_DEVICES=0\n",
    "import os\n",
    "import re\n",
    "import sys\n",
    "sys.path.append('/home/a_razumov/projects/k-space-mri')\n",
    "import numpy as np\n",
    "import pylab as plt\n",
    "plt.style.use('bmh')\n",
    "import pandas as pd\n",
    "import seaborn as sns\n",
    "import h5py\n",
    "import nibabel\n",
    "import pickle\n",
    "from tqdm.notebook import tqdm\n",
    "\n",
    "import torch\n",
    "import torchvision\n",
    "import torch.nn.functional as F\n",
    "import torch.utils.data\n",
    "import torchvision.transforms as transforms\n",
    "\n",
    "\n",
    "from k_space_reconstruction.utils.metrics import pt_msssim, pt_ssim\n",
    "from k_space_reconstruction.utils.kspace import EquispacedMaskFunc, RandomMaskFunc\n",
    "from k_space_reconstruction.utils.kspace import pt_spatial2kspace as Ft\n",
    "from k_space_reconstruction.utils.kspace import pt_kspace2spatial as IFt\n",
    "from k_space_reconstruction.nets.unet import Unet\n",
    "\n",
    "from os.path import isdir, join"
   ]
  },
  {
   "cell_type": "code",
   "execution_count": 2,
   "metadata": {},
   "outputs": [],
   "source": [
    "fig_bezzeless = lambda nc, nr : plt.subplots(ncols=nc, nrows=nr, figsize=(4 * nc, 4), dpi=120, \n",
    "                                             subplot_kw=dict(frameon=False, xticks=[], yticks=[]), \n",
    "                                             gridspec_kw=dict(wspace=0.0, hspace=0.0))\n",
    "\n",
    "\n",
    "def ce_loss(true, logits, weights, ignore=255):\n",
    "    torch.nn.CrossEntropyLoss\n",
    "    ce_loss = torch.nn.functional.cross_entropy(\n",
    "        logits.float(),\n",
    "        true.long(),\n",
    "        ignore_index=ignore,\n",
    "        weight=weights,\n",
    "    )\n",
    "    return ce_loss\n",
    "\n",
    "\n",
    "def dice_loss(true, logits, eps=1e-7):\n",
    "    num_classes = logits.shape[1]\n",
    "    if num_classes == 1:\n",
    "        true_1_hot = torch.eye(num_classes + 1)[true.squeeze(1)]\n",
    "        true_1_hot = true_1_hot.permute(0, 3, 1, 2).float()\n",
    "        true_1_hot_f = true_1_hot[:, 0:1, :, :]\n",
    "        true_1_hot_s = true_1_hot[:, 1:2, :, :]\n",
    "        true_1_hot = torch.cat([true_1_hot_s, true_1_hot_f], dim=1)\n",
    "        pos_prob = torch.sigmoid(logits)\n",
    "        neg_prob = 1 - pos_prob\n",
    "        probas = torch.cat([pos_prob, neg_prob], dim=1)\n",
    "    else:\n",
    "        true_1_hot = torch.eye(num_classes)[true.squeeze(1)]\n",
    "        true_1_hot = true_1_hot.permute(0, 3, 1, 2).float()\n",
    "        probas = torch.nn.functional.softmax(logits, dim=1)\n",
    "    true_1_hot = true_1_hot.type(logits.type())\n",
    "    dims = (0,) + tuple(range(2, true.ndimension()))\n",
    "    intersection = torch.sum(probas * true_1_hot, dims)\n",
    "    cardinality = torch.sum(probas + true_1_hot, dims)\n",
    "    dice_loss = (2. * intersection / (cardinality + eps)).mean()\n",
    "    return (1 - dice_loss)\n",
    "\n",
    "def dice_coeffs(true, logits):\n",
    "    num_classes = logits.shape[1]\n",
    "    probas = F.softmax(logits, dim=1)\n",
    "    probas[probas > 0.5] = 1; probas[probas <= 0.5] = 0\n",
    "    pmask = torch.zeros_like(true).float()\n",
    "    for i in range(1, num_classes):\n",
    "        pmask[:,0] += i * probas[:,i]\n",
    "    dice_ls = []\n",
    "    for i in range(1, num_classes):\n",
    "        yt = (true==i).float().flatten()\n",
    "        yp = (pmask==i).float().flatten()\n",
    "        intersection = torch.sum(yt * yp)\n",
    "        cardinality = torch.sum(yt + yp)\n",
    "        dice_ls.append((2. * intersection / (cardinality + 1e-7)).item())\n",
    "    return dice_ls        \n",
    "\n",
    "def train_sampling_pattern(train_generator, model, n=14):\n",
    "    c, bmasks, images, bmean, bstd = next(iter(train_generator))\n",
    "    bks = Ft(images * bstd + bmean)\n",
    "    bgt = IFt(bks).abs()\n",
    "    w = torch.zeros(256).cuda().float()\n",
    "    w[128] = 1\n",
    "    bbatch = 32\n",
    "    w_list = []\n",
    "    pbar = tqdm(range(n))\n",
    "    for count in pbar:\n",
    "        w = torch.autograd.Variable(w, requires_grad=True)\n",
    "        for j in range(bks.shape[0] // bbatch):\n",
    "            bbks = bks[bbatch*j:bbatch*(j+1)].cuda()\n",
    "            bbgt = bgt[bbatch*j:bbatch*(j+1)].cuda()\n",
    "            bbmean = bmean[bbatch*j:bbatch*(j+1)].cuda()\n",
    "            bbstd = bstd[bbatch*j:bbatch*(j+1)].cuda()\n",
    "            bbmasks = bmasks[bbatch*j:bbatch*(j+1)].cuda()\n",
    "            recs = IFt(bbks * w).abs()\n",
    "            pm = model((recs - bbmean) / (bbstd + 1e-11))\n",
    "            loss = dice_loss(bbmasks.long(), pm)\n",
    "            loss.backward()\n",
    "        for i in torch.topk(w.grad, 256, largest=False).indices:\n",
    "            if w[i] == 0: \n",
    "                w = w.detach()\n",
    "                w[i] = 1.\n",
    "                w_list.append(w.clone())\n",
    "                pbar.set_description('select: %d, loss: %.6f' % (i.item(), loss.item()))\n",
    "                break\n",
    "    return w_list\n",
    "\n",
    "def test_sampling_pattern(sampling, model, val_generator):\n",
    "    vc, vbmasks, vimages, vbmean, vbstd = next(iter(val_generator))\n",
    "    vbks = Ft(vimages * vbstd + vbmean)\n",
    "    vbgt = IFt(vbks).abs()\n",
    "    dice_scores = []\n",
    "    bbatch = 32\n",
    "    for j in tqdm(range(vbks.shape[0] // bbatch), disable=True):\n",
    "        vbbks = vbks[bbatch*j:bbatch*(j+1)].cuda()\n",
    "        vbbgt = vbgt[bbatch*j:bbatch*(j+1)].cuda()\n",
    "        vbbmean = vbmean[bbatch*j:bbatch*(j+1)].cuda()\n",
    "        vbbstd = vbstd[bbatch*j:bbatch*(j+1)].cuda()\n",
    "        vbbmasks = vbmasks[bbatch*j:bbatch*(j+1)].cuda()\n",
    "        with torch.no_grad():\n",
    "            # igs\n",
    "            recs = IFt(vbbks * sampling).abs()\n",
    "            pm = model((recs - vbbmean) / (vbbstd + 1e-11))\n",
    "            for i in range(recs.shape[0]):\n",
    "                dice_scores.append(1 - dice_loss(vbbmasks.long(), pm).item())\n",
    "    return dice_scores\n",
    "\n",
    "def test_on_classes_sampling_pattern(sampling, model, val_generator):\n",
    "    vc, vbmasks, vimages, vbmean, vbstd = next(iter(val_generator))\n",
    "    vbks = Ft(vimages * vbstd + vbmean)\n",
    "    vbgt = IFt(vbks).abs()\n",
    "    dice_scores = []\n",
    "    ssim_scores = []\n",
    "    bbatch = 1\n",
    "    for j in tqdm(range(vbks.shape[0] // bbatch), disable=True):\n",
    "        vbbks = vbks[bbatch*j:bbatch*(j+1)].cuda()\n",
    "        vbbgt = vbgt[bbatch*j:bbatch*(j+1)].cuda()\n",
    "        vbbmean = vbmean[bbatch*j:bbatch*(j+1)].cuda()\n",
    "        vbbstd = vbstd[bbatch*j:bbatch*(j+1)].cuda()\n",
    "        vbbmasks = vbmasks[bbatch*j:bbatch*(j+1)].cuda()\n",
    "        with torch.no_grad():\n",
    "            # igs\n",
    "            recs = IFt(vbbks * sampling).abs()\n",
    "            pm = model((recs - vbbmean) / (vbbstd + 1e-11))\n",
    "            for i in range(recs.shape[0]):\n",
    "                dice_scores.append(dice_coeffs(vbbmasks.long(), pm))\n",
    "                ssim_scores.append(pt_ssim(vbbgt, recs).item())\n",
    "    return {'dice': np.array(dice_scores), 'ssim': np.array(ssim_scores)}\n",
    "\n",
    "def finetune_model_on_sampling(train_generator, model, sampling, epochs=5, return_losses=False):\n",
    "    if not os.path.exists('acdc_unet_checkpoints'):\n",
    "        os.makedirs('acdc_unet_checkpoints')\n",
    "    losses = np.zeros(epochs)\n",
    "    checkpoints = []\n",
    "    criterion = lambda p,t : dice_loss(t, p) * .75 + ce_loss(t.squeeze(1), p, weights=None) * .25\n",
    "    metric = lambda p,t : 1 - dice_loss(t, p)\n",
    "    optimizer = torch.optim.AdamW(model.parameters(), lr=1e-4)\n",
    "    pbar = tqdm(range(epochs))\n",
    "    for epoch in pbar:\n",
    "        model = model.train()\n",
    "        for _, targets, images, means, stds in train_generator:\n",
    "            images = images.cuda(); targets = targets.cuda().long(); means = means.cuda(); stds = stds.cuda()\n",
    "            optimizer.zero_grad()\n",
    "            # backpropagate\n",
    "            images = (IFt(Ft(images * stds + means) * sampling).abs() - means) / (stds + 1e-11)\n",
    "            pred = model(images)\n",
    "            loss = criterion(pred, targets)\n",
    "            loss.backward()\n",
    "            optimizer.step()\n",
    "            losses[epoch] += loss.item() / len(train_generator)\n",
    "        model = model.train(False).eval()\n",
    "        checkpoint_path = join('acdc_unet_checkpoints', 'epoch%d.pth' % epoch)\n",
    "        torch.save(model.state_dict(), checkpoint_path)\n",
    "        checkpoints.append(checkpoint_path)\n",
    "    del optimizer\n",
    "    best_checkpoint = checkpoints[np.argmin(losses)]\n",
    "    model.load_state_dict(torch.load(best_checkpoint))\n",
    "    if return_losses:\n",
    "        return model, losses\n",
    "    else:\n",
    "        return model\n",
    "\n",
    "\n",
    "class ACDCDataset(torch.utils.data.Dataset):\n",
    "    CLASSES = {0: 'NOR', 1: 'MINF', 2: 'DCM', 3: 'HCM', 4: 'RV'}\n",
    "\n",
    "    def __init__(self, hf_path: str):\n",
    "        super().__init__()\n",
    "        self.hf = h5py.File(hf_path)\n",
    "\n",
    "    def __len__(self) -> int:\n",
    "        return len(self.hf)\n",
    "\n",
    "    def __getitem__(self, item: int):\n",
    "        img = self.hf[str(item)][:1]\n",
    "        mask = self.hf[str(item)][1:]\n",
    "        c = self.hf[str(item)].attrs['class']\n",
    "        img = torch.tensor(img).float()\n",
    "        mask = torch.tensor(mask)\n",
    "        mean = img.mean()\n",
    "        std = img.std()\n",
    "        img = (img - mean) / (std + 1e-11)\n",
    "        return c, mask, img, mean.unsqueeze(0).unsqueeze(0).unsqueeze(0), std.unsqueeze(0).unsqueeze(0).unsqueeze(0)"
   ]
  },
  {
   "cell_type": "code",
   "execution_count": 3,
   "metadata": {},
   "outputs": [],
   "source": [
    "def pt_psnr(img1, img2, maxval):\n",
    "    mse = torch.mean((img1 - img2) ** 2)\n",
    "    return 20 * torch.log10(maxval / torch.sqrt(mse))"
   ]
  },
  {
   "cell_type": "code",
   "execution_count": 4,
   "metadata": {},
   "outputs": [],
   "source": [
    "train_dataset = ACDCDataset('/home/a_razumov/small_datasets/acdc_seg_h5/train.h5')\n",
    "val_dataset = ACDCDataset('/home/a_razumov/small_datasets/acdc_seg_h5/val.h5')\n",
    "train_generator = torch.utils.data.DataLoader(train_dataset, batch_size=len(train_dataset), shuffle=True, num_workers=6)\n",
    "val_generator = torch.utils.data.DataLoader(val_dataset, batch_size=len(val_dataset), shuffle=False)"
   ]
  },
  {
   "cell_type": "code",
   "execution_count": 5,
   "metadata": {},
   "outputs": [
    {
     "data": {
      "text/plain": [
       "<All keys matched successfully>"
      ]
     },
     "execution_count": 5,
     "metadata": {},
     "output_type": "execute_result"
    }
   ],
   "source": [
    "device = torch.device('cuda:0') if torch.cuda.is_available() else torch.device('cpu')\n",
    "model = Unet(1, 3+1).to(device).train(False).eval()\n",
    "for p in model.parameters():\n",
    "    p.requires_grad = False\n",
    "model.load_state_dict(torch.load('unet-acdc-norot.pt'))"
   ]
  },
  {
   "cell_type": "markdown",
   "metadata": {},
   "source": [
    "# Acceleration curve"
   ]
  },
  {
   "cell_type": "code",
   "execution_count": 6,
   "metadata": {},
   "outputs": [],
   "source": [
    "def get_acceleration_scores(acceleration_factor, train_dataset, val_generator):\n",
    "    # init sampling masks\n",
    "    fastmri_mask_x16 = torch.tensor(EquispacedMaskFunc([0.02], [acceleration_factor])((256, 256))[0]).cuda().float()\n",
    "    zm = torch.zeros(256).cuda().float()\n",
    "    zm[256//2 - int(fastmri_mask_x16.sum())//2 : 256//2 + int(fastmri_mask_x16.sum())//2] = 1\n",
    "    fm = torch.ones(256).cuda().float()\n",
    "    # load models\n",
    "    model_zm = Unet(1, 3+1).to(device).train(False).eval()\n",
    "    model_zm.load_state_dict(torch.load('unet-acdc-norot.pt'))\n",
    "    model_igs = Unet(1, 3+1).to(device).train(False).eval()\n",
    "    model_igs.load_state_dict(torch.load('unet-acdc-norot.pt'))\n",
    "    model_fastmri = Unet(1, 3+1).to(device).train(False).eval()\n",
    "    model_fastmri.load_state_dict(torch.load('unet-acdc-norot.pt'))\n",
    "    # train our sampling\n",
    "    tg = torch.utils.data.DataLoader(train_dataset, batch_size=len(train_dataset), shuffle=True)\n",
    "    w = train_sampling_pattern(tg, model_igs, n=int(fastmri_mask_x16.sum()))[int(fastmri_mask_x16.sum() - 2)]\n",
    "    # finetune models\n",
    "    tg = torch.utils.data.DataLoader(train_dataset, batch_size=16, shuffle=True)\n",
    "    model_igs = finetune_model_on_sampling(tg, model_igs, w, epochs=25)\n",
    "    model_zm = finetune_model_on_sampling(tg, model_zm, zm, epochs=25)\n",
    "    model_fastmri = finetune_model_on_sampling(tg, model_fastmri, fastmri_mask_x16, epochs=25)\n",
    "    scores = dict(\n",
    "        fastmri=test_on_classes_sampling_pattern(fastmri_mask_x16, model_fastmri, val_generator), \n",
    "        center=test_on_classes_sampling_pattern(zm, model_zm, val_generator),\n",
    "        ours=test_on_classes_sampling_pattern(w, model_igs, val_generator),\n",
    "    )\n",
    "    return scores"
   ]
  },
  {
   "cell_type": "code",
   "execution_count": null,
   "metadata": {},
   "outputs": [
    {
     "data": {
      "application/vnd.jupyter.widget-view+json": {
       "model_id": "486f1de655394685ad1d09f33a46587e",
       "version_major": 2,
       "version_minor": 0
      },
      "text/plain": [
       "HBox(children=(HTML(value=''), FloatProgress(value=0.0, max=12.0), HTML(value='')))"
      ]
     },
     "metadata": {},
     "output_type": "display_data"
    },
    {
     "data": {
      "application/vnd.jupyter.widget-view+json": {
       "model_id": "6e95312f4b05464b8abdd72f40441cf3",
       "version_major": 2,
       "version_minor": 0
      },
      "text/plain": [
       "HBox(children=(HTML(value=''), FloatProgress(value=0.0, max=128.0), HTML(value='')))"
      ]
     },
     "metadata": {},
     "output_type": "display_data"
    }
   ],
   "source": [
    "from collections import defaultdict\n",
    "from sklearn.model_selection import KFold\n",
    "\n",
    "acceleration_fold_curve = []\n",
    "acc_vals = [2,4,6,8,10,12,14,16,18,20,24,26]\n",
    "\n",
    "fastmri_mask_x16 = torch.tensor(EquispacedMaskFunc([0.04], [16])((256, 256))[0]).cuda().float()\n",
    "zm = torch.zeros(256).cuda().float()\n",
    "zm[256//2 - int(16)//2 : 256//2 + int(16)//2] = 1\n",
    "fm = torch.ones(256).cuda().float()\n",
    "\n",
    "for i, (train_id, val_id) in enumerate(KFold(shuffle=False).split(range(len(train_dataset)))):\n",
    "    td = torch.utils.data.Subset(train_dataset, train_id)\n",
    "    vd = torch.utils.data.Subset(train_dataset, val_id)\n",
    "    tg = torch.utils.data.DataLoader(td, batch_size=len(td), shuffle=True)\n",
    "    vg = torch.utils.data.DataLoader(vd, batch_size=len(vd), shuffle=False)\n",
    "    fold_curve = []\n",
    "    for ax in tqdm(acc_vals):\n",
    "        fold_curve.append((ax, get_acceleration_scores(ax, td, vg)))\n",
    "    acceleration_fold_curve.append(fold_curve)\n",
    "with open('acceleration_fold_finetune_curve.pkl', mode='wb') as f: pickle.dump(acceleration_fold_curve, f)"
   ]
  },
  {
   "cell_type": "code",
   "execution_count": 8,
   "metadata": {},
   "outputs": [],
   "source": [
    "with open('acceleration_fold_finetune_curve.pkl', mode='rb') as f: acceleration_fold_curve = pickle.load(f)"
   ]
  },
  {
   "cell_type": "code",
   "execution_count": 9,
   "metadata": {},
   "outputs": [
    {
     "data": {
      "text/plain": [
       "(5, 12)"
      ]
     },
     "execution_count": 9,
     "metadata": {},
     "output_type": "execute_result"
    }
   ],
   "source": [
    "len(acceleration_fold_curve), len(acceleration_fold_curve[0])"
   ]
  },
  {
   "cell_type": "code",
   "execution_count": 10,
   "metadata": {},
   "outputs": [
    {
     "data": {
      "text/plain": [
       "10"
      ]
     },
     "execution_count": 10,
     "metadata": {},
     "output_type": "execute_result"
    }
   ],
   "source": [
    "acceleration_fold_curve[0][4][0]"
   ]
  },
  {
   "cell_type": "code",
   "execution_count": 11,
   "metadata": {},
   "outputs": [
    {
     "data": {
      "text/plain": [
       "(0.6448398697025636, 0.7747659865918071)"
      ]
     },
     "execution_count": 11,
     "metadata": {},
     "output_type": "execute_result"
    }
   ],
   "source": [
    "np.mean(acceleration_fold_curve[0][4][1]['center']['ssim']), np.mean(acceleration_fold_curve[0][4][1]['center']['dice'])"
   ]
  },
  {
   "cell_type": "code",
   "execution_count": 12,
   "metadata": {},
   "outputs": [
    {
     "data": {
      "text/plain": [
       "(0.6631276781569008, 0.7815656794720337)"
      ]
     },
     "execution_count": 12,
     "metadata": {},
     "output_type": "execute_result"
    }
   ],
   "source": [
    "np.mean(acceleration_fold_curve[0][4][1]['ours']['ssim']), np.mean(acceleration_fold_curve[0][4][1]['ours']['dice'])"
   ]
  },
  {
   "cell_type": "code",
   "execution_count": 13,
   "metadata": {},
   "outputs": [],
   "source": [
    "import itertools\n",
    "dice_ssim_folds = pd.DataFrame.from_dict(dict(\n",
    "    dice = list(itertools.chain.from_iterable(\n",
    "        [np.mean(ax[k]['dice']) for _, ax in fd] for k in ['center', 'fastmri', 'ours'] for fd in acceleration_fold_curve\n",
    "    )),\n",
    "    ssim = list(itertools.chain.from_iterable(\n",
    "        [np.mean(ax[k]['ssim']) for _, ax in fd] for k in ['center', 'fastmri', 'ours'] for fd in acceleration_fold_curve\n",
    "    )),\n",
    "    ax = list(itertools.chain.from_iterable(\n",
    "        [ax_val for ax_val, _ in fd] for k in ['center', 'fastmri', 'ours'] for fd in acceleration_fold_curve\n",
    "    )),\n",
    "    sampling = list(itertools.chain.from_iterable(\n",
    "        [k for _, ax in fd] for k in ['center', 'fastmri', 'ours'] for fd in acceleration_fold_curve\n",
    "    )),\n",
    "    fold = list(itertools.chain.from_iterable(\n",
    "        [i for _, ax in fd] for k in ['center', 'fastmri', 'ours'] for i, fd in enumerate(acceleration_fold_curve)\n",
    "    )),\n",
    "))"
   ]
  },
  {
   "cell_type": "code",
   "execution_count": 15,
   "metadata": {},
   "outputs": [
    {
     "data": {
      "image/png": "[encoded data removed]",
      "text/plain": [
       "<Figure size 432x288 with 1 Axes>"
      ]
     },
     "metadata": {
      "needs_background": "light"
     },
     "output_type": "display_data"
    }
   ],
   "source": [
    "sns.scatterplot(data=dice_ssim_folds.groupby(['ax', 'sampling']).mean(), x='ssim', y='dice', hue='sampling', size='ax', alpha=0.7, palette='rocket')\n",
    "plt.show()"
   ]
  },
  {
   "cell_type": "code",
   "execution_count": 16,
   "metadata": {},
   "outputs": [
    {
     "data": {
      "image/png": "[encoded data removed]",
      "text/plain": [
       "<Figure size 432x288 with 1 Axes>"
      ]
     },
     "metadata": {
      "needs_background": "light"
     },
     "output_type": "display_data"
    }
   ],
   "source": [
    "sns.scatterplot(data=dice_ssim_folds, x='ssim', y='dice', hue='sampling', size='ax', alpha=0.7, palette='rocket')\n",
    "plt.show()"
   ]
  },
  {
   "cell_type": "code",
   "execution_count": 17,
   "metadata": {},
   "outputs": [
    {
     "data": {
      "image/png": "[encoded data removed]",
      "text/plain": [
       "<Figure size 432x288 with 1 Axes>"
      ]
     },
     "metadata": {
      "needs_background": "light"
     },
     "output_type": "display_data"
    }
   ],
   "source": [
    "sns.boxplot(data=dice_ssim_folds, x='ax', y='dice', hue='sampling', palette='rocket')\n",
    "plt.show()"
   ]
  },
  {
   "cell_type": "code",
   "execution_count": 21,
   "metadata": {},
   "outputs": [
    {
     "data": {
      "text/plain": [
       "Ttest_relResult(statistic=-4.043368742153179, pvalue=0.015560647394501016)"
      ]
     },
     "execution_count": 21,
     "metadata": {},
     "output_type": "execute_result"
    }
   ],
   "source": [
    "import scipy\n",
    "scipy.stats.ttest_rel(\n",
    "    dice_ssim_folds[(dice_ssim_folds.ax==8) & (dice_ssim_folds.sampling=='center')].dice,\n",
    "    dice_ssim_folds[(dice_ssim_folds.ax==8) & (dice_ssim_folds.sampling=='ours')].dice\n",
    ")"
   ]
  },
  {
   "cell_type": "code",
   "execution_count": 22,
   "metadata": {},
   "outputs": [
    {
     "data": {
      "text/html": [
       "<div>\n",
       "<style scoped>\n",
       "    .dataframe tbody tr th:only-of-type {\n",
       "        vertical-align: middle;\n",
       "    }\n",
       "\n",
       "    .dataframe tbody tr th {\n",
       "        vertical-align: top;\n",
       "    }\n",
       "\n",
       "    .dataframe thead th {\n",
       "        text-align: right;\n",
       "    }\n",
       "</style>\n",
       "<table border=\"1\" class=\"dataframe\">\n",
       "  <thead>\n",
       "    <tr style=\"text-align: right;\">\n",
       "      <th></th>\n",
       "      <th>dice</th>\n",
       "      <th>ssim</th>\n",
       "      <th>ax</th>\n",
       "      <th>sampling</th>\n",
       "      <th>fold</th>\n",
       "    </tr>\n",
       "  </thead>\n",
       "  <tbody>\n",
       "    <tr>\n",
       "      <th>3</th>\n",
       "      <td>0.786870</td>\n",
       "      <td>0.687826</td>\n",
       "      <td>8</td>\n",
       "      <td>center</td>\n",
       "      <td>0</td>\n",
       "    </tr>\n",
       "    <tr>\n",
       "      <th>15</th>\n",
       "      <td>0.669481</td>\n",
       "      <td>0.658946</td>\n",
       "      <td>8</td>\n",
       "      <td>center</td>\n",
       "      <td>1</td>\n",
       "    </tr>\n",
       "    <tr>\n",
       "      <th>27</th>\n",
       "      <td>0.721870</td>\n",
       "      <td>0.732587</td>\n",
       "      <td>8</td>\n",
       "      <td>center</td>\n",
       "      <td>2</td>\n",
       "    </tr>\n",
       "    <tr>\n",
       "      <th>39</th>\n",
       "      <td>0.773505</td>\n",
       "      <td>0.698474</td>\n",
       "      <td>8</td>\n",
       "      <td>center</td>\n",
       "      <td>3</td>\n",
       "    </tr>\n",
       "    <tr>\n",
       "      <th>51</th>\n",
       "      <td>0.789867</td>\n",
       "      <td>0.808547</td>\n",
       "      <td>8</td>\n",
       "      <td>center</td>\n",
       "      <td>4</td>\n",
       "    </tr>\n",
       "  </tbody>\n",
       "</table>\n",
       "</div>"
      ],
      "text/plain": [
       "        dice      ssim  ax sampling  fold\n",
       "3   0.786870  0.687826   8   center     0\n",
       "15  0.669481  0.658946   8   center     1\n",
       "27  0.721870  0.732587   8   center     2\n",
       "39  0.773505  0.698474   8   center     3\n",
       "51  0.789867  0.808547   8   center     4"
      ]
     },
     "execution_count": 22,
     "metadata": {},
     "output_type": "execute_result"
    }
   ],
   "source": [
    "dice_ssim_folds[(dice_ssim_folds.ax==8) & (dice_ssim_folds.sampling=='center')]"
   ]
  },
  {
   "cell_type": "code",
   "execution_count": 23,
   "metadata": {},
   "outputs": [
    {
     "data": {
      "text/html": [
       "<div>\n",
       "<style scoped>\n",
       "    .dataframe tbody tr th:only-of-type {\n",
       "        vertical-align: middle;\n",
       "    }\n",
       "\n",
       "    .dataframe tbody tr th {\n",
       "        vertical-align: top;\n",
       "    }\n",
       "\n",
       "    .dataframe thead th {\n",
       "        text-align: right;\n",
       "    }\n",
       "</style>\n",
       "<table border=\"1\" class=\"dataframe\">\n",
       "  <thead>\n",
       "    <tr style=\"text-align: right;\">\n",
       "      <th></th>\n",
       "      <th>dice</th>\n",
       "      <th>ssim</th>\n",
       "      <th>ax</th>\n",
       "      <th>sampling</th>\n",
       "      <th>fold</th>\n",
       "    </tr>\n",
       "  </thead>\n",
       "  <tbody>\n",
       "    <tr>\n",
       "      <th>123</th>\n",
       "      <td>0.813421</td>\n",
       "      <td>0.706162</td>\n",
       "      <td>8</td>\n",
       "      <td>ours</td>\n",
       "      <td>0</td>\n",
       "    </tr>\n",
       "    <tr>\n",
       "      <th>135</th>\n",
       "      <td>0.708315</td>\n",
       "      <td>0.689617</td>\n",
       "      <td>8</td>\n",
       "      <td>ours</td>\n",
       "      <td>1</td>\n",
       "    </tr>\n",
       "    <tr>\n",
       "      <th>147</th>\n",
       "      <td>0.733195</td>\n",
       "      <td>0.750351</td>\n",
       "      <td>8</td>\n",
       "      <td>ours</td>\n",
       "      <td>2</td>\n",
       "    </tr>\n",
       "    <tr>\n",
       "      <th>159</th>\n",
       "      <td>0.788966</td>\n",
       "      <td>0.724620</td>\n",
       "      <td>8</td>\n",
       "      <td>ours</td>\n",
       "      <td>3</td>\n",
       "    </tr>\n",
       "    <tr>\n",
       "      <th>171</th>\n",
       "      <td>0.802713</td>\n",
       "      <td>0.832618</td>\n",
       "      <td>8</td>\n",
       "      <td>ours</td>\n",
       "      <td>4</td>\n",
       "    </tr>\n",
       "  </tbody>\n",
       "</table>\n",
       "</div>"
      ],
      "text/plain": [
       "         dice      ssim  ax sampling  fold\n",
       "123  0.813421  0.706162   8     ours     0\n",
       "135  0.708315  0.689617   8     ours     1\n",
       "147  0.733195  0.750351   8     ours     2\n",
       "159  0.788966  0.724620   8     ours     3\n",
       "171  0.802713  0.832618   8     ours     4"
      ]
     },
     "execution_count": 23,
     "metadata": {},
     "output_type": "execute_result"
    }
   ],
   "source": [
    "dice_ssim_folds[(dice_ssim_folds.ax==8) & (dice_ssim_folds.sampling=='ours')]"
   ]
  },
  {
   "cell_type": "code",
   "execution_count": null,
   "metadata": {},
   "outputs": [],
   "source": []
  }
 ],
 "metadata": {
  "kernelspec": {
   "display_name": "Python 3",
   "language": "python",
   "name": "python3"
  },
  "language_info": {
   "codemirror_mode": {
    "name": "ipython",
    "version": 3
   },
   "file_extension": ".py",
   "mimetype": "text/x-python",
   "name": "python",
   "nbconvert_exporter": "python",
   "pygments_lexer": "ipython3",
   "version": "3.8.3"
  }
 },
 "nbformat": 4,
 "nbformat_minor": 4
}
