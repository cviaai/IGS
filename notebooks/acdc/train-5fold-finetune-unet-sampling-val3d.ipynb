{
 "cells": [
  {
   "cell_type": "code",
   "execution_count": 1,
   "metadata": {},
   "outputs": [
    {
     "name": "stdout",
     "output_type": "stream",
     "text": [
      "env: CUDA_VISIBLE_DEVICES=3\n"
     ]
    }
   ],
   "source": [
    "%env CUDA_VISIBLE_DEVICES=3\n",
    "import sys\n",
    "sys.path.append('/home/a_razumov/projects/k-space-mri')\n",
    "import numpy as np\n",
    "import pylab as plt\n",
    "import pickle\n",
    "from tqdm.notebook import tqdm\n",
    "\n",
    "import torch\n",
    "import torch.nn.functional as F\n",
    "\n",
    "from k_space_reconstruction.utils.metrics import pt_msssim, pt_ssim\n",
    "from k_space_reconstruction.datasets.acdc import ACDCSet, ACDCTransform, RandomMaskFunc\n",
    "from k_space_reconstruction.datasets.fastmri import FastMRIh5Dataset, FastMRITransform, LegacyFastMRIh5Dataset\n",
    "from k_space_reconstruction.utils.kspace import EquispacedMaskFunc, RandomMaskFunc\n",
    "from k_space_reconstruction.utils.kspace import pt_spatial2kspace as Ft\n",
    "from k_space_reconstruction.utils.kspace import pt_kspace2spatial as IFt\n",
    "\n",
    "import os\n",
    "import sys\n",
    "from k_space_reconstruction.nets.unet import Unet\n",
    "from k_space_reconstruction.nets.enet import ENet\n",
    "from k_space_reconstruction.nets.mwcnn import MWCNN\n",
    "import datetime\n",
    "import torch\n",
    "import torchvision\n",
    "import numpy as np\n",
    "import pylab as plt\n",
    "plt.style.use('bmh')\n",
    "import albumentations\n",
    "import numpy as np\n",
    "import h5py\n",
    "import pylab as plt\n",
    "import torch\n",
    "import torch.nn.functional as F\n",
    "\n",
    "import os\n",
    "import re\n",
    "import numpy as np\n",
    "import pandas as pd\n",
    "import nibabel\n",
    "\n",
    "import torch\n",
    "import torch.utils.data\n",
    "import torchvision.transforms as transforms\n",
    "\n",
    "from os.path import isdir, join\n",
    "from typing import Callable, Dict, List, Any"
   ]
  },
  {
   "cell_type": "code",
   "execution_count": 2,
   "metadata": {},
   "outputs": [],
   "source": [
    "fig_bezzeless = lambda nc, nr : plt.subplots(ncols=nc, nrows=nr, figsize=(4 * nc, 4), dpi=120, \n",
    "                                             subplot_kw=dict(frameon=False, xticks=[], yticks=[]), \n",
    "                                             gridspec_kw=dict(wspace=0.0, hspace=0.0))\n",
    "\n",
    "\n",
    "def ce_loss(true, logits, weights, ignore=255):\n",
    "    torch.nn.CrossEntropyLoss\n",
    "    ce_loss = torch.nn.functional.cross_entropy(\n",
    "        logits.float(),\n",
    "        true.long(),\n",
    "        ignore_index=ignore,\n",
    "        weight=weights,\n",
    "    )\n",
    "    return ce_loss\n",
    "\n",
    "\n",
    "def dice_loss(true, logits, eps=1e-7):\n",
    "    num_classes = logits.shape[1]\n",
    "    if num_classes == 1:\n",
    "        true_1_hot = torch.eye(num_classes + 1)[true.squeeze(1)]\n",
    "        true_1_hot = true_1_hot.permute(0, 3, 1, 2).float()\n",
    "        true_1_hot_f = true_1_hot[:, 0:1, :, :]\n",
    "        true_1_hot_s = true_1_hot[:, 1:2, :, :]\n",
    "        true_1_hot = torch.cat([true_1_hot_s, true_1_hot_f], dim=1)\n",
    "        pos_prob = torch.sigmoid(logits)\n",
    "        neg_prob = 1 - pos_prob\n",
    "        probas = torch.cat([pos_prob, neg_prob], dim=1)\n",
    "    else:\n",
    "        true_1_hot = torch.eye(num_classes)[true.squeeze(1)]\n",
    "        true_1_hot = true_1_hot.permute(0, 3, 1, 2).float()\n",
    "        probas = torch.nn.functional.softmax(logits, dim=1)\n",
    "    true_1_hot = true_1_hot.type(logits.type())\n",
    "    dims = (0,) + tuple(range(2, true.ndimension()))\n",
    "    intersection = torch.sum(probas * true_1_hot, dims)\n",
    "    cardinality = torch.sum(probas + true_1_hot, dims)\n",
    "    dice_loss = (2. * intersection / (cardinality + eps)).mean()\n",
    "    return (1 - dice_loss)\n",
    "\n",
    "def dice_coeffs(true, logits):\n",
    "    num_classes = logits.shape[1]\n",
    "    probas = F.softmax(logits, dim=1)\n",
    "    probas[probas > 0.5] = 1; probas[probas <= 0.5] = 0\n",
    "    pmask = torch.zeros_like(true).float()\n",
    "    for i in range(1, num_classes):\n",
    "        pmask[:,0] += i * probas[:,i]\n",
    "    dice_ls = []\n",
    "    for i in range(1, num_classes):\n",
    "        yt = (true==i).float().flatten()\n",
    "        yp = (pmask==i).float().flatten()\n",
    "        intersection = torch.sum(yt * yp)\n",
    "        cardinality = torch.sum(yt + yp)\n",
    "        dice_ls.append((2. * intersection / (cardinality + 1e-7)).item())\n",
    "    return dice_ls   \n",
    "\n",
    "def finetune_model_on_sampling(train_generator, model, sampling, epochs=5, return_losses=False):\n",
    "    if not os.path.exists('acdc_unet_checkpoints'):\n",
    "        os.makedirs('acdc_unet_checkpoints')\n",
    "    losses = np.zeros(epochs)\n",
    "    checkpoints = []\n",
    "    criterion = lambda p,t : dice_loss(t, p) * .75 + ce_loss(t.squeeze(1), p, weights=None) * .25\n",
    "    metric = lambda p,t : 1 - dice_loss(t, p)\n",
    "    optimizer = torch.optim.AdamW(model.parameters(), lr=1e-4)\n",
    "    pbar = tqdm(range(epochs))\n",
    "    for epoch in pbar:\n",
    "        model = model.train()\n",
    "        for _, targets, images, means, stds in train_generator:\n",
    "            images = images.cuda(); targets = targets.cuda().long(); means = means.cuda(); stds = stds.cuda()\n",
    "            optimizer.zero_grad()\n",
    "            # backpropagate\n",
    "            images = (IFt(Ft(images * stds + means) * sampling).abs() - means) / (stds + 1e-11)\n",
    "            pred = model(images)\n",
    "            loss = criterion(pred, targets)\n",
    "            loss.backward()\n",
    "            optimizer.step()\n",
    "            losses[epoch] += loss.item() / len(train_generator)\n",
    "        model = model.train(False).eval()\n",
    "        checkpoint_path = join('acdc_unet_checkpoints', 'epoch%d.pth' % epoch)\n",
    "        torch.save(model.state_dict(), checkpoint_path)\n",
    "        checkpoints.append(checkpoint_path)\n",
    "    del optimizer\n",
    "    best_checkpoint = checkpoints[np.argmin(losses)]\n",
    "    model.load_state_dict(torch.load(best_checkpoint))\n",
    "    if return_losses:\n",
    "        return model, losses\n",
    "    else:\n",
    "        return model\n",
    "\n",
    "def train_sampling_pattern(train_generator, model, n=14):\n",
    "    c, bmasks, images, bmean, bstd = next(iter(train_generator))\n",
    "    bks = Ft(images * bstd + bmean)\n",
    "    bgt = IFt(bks).abs()\n",
    "    w = torch.zeros(256).cuda().float()\n",
    "    w[128] = 1\n",
    "    bbatch = 32\n",
    "    w_list = []\n",
    "    pbar = tqdm(range(n))\n",
    "    for count in pbar:\n",
    "        w = torch.autograd.Variable(w, requires_grad=True)\n",
    "        for j in range(bks.shape[0] // bbatch):\n",
    "            bbks = bks[bbatch*j:bbatch*(j+1)].cuda()\n",
    "            bbgt = bgt[bbatch*j:bbatch*(j+1)].cuda()\n",
    "            bbmean = bmean[bbatch*j:bbatch*(j+1)].cuda()\n",
    "            bbstd = bstd[bbatch*j:bbatch*(j+1)].cuda()\n",
    "            bbmasks = bmasks[bbatch*j:bbatch*(j+1)].cuda()\n",
    "            recs = IFt(bbks * w).abs()\n",
    "            pm = model((recs - bbmean) / (bbstd + 1e-11))\n",
    "            loss = dice_loss(bbmasks.long(), pm)\n",
    "            loss.backward()\n",
    "        for i in torch.topk(w.grad, 256, largest=False).indices:\n",
    "            if w[i] == 0: \n",
    "                w = w.detach()\n",
    "                w[i] = 1.\n",
    "                w_list.append(w.clone())\n",
    "                pbar.set_description('select: %d, loss: %.6f' % (i.item(), loss.item()))\n",
    "                break\n",
    "    return w_list\n",
    "\n",
    "def test_sampling_pattern(sampling, model, val_generator):\n",
    "    vc, vbmasks, vimages, vbmean, vbstd = next(iter(val_generator))\n",
    "    vbks = Ft(vimages * vbstd + vbmean)\n",
    "    vbgt = IFt(vbks).abs()\n",
    "    dice_scores = []\n",
    "    bbatch = 32\n",
    "    for j in tqdm(range(vbks.shape[0] // bbatch)):\n",
    "        vbbks = vbks[bbatch*j:bbatch*(j+1)].cuda()\n",
    "        vbbgt = vbgt[bbatch*j:bbatch*(j+1)].cuda()\n",
    "        vbbmean = vbmean[bbatch*j:bbatch*(j+1)].cuda()\n",
    "        vbbstd = vbstd[bbatch*j:bbatch*(j+1)].cuda()\n",
    "        vbbmasks = vbmasks[bbatch*j:bbatch*(j+1)].cuda()\n",
    "        with torch.no_grad():\n",
    "            # igs\n",
    "            recs = IFt(vbbks * sampling).abs()\n",
    "            pm = model((recs - vbbmean) / (vbbstd + 1e-11))\n",
    "            for i in range(recs.shape[0]):\n",
    "                dice_scores.append(1 - dice_loss(vbbmasks.long(), pm).item())\n",
    "    return dice_scores\n",
    "\n",
    "def test_on_classes_sampling_pattern(sampling, model, val_generator):\n",
    "    vc, vbmasks, vimages, vbmean, vbstd = next(iter(val_generator))\n",
    "    vbks = Ft(vimages * vbstd + vbmean)\n",
    "    vbgt = IFt(vbks).abs()\n",
    "    dice_scores = []\n",
    "    bbatch = 1\n",
    "    for j in tqdm(range(vbks.shape[0] // bbatch)):\n",
    "        vbbks = vbks[bbatch*j:bbatch*(j+1)].cuda()\n",
    "        vbbgt = vbgt[bbatch*j:bbatch*(j+1)].cuda()\n",
    "        vbbmean = vbmean[bbatch*j:bbatch*(j+1)].cuda()\n",
    "        vbbstd = vbstd[bbatch*j:bbatch*(j+1)].cuda()\n",
    "        vbbmasks = vbmasks[bbatch*j:bbatch*(j+1)].cuda()\n",
    "        with torch.no_grad():\n",
    "            # igs\n",
    "            recs = IFt(vbbks * sampling).abs()\n",
    "            pm = model((recs - vbbmean) / (vbbstd + 1e-11))\n",
    "            for i in range(recs.shape[0]):\n",
    "                dice_scores.append(dice_coeffs(vbbmasks.long(), pm))\n",
    "    return dice_scores\n",
    "\n",
    "class ACDCDataset(torch.utils.data.Dataset):\n",
    "    CLASSES = {0: 'NOR', 1: 'MINF', 2: 'DCM', 3: 'HCM', 4: 'RV'}\n",
    "\n",
    "    def __init__(self, hf_path: str):\n",
    "        super().__init__()\n",
    "        self.hf = h5py.File(hf_path)\n",
    "\n",
    "    def __len__(self) -> int:\n",
    "        return len(self.hf)\n",
    "\n",
    "    def __getitem__(self, item: int):\n",
    "        img = self.hf[str(item)][:1]\n",
    "        mask = self.hf[str(item)][1:]\n",
    "        c = self.hf[str(item)].attrs['class']\n",
    "        img = torch.tensor(img).float()\n",
    "        mask = torch.tensor(mask)\n",
    "        mean = img.mean()\n",
    "        std = img.std()\n",
    "        img = (img - mean) / (std + 1e-11)\n",
    "        return c, mask, img, mean.unsqueeze(0).unsqueeze(0).unsqueeze(0), std.unsqueeze(0).unsqueeze(0).unsqueeze(0)"
   ]
  },
  {
   "cell_type": "code",
   "execution_count": 3,
   "metadata": {},
   "outputs": [],
   "source": [
    "def pt_psnr(img1, img2, maxval):\n",
    "    mse = torch.mean((img1 - img2) ** 2)\n",
    "    return 20 * torch.log10(maxval / torch.sqrt(mse))"
   ]
  },
  {
   "cell_type": "code",
   "execution_count": 4,
   "metadata": {},
   "outputs": [],
   "source": [
    "train_dataset = ACDCDataset('/home/a_razumov/small_datasets/acdc_seg_h5/train.h5')\n",
    "val_dataset = ACDCDataset('/home/a_razumov/small_datasets/acdc_seg_h5/val.h5')\n",
    "train_generator = torch.utils.data.DataLoader(train_dataset, batch_size=len(train_dataset), shuffle=True, num_workers=6)\n",
    "val_generator = torch.utils.data.DataLoader(val_dataset, batch_size=len(val_dataset), shuffle=False)"
   ]
  },
  {
   "cell_type": "code",
   "execution_count": 5,
   "metadata": {},
   "outputs": [
    {
     "data": {
      "text/plain": [
       "<All keys matched successfully>"
      ]
     },
     "execution_count": 5,
     "metadata": {},
     "output_type": "execute_result"
    }
   ],
   "source": [
    "device = torch.device('cuda:0') if torch.cuda.is_available() else torch.device('cpu')\n",
    "model = Unet(1, 3+1).to(device).train(False).eval()\n",
    "model.load_state_dict(torch.load('unet-acdc-norot.pt'))"
   ]
  },
  {
   "cell_type": "markdown",
   "metadata": {},
   "source": [
    "# Eval dice classes scores x16"
   ]
  },
  {
   "cell_type": "code",
   "execution_count": 6,
   "metadata": {},
   "outputs": [
    {
     "data": {
      "application/vnd.jupyter.widget-view+json": {
       "model_id": "2f7182ef7b404ba49e646f70141196c8",
       "version_major": 2,
       "version_minor": 0
      },
      "text/plain": [
       "  0%|          | 0/514 [00:00<?, ?it/s]"
      ]
     },
     "metadata": {},
     "output_type": "display_data"
    },
    {
     "data": {
      "application/vnd.jupyter.widget-view+json": {
       "model_id": "833c44390bed4a869580c360afe71185",
       "version_major": 2,
       "version_minor": 0
      },
      "text/plain": [
       "  0%|          | 0/514 [00:00<?, ?it/s]"
      ]
     },
     "metadata": {},
     "output_type": "display_data"
    },
    {
     "data": {
      "application/vnd.jupyter.widget-view+json": {
       "model_id": "68e9cedef65440dca2c72b727fda4cf1",
       "version_major": 2,
       "version_minor": 0
      },
      "text/plain": [
       "  0%|          | 0/514 [00:00<?, ?it/s]"
      ]
     },
     "metadata": {},
     "output_type": "display_data"
    },
    {
     "data": {
      "application/vnd.jupyter.widget-view+json": {
       "model_id": "0e42ebdbd53c40ccbd4eaccca941cf1d",
       "version_major": 2,
       "version_minor": 0
      },
      "text/plain": [
       "  0%|          | 0/514 [00:00<?, ?it/s]"
      ]
     },
     "metadata": {},
     "output_type": "display_data"
    },
    {
     "name": "stdout",
     "output_type": "stream",
     "text": [
      "############## fastmri ##############\n",
      "        RV cavity      LV myo   LV cavity\n",
      "count  514.000000  514.000000  514.000000\n",
      "mean     0.570901    0.608042    0.733743\n",
      "std      0.368554    0.248067    0.312286\n",
      "min      0.000000    0.000000    0.000000\n",
      "25%      0.060875    0.495751    0.726581\n",
      "50%      0.756516    0.703333    0.875078\n",
      "75%      0.867274    0.791555    0.929952\n",
      "max      0.955239    0.919463    0.976073\n",
      "############## center ##############\n",
      "        RV cavity      LV myo   LV cavity\n",
      "count  514.000000  514.000000  514.000000\n",
      "mean     0.643160    0.652036    0.748662\n",
      "std      0.354764    0.266722    0.323344\n",
      "min      0.000000    0.000000    0.000000\n",
      "25%      0.452725    0.596957    0.779150\n",
      "50%      0.824435    0.765891    0.899645\n",
      "75%      0.902517    0.827424    0.940635\n",
      "max      0.965468    0.920667    0.984179\n",
      "############## ours ##############\n",
      "        RV cavity      LV myo   LV cavity\n",
      "count  514.000000  514.000000  514.000000\n",
      "mean     0.654976    0.725561    0.803359\n",
      "std      0.356640    0.216485    0.286742\n",
      "min      0.000000    0.000000    0.000000\n",
      "25%      0.426197    0.706429    0.852138\n",
      "50%      0.844359    0.803496    0.915623\n",
      "75%      0.911073    0.854940    0.950092\n",
      "max      0.967940    0.929915    0.982430\n",
      "############## full ##############\n",
      "        RV cavity      LV myo   LV cavity\n",
      "count  514.000000  514.000000  514.000000\n",
      "mean     0.713786    0.817886    0.864896\n",
      "std      0.363874    0.199716    0.247265\n",
      "min      0.000000    0.000000    0.000000\n",
      "25%      0.654390    0.831038    0.911014\n",
      "50%      0.910236    0.883911    0.952855\n",
      "75%      0.949416    0.915312    0.970768\n",
      "max      0.985018    0.956050    0.989652\n"
     ]
    }
   ],
   "source": [
    "fastmri_mask_x16 = torch.tensor(EquispacedMaskFunc([0.04], [16])((256, 256))[0]).cuda().float()\n",
    "zm = torch.zeros(256).cuda().float()\n",
    "zm[256//2 - int(16)//2 : 256//2 + int(16)//2] = 1\n",
    "fm = torch.ones(256).cuda().float()\n",
    "w = torch.load('sampling_igs_finetune.pt')\n",
    "\n",
    "model = Unet(1, 3+1).to(device).train(False).eval()\n",
    "model.load_state_dict(torch.load('unet-acdc-norot.pt'))\n",
    "model_zm = Unet(1, 3+1).to(device).train(False).eval()\n",
    "model_zm.load_state_dict(torch.load('model_zm.pt'))\n",
    "model_igs = Unet(1, 3+1).to(device).train(False).eval()\n",
    "model_igs.load_state_dict(torch.load('model_igs.pt'))\n",
    "model_fastmri = Unet(1, 3+1).to(device).train(False).eval()\n",
    "model_fastmri.load_state_dict(torch.load('model_fastmri.pt'))\n",
    "\n",
    "dice_class_scores = dict(\n",
    "    fastmri=test_on_classes_sampling_pattern(fastmri_mask_x16, model_fastmri, val_generator), \n",
    "    center=test_on_classes_sampling_pattern(zm, model_zm, val_generator),\n",
    "    ours=test_on_classes_sampling_pattern(w, model_igs, val_generator),\n",
    "    full=test_on_classes_sampling_pattern(fm, model, val_generator),\n",
    ")\n",
    "\n",
    "class_map = {0: 'RV cavity', 1: 'LV myo', 2: 'LV cavity'}\n",
    "for name in dice_class_scores.keys():\n",
    "    arr = np.array(dice_class_scores[name]).T\n",
    "    print('##############', name, '##############')\n",
    "    print(pd.DataFrame.from_dict({class_map[i]:arr[i] for i in range(arr.shape[0])}).describe())"
   ]
  },
  {
   "cell_type": "code",
   "execution_count": 7,
   "metadata": {},
   "outputs": [],
   "source": [
    "def dice_coeff_3d_classes(true, logits, eps=1e-11):\n",
    "    num_classes = logits.shape[0]\n",
    "    probas = torch.nn.functional.softmax(logits, dim=0)\n",
    "    probas[probas > 0.5] = 1\n",
    "    probas[probas <= 0.5] = 0\n",
    "    pmask = torch.zeros_like(true).float()\n",
    "    for i in range(1, num_classes): pmask[0] += probas[i] * i\n",
    "    dice_ls = []\n",
    "    # WT\n",
    "    true_1_hot = (true==1).float().flatten()\n",
    "    pred_1_hot = (pmask==1).float().flatten()\n",
    "    intersection = torch.sum(pred_1_hot * true_1_hot)\n",
    "    cardinality = torch.sum(pred_1_hot + true_1_hot)\n",
    "    dice_ls.append((2. * intersection / (cardinality + eps)).item())\n",
    "    # ET\n",
    "    true_1_hot = (true==2).float().flatten()\n",
    "    pred_1_hot = (pmask==2).float().flatten()\n",
    "    intersection = torch.sum(pred_1_hot * true_1_hot)\n",
    "    cardinality = torch.sum(pred_1_hot + true_1_hot)\n",
    "    dice_ls.append((2. * intersection / (cardinality + eps)).item())\n",
    "    # TC\n",
    "    true_1_hot = (true==3).float().flatten()\n",
    "    pred_1_hot = (pmask==3).float().flatten()\n",
    "    intersection = torch.sum(pred_1_hot * true_1_hot)\n",
    "    cardinality = torch.sum(pred_1_hot + true_1_hot)\n",
    "    dice_ls.append((2. * intersection / (cardinality + eps)).item())\n",
    "    return dice_ls\n",
    "\n",
    "def test_3d_on_classes_sampling_pattern(sampling, model, val_3d_dataset):\n",
    "    dice_scores = []\n",
    "    with torch.no_grad():\n",
    "        for i in tqdm(range(len(val_3d_dataset))):\n",
    "            _, mask, img, mean, std = val_3d_dataset[i]\n",
    "            mask = mask.cuda(); img = img.cuda(); mean = mean.cuda(); std = std.cuda()\n",
    "            ks = Ft(img * std + mean)\n",
    "            img = (IFt(ks * sampling).abs() - mean) / (std + 1e-11)\n",
    "            pred = model(img.movedim(1,0))\n",
    "            dice_scores.append(dice_coeff_3d_classes(mask, pred.movedim(1,0)))\n",
    "    return dice_scores\n",
    "\n",
    "class ACDCDataset3D(torch.utils.data.Dataset):\n",
    "    CLASSES = {0: 'NOR', 1: 'MINF', 2: 'DCM', 3: 'HCM', 4: 'RV'}\n",
    "\n",
    "    def __init__(self, hf_path: str):\n",
    "        super().__init__()\n",
    "        self.hf = h5py.File(hf_path)\n",
    "        self.vols = []\n",
    "        for k in self.hf.keys():\n",
    "            for kk in self.hf[k].keys():\n",
    "                self.vols.append((k, kk))\n",
    "\n",
    "    def __len__(self) -> int:\n",
    "        return len(self.vols)\n",
    "\n",
    "    def __getitem__(self, item: int):\n",
    "        k, kk = self.vols[item]\n",
    "        vol = self.hf[k][kk][:1]\n",
    "        mask = self.hf[k][kk][1:]\n",
    "        \n",
    "        vol = torch.tensor(vol).float()\n",
    "        mask = torch.tensor(mask)\n",
    "        mean = vol.mean()\n",
    "        std = vol.std()\n",
    "        vol = (vol - mean) / (std + 1e-11)\n",
    "        return _, mask, vol, mean.unsqueeze(0).unsqueeze(0).unsqueeze(0), std.unsqueeze(0).unsqueeze(0).unsqueeze(0)"
   ]
  },
  {
   "cell_type": "code",
   "execution_count": 8,
   "metadata": {},
   "outputs": [
    {
     "data": {
      "text/plain": [
       "60"
      ]
     },
     "execution_count": 8,
     "metadata": {},
     "output_type": "execute_result"
    }
   ],
   "source": [
    "dataset = ACDCDataset3D('/home/a_razumov/small_datasets/acdc_seg_h5/val_3d.h5')\n",
    "len(dataset)"
   ]
  },
  {
   "cell_type": "code",
   "execution_count": 9,
   "metadata": {},
   "outputs": [
    {
     "data": {
      "application/vnd.jupyter.widget-view+json": {
       "model_id": "a9f639c171164f03b9f9e964ca37bd04",
       "version_major": 2,
       "version_minor": 0
      },
      "text/plain": [
       "  0%|          | 0/60 [00:00<?, ?it/s]"
      ]
     },
     "metadata": {},
     "output_type": "display_data"
    },
    {
     "data": {
      "application/vnd.jupyter.widget-view+json": {
       "model_id": "0281cadbe76a4d1181996355221c2fc0",
       "version_major": 2,
       "version_minor": 0
      },
      "text/plain": [
       "  0%|          | 0/60 [00:00<?, ?it/s]"
      ]
     },
     "metadata": {},
     "output_type": "display_data"
    },
    {
     "data": {
      "application/vnd.jupyter.widget-view+json": {
       "model_id": "98912bac3c21491fabc2beb5ab522caf",
       "version_major": 2,
       "version_minor": 0
      },
      "text/plain": [
       "  0%|          | 0/60 [00:00<?, ?it/s]"
      ]
     },
     "metadata": {},
     "output_type": "display_data"
    },
    {
     "data": {
      "application/vnd.jupyter.widget-view+json": {
       "model_id": "af80617e0109454f973cf5197977f354",
       "version_major": 2,
       "version_minor": 0
      },
      "text/plain": [
       "  0%|          | 0/60 [00:00<?, ?it/s]"
      ]
     },
     "metadata": {},
     "output_type": "display_data"
    },
    {
     "name": "stdout",
     "output_type": "stream",
     "text": [
      "############## fastmri ##############\n",
      "       RV cavity     LV myo  LV cavity\n",
      "count  60.000000  60.000000  60.000000\n",
      "mean    0.755818   0.674894   0.824802\n",
      "std     0.159026   0.120011   0.145496\n",
      "min     0.201615   0.214550   0.000000\n",
      "25%     0.726278   0.634003   0.778480\n",
      "50%     0.814487   0.702468   0.863142\n",
      "75%     0.857020   0.752714   0.919749\n",
      "max     0.912220   0.856371   0.945507\n",
      "############## center ##############\n",
      "       RV cavity     LV myo  LV cavity\n",
      "count  60.000000  60.000000  60.000000\n",
      "mean    0.787669   0.716047   0.843867\n",
      "std     0.134292   0.114170   0.150441\n",
      "min     0.337143   0.340596   0.000000\n",
      "25%     0.733063   0.702850   0.818256\n",
      "50%     0.829629   0.751405   0.885327\n",
      "75%     0.880376   0.779804   0.928083\n",
      "max     0.934095   0.867461   0.959381\n",
      "############## ours ##############\n",
      "       RV cavity     LV myo  LV cavity\n",
      "count  60.000000  60.000000  60.000000\n",
      "mean    0.812912   0.771035   0.881975\n",
      "std     0.121511   0.079224   0.104221\n",
      "min     0.390540   0.444542   0.315881\n",
      "25%     0.783680   0.742910   0.854335\n",
      "50%     0.842471   0.793977   0.899216\n",
      "75%     0.893694   0.822433   0.945871\n",
      "max     0.949216   0.864123   0.962170\n",
      "############## full ##############\n",
      "       RV cavity     LV myo  LV cavity\n",
      "count  60.000000  60.000000  60.000000\n",
      "mean    0.867778   0.864935   0.930580\n",
      "std     0.117375   0.048668   0.065102\n",
      "min     0.236422   0.696567   0.582278\n",
      "25%     0.828208   0.845954   0.921248\n",
      "50%     0.912357   0.873573   0.952332\n",
      "75%     0.941682   0.897881   0.968809\n",
      "max     0.973015   0.924708   0.984619\n"
     ]
    }
   ],
   "source": [
    "fastmri_mask_x16 = torch.tensor(EquispacedMaskFunc([0.04], [16])((256, 256))[0]).cuda().float()\n",
    "zm = torch.zeros(256).cuda().float()\n",
    "zm[256//2 - int(16)//2 : 256//2 + int(16)//2] = 1\n",
    "fm = torch.ones(256).cuda().float()\n",
    "w = torch.load('sampling_igs_finetune.pt')\n",
    "\n",
    "model = Unet(1, 3+1).to(device).train(False).eval()\n",
    "model.load_state_dict(torch.load('unet-acdc-norot.pt'))\n",
    "model_zm = Unet(1, 3+1).to(device).train(False).eval()\n",
    "model_zm.load_state_dict(torch.load('model_zm.pt'))\n",
    "model_igs = Unet(1, 3+1).to(device).train(False).eval()\n",
    "model_igs.load_state_dict(torch.load('model_igs.pt'))\n",
    "model_fastmri = Unet(1, 3+1).to(device).train(False).eval()\n",
    "model_fastmri.load_state_dict(torch.load('model_fastmri.pt'))\n",
    "\n",
    "dice_class_scores = dict(\n",
    "    fastmri=test_3d_on_classes_sampling_pattern(fastmri_mask_x16, model_fastmri, dataset), \n",
    "    center=test_3d_on_classes_sampling_pattern(zm, model_zm, dataset),\n",
    "    ours=test_3d_on_classes_sampling_pattern(w, model_igs, dataset),\n",
    "    full=test_3d_on_classes_sampling_pattern(fm, model, dataset),\n",
    ")\n",
    "\n",
    "class_map = {0: 'RV cavity', 1: 'LV myo', 2: 'LV cavity'}\n",
    "for name in dice_class_scores.keys():\n",
    "    arr = np.array(dice_class_scores[name]).T\n",
    "    print('##############', name, '##############')\n",
    "    print(pd.DataFrame.from_dict({class_map[i]:arr[i] for i in range(arr.shape[0])}).describe())"
   ]
  },
  {
   "cell_type": "code",
   "execution_count": null,
   "metadata": {},
   "outputs": [],
   "source": [
    " "
   ]
  }
 ],
 "metadata": {
  "kernelspec": {
   "display_name": "Python 3",
   "language": "python",
   "name": "python3"
  },
  "language_info": {
   "codemirror_mode": {
    "name": "ipython",
    "version": 3
   },
   "file_extension": ".py",
   "mimetype": "text/x-python",
   "name": "python",
   "nbconvert_exporter": "python",
   "pygments_lexer": "ipython3",
   "version": "3.8.8"
  }
 },
 "nbformat": 4,
 "nbformat_minor": 4
}
