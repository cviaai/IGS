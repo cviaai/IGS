{
 "cells": [
  {
   "cell_type": "code",
   "execution_count": 1,
   "metadata": {},
   "outputs": [
    {
     "name": "stdout",
     "output_type": "stream",
     "text": [
      "env: CUDA_VISIBLE_DEVICES=2\n"
     ]
    }
   ],
   "source": [
    "%env CUDA_VISIBLE_DEVICES=2\n",
    "import sys\n",
    "sys.path.append('/home/a_razumov/projects/k-space-mri')\n",
    "import numpy as np\n",
    "import pylab as plt\n",
    "import pickle\n",
    "from tqdm.notebook import tqdm\n",
    "\n",
    "import torch\n",
    "import torch.nn.functional as F\n",
    "\n",
    "from k_space_reconstruction.utils.metrics import pt_msssim, pt_ssim\n",
    "from k_space_reconstruction.datasets.acdc import ACDCSet, ACDCTransform, RandomMaskFunc\n",
    "from k_space_reconstruction.datasets.fastmri import FastMRIh5Dataset, FastMRITransform, LegacyFastMRIh5Dataset\n",
    "from k_space_reconstruction.utils.kspace import EquispacedMaskFunc, RandomMaskFunc\n",
    "from k_space_reconstruction.utils.kspace import pt_spatial2kspace as Ft\n",
    "from k_space_reconstruction.utils.kspace import pt_kspace2spatial as IFt\n",
    "\n",
    "import os\n",
    "import sys\n",
    "from k_space_reconstruction.nets.unet import Unet\n",
    "from k_space_reconstruction.nets.enet import ENet\n",
    "from k_space_reconstruction.nets.mwcnn import MWCNN\n",
    "import datetime\n",
    "import torch\n",
    "import torchvision\n",
    "import numpy as np\n",
    "import pylab as plt\n",
    "plt.style.use('bmh')\n",
    "import albumentations\n",
    "import numpy as np\n",
    "import h5py\n",
    "import pylab as plt\n",
    "import torch\n",
    "import torch.nn.functional as F\n",
    "\n",
    "import os\n",
    "import re\n",
    "import numpy as np\n",
    "import pandas as pd\n",
    "import nibabel\n",
    "\n",
    "import torch\n",
    "import torch.utils.data\n",
    "import torchvision.transforms as transforms\n",
    "\n",
    "from os.path import isdir, join\n",
    "from typing import Callable, Dict, List, Any"
   ]
  },
  {
   "cell_type": "code",
   "execution_count": 2,
   "metadata": {},
   "outputs": [],
   "source": [
    "fig_bezzeless = lambda nc, nr : plt.subplots(ncols=nc, nrows=nr, figsize=(4 * nc, 4), dpi=120, \n",
    "                                             subplot_kw=dict(frameon=False, xticks=[], yticks=[]), \n",
    "                                             gridspec_kw=dict(wspace=0.0, hspace=0.0))\n",
    "\n",
    "\n",
    "def ce_loss(true, logits, weights, ignore=255):\n",
    "    torch.nn.CrossEntropyLoss\n",
    "    ce_loss = torch.nn.functional.cross_entropy(\n",
    "        logits.float(),\n",
    "        true.long(),\n",
    "        ignore_index=ignore,\n",
    "        weight=weights,\n",
    "    )\n",
    "    return ce_loss\n",
    "\n",
    "\n",
    "def dice_loss(true, logits, eps=1e-7):\n",
    "    num_classes = logits.shape[1]\n",
    "    if num_classes == 1:\n",
    "        true_1_hot = torch.eye(num_classes + 1)[true.squeeze(1)]\n",
    "        true_1_hot = true_1_hot.permute(0, 3, 1, 2).float()\n",
    "        true_1_hot_f = true_1_hot[:, 0:1, :, :]\n",
    "        true_1_hot_s = true_1_hot[:, 1:2, :, :]\n",
    "        true_1_hot = torch.cat([true_1_hot_s, true_1_hot_f], dim=1)\n",
    "        pos_prob = torch.sigmoid(logits)\n",
    "        neg_prob = 1 - pos_prob\n",
    "        probas = torch.cat([pos_prob, neg_prob], dim=1)\n",
    "    else:\n",
    "        true_1_hot = torch.eye(num_classes)[true.squeeze(1)]\n",
    "        true_1_hot = true_1_hot.permute(0, 3, 1, 2).float()\n",
    "        probas = torch.nn.functional.softmax(logits, dim=1)\n",
    "    true_1_hot = true_1_hot.type(logits.type())\n",
    "    dims = (0,) + tuple(range(2, true.ndimension()))\n",
    "    intersection = torch.sum(probas * true_1_hot, dims)\n",
    "    cardinality = torch.sum(probas + true_1_hot, dims)\n",
    "    dice_loss = (2. * intersection / (cardinality + eps)).mean()\n",
    "    return (1 - dice_loss)\n",
    "\n",
    "def dice_coeffs(true, logits):\n",
    "    num_classes = logits.shape[1]\n",
    "    probas = F.softmax(logits, dim=1)\n",
    "    probas[probas > 0.5] = 1; probas[probas <= 0.5] = 0\n",
    "    pmask = torch.zeros_like(true).float()\n",
    "    for i in range(1, num_classes):\n",
    "        pmask[:,0] += i * probas[:,i]\n",
    "    dice_ls = []\n",
    "    for i in range(1, num_classes):\n",
    "        yt = (true==i).float().flatten()\n",
    "        yp = (pmask==i).float().flatten()\n",
    "        intersection = torch.sum(yt * yp)\n",
    "        cardinality = torch.sum(yt + yp)\n",
    "        dice_ls.append((2. * intersection / (cardinality + 1e-7)).item())\n",
    "    return dice_ls        \n",
    "\n",
    "def train_sampling_pattern(train_generator, model, n=14):\n",
    "    criterion = lambda p,t : dice_loss(t, p) * .75 + ce_loss(t.squeeze(1), p, weights=None) * .25\n",
    "    c, bmasks, images, bmean, bstd = next(iter(train_generator))\n",
    "    bks = Ft(images * bstd + bmean)\n",
    "    bgt = IFt(bks).abs()\n",
    "    w = torch.zeros(256, 256).cuda().float()\n",
    "    w[:,128] = 1\n",
    "    bbatch = 32\n",
    "    w_list = []\n",
    "    pbar = tqdm(range(n))\n",
    "    for count in pbar:\n",
    "        w = torch.autograd.Variable(w, requires_grad=True)\n",
    "        for j in range(bks.shape[0] // bbatch):\n",
    "            bbks = bks[bbatch*j:bbatch*(j+1)].cuda()\n",
    "            bbgt = bgt[bbatch*j:bbatch*(j+1)].cuda()\n",
    "            bbmean = bmean[bbatch*j:bbatch*(j+1)].cuda()\n",
    "            bbstd = bstd[bbatch*j:bbatch*(j+1)].cuda()\n",
    "            bbmasks = bmasks[bbatch*j:bbatch*(j+1)].cuda()\n",
    "            recs = IFt(bbks * w).abs()\n",
    "            pm = model((recs - bbmean) / (bbstd + 1e-11))\n",
    "            loss = criterion(pm, bbmasks.long())\n",
    "            loss.backward()\n",
    "        for i in torch.topk(w.grad.flatten(), 256*256, largest=False).indices:\n",
    "            if w.flatten()[i] == 0: \n",
    "                w = w.detach().flatten()\n",
    "                w[i] = 1.\n",
    "                w = w.unflatten(0, (256,256))\n",
    "                w_list.append(w.clone().cpu())\n",
    "                pbar.set_description('select: %d, loss: %.6f' % (i.item(), loss.item()))\n",
    "                break\n",
    "    return w_list\n",
    "\n",
    "def test_sampling_pattern(sampling, model, val_generator):\n",
    "    vc, vbmasks, vimages, vbmean, vbstd = next(iter(val_generator))\n",
    "    vbks = Ft(vimages * vbstd + vbmean)\n",
    "    vbgt = IFt(vbks).abs()\n",
    "    dice_scores = []\n",
    "    bbatch = 1\n",
    "    for j in tqdm(range(vbks.shape[0] // bbatch)):\n",
    "        vbbks = vbks[bbatch*j:bbatch*(j+1)].cuda()\n",
    "        vbbgt = vbgt[bbatch*j:bbatch*(j+1)].cuda()\n",
    "        vbbmean = vbmean[bbatch*j:bbatch*(j+1)].cuda()\n",
    "        vbbstd = vbstd[bbatch*j:bbatch*(j+1)].cuda()\n",
    "        vbbmasks = vbmasks[bbatch*j:bbatch*(j+1)].cuda()\n",
    "        with torch.no_grad():\n",
    "            # igs\n",
    "            recs = IFt(vbbks * sampling).abs()\n",
    "            pm = model((recs - vbbmean) / (vbbstd + 1e-11))\n",
    "            for i in range(recs.shape[0]):\n",
    "                dice_scores.append(1 - dice_loss(vbbmasks.long(), pm).item())\n",
    "    return dice_scores\n",
    "\n",
    "def test_on_classes_sampling_pattern(sampling, model, val_generator):\n",
    "    vc, vbmasks, vimages, vbmean, vbstd = next(iter(val_generator))\n",
    "    vbks = Ft(vimages * vbstd + vbmean)\n",
    "    vbgt = IFt(vbks).abs()\n",
    "    dice_scores = []\n",
    "    bbatch = 1\n",
    "    for j in tqdm(range(vbks.shape[0] // bbatch)):\n",
    "        vbbks = vbks[bbatch*j:bbatch*(j+1)].cuda()\n",
    "        vbbgt = vbgt[bbatch*j:bbatch*(j+1)].cuda()\n",
    "        vbbmean = vbmean[bbatch*j:bbatch*(j+1)].cuda()\n",
    "        vbbstd = vbstd[bbatch*j:bbatch*(j+1)].cuda()\n",
    "        vbbmasks = vbmasks[bbatch*j:bbatch*(j+1)].cuda()\n",
    "        with torch.no_grad():\n",
    "            # igs\n",
    "            recs = IFt(vbbks * sampling).abs()\n",
    "            pm = model((recs - vbbmean) / (vbbstd + 1e-11))\n",
    "            for i in range(recs.shape[0]):\n",
    "                dice_scores.append(dice_coeffs(vbbmasks.long(), pm))\n",
    "    return dice_scores\n",
    "\n",
    "class ACDCDataset(torch.utils.data.Dataset):\n",
    "    CLASSES = {0: 'NOR', 1: 'MINF', 2: 'DCM', 3: 'HCM', 4: 'RV'}\n",
    "\n",
    "    def __init__(self, hf_path: str):\n",
    "        super().__init__()\n",
    "        self.hf = h5py.File(hf_path)\n",
    "\n",
    "    def __len__(self) -> int:\n",
    "        return len(self.hf)\n",
    "\n",
    "    def __getitem__(self, item: int):\n",
    "        img = self.hf[str(item)][:1]\n",
    "        mask = self.hf[str(item)][1:]\n",
    "        c = self.hf[str(item)].attrs['class']\n",
    "        img = torch.tensor(img).float()\n",
    "        mask = torch.tensor(mask)\n",
    "        mean = img.mean()\n",
    "        std = img.std()\n",
    "        img = (img - mean) / (std + 1e-11)\n",
    "        return c, mask, img, mean.unsqueeze(0).unsqueeze(0).unsqueeze(0), std.unsqueeze(0).unsqueeze(0).unsqueeze(0)"
   ]
  },
  {
   "cell_type": "code",
   "execution_count": 3,
   "metadata": {},
   "outputs": [],
   "source": [
    "def pt_psnr(img1, img2, maxval):\n",
    "    mse = torch.mean((img1 - img2) ** 2)\n",
    "    return 20 * torch.log10(maxval / torch.sqrt(mse))"
   ]
  },
  {
   "cell_type": "code",
   "execution_count": 4,
   "metadata": {},
   "outputs": [],
   "source": [
    "np.random.seed(42)\n",
    "torch.manual_seed(42)\n",
    "train_dataset = ACDCDataset('/home/a_razumov/small_datasets/acdc_seg_h5/train.h5')\n",
    "val_dataset = ACDCDataset('/home/a_razumov/small_datasets/acdc_seg_h5/val.h5')\n",
    "train_generator = torch.utils.data.DataLoader(train_dataset, batch_size=len(train_dataset), shuffle=True, num_workers=6)\n",
    "val_generator = torch.utils.data.DataLoader(val_dataset, batch_size=len(val_dataset), shuffle=False)"
   ]
  },
  {
   "cell_type": "code",
   "execution_count": 5,
   "metadata": {},
   "outputs": [
    {
     "data": {
      "text/plain": [
       "<All keys matched successfully>"
      ]
     },
     "execution_count": 5,
     "metadata": {},
     "output_type": "execute_result"
    }
   ],
   "source": [
    "device = torch.device('cuda:0') if torch.cuda.is_available() else torch.device('cpu')\n",
    "model = Unet(1, 3+1).to(device).train(False).eval()\n",
    "for p in model.parameters():\n",
    "    p.requires_grad = False\n",
    "model.load_state_dict(torch.load('unet-acdc-norot.pt'))"
   ]
  },
  {
   "cell_type": "markdown",
   "metadata": {},
   "source": [
    "# 5-fold validation x16"
   ]
  },
  {
   "cell_type": "code",
   "execution_count": 6,
   "metadata": {
    "collapsed": true,
    "jupyter": {
     "outputs_hidden": true
    }
   },
   "outputs": [
    {
     "data": {
      "application/vnd.jupyter.widget-view+json": {
       "model_id": "40ac1372a0d74580a336c6d2749c29fc",
       "version_major": 2,
       "version_minor": 0
      },
      "text/plain": [
       "HBox(children=(HTML(value=''), FloatProgress(value=0.0, max=16.0), HTML(value='')))"
      ]
     },
     "metadata": {},
     "output_type": "display_data"
    },
    {
     "name": "stdout",
     "output_type": "stream",
     "text": [
      "\n"
     ]
    },
    {
     "data": {
      "application/vnd.jupyter.widget-view+json": {
       "model_id": "06e0c86aff964499948edb2500a57513",
       "version_major": 2,
       "version_minor": 0
      },
      "text/plain": [
       "HBox(children=(HTML(value=''), FloatProgress(value=0.0, max=7.0), HTML(value='')))"
      ]
     },
     "metadata": {},
     "output_type": "display_data"
    },
    {
     "name": "stdout",
     "output_type": "stream",
     "text": [
      "\n"
     ]
    },
    {
     "data": {
      "application/vnd.jupyter.widget-view+json": {
       "model_id": "7ea09d976efb443aa988bb2f0ea0c806",
       "version_major": 2,
       "version_minor": 0
      },
      "text/plain": [
       "HBox(children=(HTML(value=''), FloatProgress(value=0.0, max=7.0), HTML(value='')))"
      ]
     },
     "metadata": {},
     "output_type": "display_data"
    },
    {
     "name": "stdout",
     "output_type": "stream",
     "text": [
      "\n"
     ]
    },
    {
     "data": {
      "application/vnd.jupyter.widget-view+json": {
       "model_id": "2a3a58955d8e4128ba3a0e95454902a7",
       "version_major": 2,
       "version_minor": 0
      },
      "text/plain": [
       "HBox(children=(HTML(value=''), FloatProgress(value=0.0, max=7.0), HTML(value='')))"
      ]
     },
     "metadata": {},
     "output_type": "display_data"
    },
    {
     "name": "stdout",
     "output_type": "stream",
     "text": [
      "\n"
     ]
    },
    {
     "data": {
      "application/vnd.jupyter.widget-view+json": {
       "model_id": "87888c43e1d44040bf90eb4e99c29eec",
       "version_major": 2,
       "version_minor": 0
      },
      "text/plain": [
       "HBox(children=(HTML(value=''), FloatProgress(value=0.0, max=16.0), HTML(value='')))"
      ]
     },
     "metadata": {},
     "output_type": "display_data"
    },
    {
     "name": "stdout",
     "output_type": "stream",
     "text": [
      "\n"
     ]
    },
    {
     "data": {
      "application/vnd.jupyter.widget-view+json": {
       "model_id": "8dd164fa75c54882ab454d425ee5e588",
       "version_major": 2,
       "version_minor": 0
      },
      "text/plain": [
       "HBox(children=(HTML(value=''), FloatProgress(value=0.0, max=7.0), HTML(value='')))"
      ]
     },
     "metadata": {},
     "output_type": "display_data"
    },
    {
     "name": "stdout",
     "output_type": "stream",
     "text": [
      "\n"
     ]
    },
    {
     "data": {
      "application/vnd.jupyter.widget-view+json": {
       "model_id": "7b3c463dd68d45858d80afbce2746496",
       "version_major": 2,
       "version_minor": 0
      },
      "text/plain": [
       "HBox(children=(HTML(value=''), FloatProgress(value=0.0, max=7.0), HTML(value='')))"
      ]
     },
     "metadata": {},
     "output_type": "display_data"
    },
    {
     "name": "stdout",
     "output_type": "stream",
     "text": [
      "\n"
     ]
    },
    {
     "data": {
      "application/vnd.jupyter.widget-view+json": {
       "model_id": "4c0c36f34202419eb773587ab32bcf76",
       "version_major": 2,
       "version_minor": 0
      },
      "text/plain": [
       "HBox(children=(HTML(value=''), FloatProgress(value=0.0, max=7.0), HTML(value='')))"
      ]
     },
     "metadata": {},
     "output_type": "display_data"
    },
    {
     "name": "stdout",
     "output_type": "stream",
     "text": [
      "\n"
     ]
    },
    {
     "data": {
      "application/vnd.jupyter.widget-view+json": {
       "model_id": "68e14a8cfa2f498484d8ee81d26b670c",
       "version_major": 2,
       "version_minor": 0
      },
      "text/plain": [
       "HBox(children=(HTML(value=''), FloatProgress(value=0.0, max=16.0), HTML(value='')))"
      ]
     },
     "metadata": {},
     "output_type": "display_data"
    },
    {
     "name": "stdout",
     "output_type": "stream",
     "text": [
      "\n"
     ]
    },
    {
     "data": {
      "application/vnd.jupyter.widget-view+json": {
       "model_id": "0fc29e1a6ff047e9992bd00925b4a95f",
       "version_major": 2,
       "version_minor": 0
      },
      "text/plain": [
       "HBox(children=(HTML(value=''), FloatProgress(value=0.0, max=7.0), HTML(value='')))"
      ]
     },
     "metadata": {},
     "output_type": "display_data"
    },
    {
     "name": "stdout",
     "output_type": "stream",
     "text": [
      "\n"
     ]
    },
    {
     "data": {
      "application/vnd.jupyter.widget-view+json": {
       "model_id": "e9db44c408184add9b090c09f03dfea1",
       "version_major": 2,
       "version_minor": 0
      },
      "text/plain": [
       "HBox(children=(HTML(value=''), FloatProgress(value=0.0, max=7.0), HTML(value='')))"
      ]
     },
     "metadata": {},
     "output_type": "display_data"
    },
    {
     "name": "stdout",
     "output_type": "stream",
     "text": [
      "\n"
     ]
    },
    {
     "data": {
      "application/vnd.jupyter.widget-view+json": {
       "model_id": "a7fbd6df092d4a3593f0e84c1db23083",
       "version_major": 2,
       "version_minor": 0
      },
      "text/plain": [
       "HBox(children=(HTML(value=''), FloatProgress(value=0.0, max=7.0), HTML(value='')))"
      ]
     },
     "metadata": {},
     "output_type": "display_data"
    },
    {
     "name": "stdout",
     "output_type": "stream",
     "text": [
      "\n"
     ]
    },
    {
     "data": {
      "application/vnd.jupyter.widget-view+json": {
       "model_id": "0fbdead652d64480b712d704861817ba",
       "version_major": 2,
       "version_minor": 0
      },
      "text/plain": [
       "HBox(children=(HTML(value=''), FloatProgress(value=0.0, max=16.0), HTML(value='')))"
      ]
     },
     "metadata": {},
     "output_type": "display_data"
    },
    {
     "name": "stdout",
     "output_type": "stream",
     "text": [
      "\n"
     ]
    },
    {
     "data": {
      "application/vnd.jupyter.widget-view+json": {
       "model_id": "4d20be2149864a008aa34f3b1fc944b5",
       "version_major": 2,
       "version_minor": 0
      },
      "text/plain": [
       "HBox(children=(HTML(value=''), FloatProgress(value=0.0, max=7.0), HTML(value='')))"
      ]
     },
     "metadata": {},
     "output_type": "display_data"
    },
    {
     "name": "stdout",
     "output_type": "stream",
     "text": [
      "\n"
     ]
    },
    {
     "data": {
      "application/vnd.jupyter.widget-view+json": {
       "model_id": "a92ac22d6d4048c1af4e155115fcc3f6",
       "version_major": 2,
       "version_minor": 0
      },
      "text/plain": [
       "HBox(children=(HTML(value=''), FloatProgress(value=0.0, max=7.0), HTML(value='')))"
      ]
     },
     "metadata": {},
     "output_type": "display_data"
    },
    {
     "name": "stdout",
     "output_type": "stream",
     "text": [
      "\n"
     ]
    },
    {
     "data": {
      "application/vnd.jupyter.widget-view+json": {
       "model_id": "e89cba869e314d65ac19ed53a8a5b191",
       "version_major": 2,
       "version_minor": 0
      },
      "text/plain": [
       "HBox(children=(HTML(value=''), FloatProgress(value=0.0, max=7.0), HTML(value='')))"
      ]
     },
     "metadata": {},
     "output_type": "display_data"
    },
    {
     "name": "stdout",
     "output_type": "stream",
     "text": [
      "\n"
     ]
    },
    {
     "data": {
      "application/vnd.jupyter.widget-view+json": {
       "model_id": "a09d24805476491581d1eb3249de5ae8",
       "version_major": 2,
       "version_minor": 0
      },
      "text/plain": [
       "HBox(children=(HTML(value=''), FloatProgress(value=0.0, max=16.0), HTML(value='')))"
      ]
     },
     "metadata": {},
     "output_type": "display_data"
    },
    {
     "name": "stdout",
     "output_type": "stream",
     "text": [
      "\n"
     ]
    },
    {
     "data": {
      "application/vnd.jupyter.widget-view+json": {
       "model_id": "844f06a4982f4f03a24eadc5caa64149",
       "version_major": 2,
       "version_minor": 0
      },
      "text/plain": [
       "HBox(children=(HTML(value=''), FloatProgress(value=0.0, max=7.0), HTML(value='')))"
      ]
     },
     "metadata": {},
     "output_type": "display_data"
    },
    {
     "name": "stdout",
     "output_type": "stream",
     "text": [
      "\n"
     ]
    },
    {
     "data": {
      "application/vnd.jupyter.widget-view+json": {
       "model_id": "d72cadff6dcc4b5888141011d44d9469",
       "version_major": 2,
       "version_minor": 0
      },
      "text/plain": [
       "HBox(children=(HTML(value=''), FloatProgress(value=0.0, max=7.0), HTML(value='')))"
      ]
     },
     "metadata": {},
     "output_type": "display_data"
    },
    {
     "name": "stdout",
     "output_type": "stream",
     "text": [
      "\n"
     ]
    },
    {
     "data": {
      "application/vnd.jupyter.widget-view+json": {
       "model_id": "689f7e4ac6e7484f8024ac945ac26c3e",
       "version_major": 2,
       "version_minor": 0
      },
      "text/plain": [
       "HBox(children=(HTML(value=''), FloatProgress(value=0.0, max=7.0), HTML(value='')))"
      ]
     },
     "metadata": {},
     "output_type": "display_data"
    },
    {
     "name": "stdout",
     "output_type": "stream",
     "text": [
      "\n"
     ]
    }
   ],
   "source": [
    "from collections import defaultdict\n",
    "from sklearn.model_selection import KFold\n",
    "\n",
    "fastmri_mask_x16 = torch.tensor(EquispacedMaskFunc([0.04], [16])((256, 256))[0]).cuda().float()\n",
    "zm = torch.zeros(256,256).cuda().float()\n",
    "zm[256//2 - int(16)//2 : 256//2 + int(16)//2, 256//2 - int(16)//2 : 256//2 + int(16)//2] = 1\n",
    "fm = torch.ones(256).cuda().float()\n",
    "\n",
    "dice_fold_scores = defaultdict(dict)\n",
    "\n",
    "for i, (train_id, val_id) in enumerate(KFold(shuffle=False).split(range(len(train_dataset)))):\n",
    "    td = torch.utils.data.Subset(train_dataset, train_id)\n",
    "    vd = torch.utils.data.Subset(train_dataset, val_id)\n",
    "    tg = torch.utils.data.DataLoader(td, batch_size=len(td), shuffle=True)\n",
    "    vg = torch.utils.data.DataLoader(vd, batch_size=len(vd), shuffle=False)\n",
    "    w_list = train_sampling_pattern(tg, model, n=16)\n",
    "    dice_fold_scores[i] = dict(\n",
    "        ours=test_sampling_pattern(w_list[14], model, vg),\n",
    "        fastmri=test_sampling_pattern(fastmri_mask_x16, model, vg), \n",
    "        center=test_sampling_pattern(zm, model, vg),\n",
    "    )\n",
    "fold_scores = [{k:[vv for vv in v] for k,v in dv.items()} for dv in dice_fold_scores.values()]\n",
    "with open('unet_fold_scores.pkl', mode='wb') as f: pickle.dump(fold_scores, f)"
   ]
  },
  {
   "cell_type": "code",
   "execution_count": 7,
   "metadata": {},
   "outputs": [],
   "source": [
    "with open('unet_fold_scores.pkl', 'rb') as f: fold_scores = pickle.load(f)"
   ]
  },
  {
   "cell_type": "code",
   "execution_count": 8,
   "metadata": {},
   "outputs": [
    {
     "name": "stdout",
     "output_type": "stream",
     "text": [
      "Ttest_relResult(statistic=-9.931175691329084, pvalue=0.000577229770897802)\n"
     ]
    },
    {
     "data": {
      "text/html": [
       "<div>\n",
       "<style scoped>\n",
       "    .dataframe tbody tr th:only-of-type {\n",
       "        vertical-align: middle;\n",
       "    }\n",
       "\n",
       "    .dataframe tbody tr th {\n",
       "        vertical-align: top;\n",
       "    }\n",
       "\n",
       "    .dataframe thead th {\n",
       "        text-align: right;\n",
       "    }\n",
       "</style>\n",
       "<table border=\"1\" class=\"dataframe\">\n",
       "  <thead>\n",
       "    <tr style=\"text-align: right;\">\n",
       "      <th></th>\n",
       "      <th>fastmri</th>\n",
       "      <th>center</th>\n",
       "      <th>ours</th>\n",
       "    </tr>\n",
       "  </thead>\n",
       "  <tbody>\n",
       "    <tr>\n",
       "      <th>count</th>\n",
       "      <td>5.000000</td>\n",
       "      <td>5.000000</td>\n",
       "      <td>5.000000</td>\n",
       "    </tr>\n",
       "    <tr>\n",
       "      <th>mean</th>\n",
       "      <td>0.658307</td>\n",
       "      <td>0.757396</td>\n",
       "      <td>0.790565</td>\n",
       "    </tr>\n",
       "    <tr>\n",
       "      <th>std</th>\n",
       "      <td>0.045223</td>\n",
       "      <td>0.028518</td>\n",
       "      <td>0.028777</td>\n",
       "    </tr>\n",
       "    <tr>\n",
       "      <th>min</th>\n",
       "      <td>0.617922</td>\n",
       "      <td>0.725980</td>\n",
       "      <td>0.755459</td>\n",
       "    </tr>\n",
       "    <tr>\n",
       "      <th>25%</th>\n",
       "      <td>0.631727</td>\n",
       "      <td>0.729717</td>\n",
       "      <td>0.763612</td>\n",
       "    </tr>\n",
       "    <tr>\n",
       "      <th>50%</th>\n",
       "      <td>0.634449</td>\n",
       "      <td>0.765502</td>\n",
       "      <td>0.804492</td>\n",
       "    </tr>\n",
       "    <tr>\n",
       "      <th>75%</th>\n",
       "      <td>0.679742</td>\n",
       "      <td>0.774695</td>\n",
       "      <td>0.813852</td>\n",
       "    </tr>\n",
       "    <tr>\n",
       "      <th>max</th>\n",
       "      <td>0.727693</td>\n",
       "      <td>0.791087</td>\n",
       "      <td>0.815408</td>\n",
       "    </tr>\n",
       "  </tbody>\n",
       "</table>\n",
       "</div>"
      ],
      "text/plain": [
       "        fastmri    center      ours\n",
       "count  5.000000  5.000000  5.000000\n",
       "mean   0.658307  0.757396  0.790565\n",
       "std    0.045223  0.028518  0.028777\n",
       "min    0.617922  0.725980  0.755459\n",
       "25%    0.631727  0.729717  0.763612\n",
       "50%    0.634449  0.765502  0.804492\n",
       "75%    0.679742  0.774695  0.813852\n",
       "max    0.727693  0.791087  0.815408"
      ]
     },
     "execution_count": 8,
     "metadata": {},
     "output_type": "execute_result"
    }
   ],
   "source": [
    "import scipy\n",
    "\n",
    "df_dice = pd.DataFrame.from_dict({\n",
    "    'fastmri': [np.mean(v['fastmri']) for v in fold_scores],\n",
    "    'center': [np.mean(v['center']) for v in fold_scores],\n",
    "    'ours': [np.mean(v['ours']) for v in fold_scores]\n",
    "})\n",
    "print(scipy.stats.ttest_rel(df_dice.center, df_dice.ours))\n",
    "df_dice.describe()"
   ]
  },
  {
   "cell_type": "markdown",
   "metadata": {},
   "source": [
    "# Training on full train"
   ]
  },
  {
   "cell_type": "code",
   "execution_count": null,
   "metadata": {},
   "outputs": [
    {
     "data": {
      "application/vnd.jupyter.widget-view+json": {
       "model_id": "aae54065111d4212b459f8e68c6737e7",
       "version_major": 2,
       "version_minor": 0
      },
      "text/plain": [
       "HBox(children=(HTML(value=''), FloatProgress(value=0.0, max=5000.0), HTML(value='')))"
      ]
     },
     "metadata": {},
     "output_type": "display_data"
    }
   ],
   "source": [
    "w_list = train_sampling_pattern(train_generator, model, n=5000)"
   ]
  },
  {
   "cell_type": "code",
   "execution_count": 8,
   "metadata": {},
   "outputs": [],
   "source": [
    "torch.save(w_list, 'sampling_2d_igs.pt')"
   ]
  },
  {
   "cell_type": "code",
   "execution_count": 9,
   "metadata": {},
   "outputs": [
    {
     "data": {
      "text/plain": [
       "tensor(5256.)"
      ]
     },
     "execution_count": 9,
     "metadata": {},
     "output_type": "execute_result"
    }
   ],
   "source": [
    "w_list[-1].sum()"
   ]
  },
  {
   "cell_type": "code",
   "execution_count": 10,
   "metadata": {},
   "outputs": [
    {
     "data": {
      "text/plain": [
       "<matplotlib.image.AxesImage at 0x7fc5ec1b9df0>"
      ]
     },
     "execution_count": 10,
     "metadata": {},
     "output_type": "execute_result"
    },
    {
     "data": {
      "image/png": "[encoded data removed]",
      "text/plain": [
       "<Figure size 432x288 with 1 Axes>"
      ]
     },
     "metadata": {
      "needs_background": "light"
     },
     "output_type": "display_data"
    }
   ],
   "source": [
    "plt.imshow(w_list[-1])"
   ]
  },
  {
   "cell_type": "code",
   "execution_count": 11,
   "metadata": {},
   "outputs": [],
   "source": [
    "w = torch.load('sampling_2d_igs.pt')[-1]\n",
    "\n",
    "fastmri_mask_x16 = torch.tensor(EquispacedMaskFunc([0.04], [float(256*256 / w.sum())])((256, 256))[0]).cuda().float()\n",
    "zm = torch.zeros(256).cuda().float()\n",
    "zm[256//2 - int(256 / (256*256 / w.sum()))//2 : 256//2 + int(256 / (256*256 / w.sum()))//2] = 1\n",
    "zm2 = torch.zeros(256, 256).cuda().float()\n",
    "zm2[256//2 - int(w.sum()**0.5+1)//2:256//2 + int(w.sum()**0.5+1)//2, 256//2 - int(w.sum()**0.5+1)//2:256//2 + int(w.sum()**0.5+1)//2] = 1\n",
    "fm = torch.ones(256).cuda().float()"
   ]
  },
  {
   "cell_type": "code",
   "execution_count": 12,
   "metadata": {},
   "outputs": [
    {
     "data": {
      "text/plain": [
       "(tensor(21., device='cuda:0'),\n",
       " tensor(20., device='cuda:0'),\n",
       " tensor(5184., device='cuda:0'),\n",
       " tensor(5256.))"
      ]
     },
     "execution_count": 12,
     "metadata": {},
     "output_type": "execute_result"
    }
   ],
   "source": [
    "fastmri_mask_x16.sum(), zm.sum(), zm2.sum(), w.sum()"
   ]
  },
  {
   "cell_type": "code",
   "execution_count": 13,
   "metadata": {},
   "outputs": [
    {
     "data": {
      "application/vnd.jupyter.widget-view+json": {
       "model_id": "0db1ddb3f51048adb1ceb085eb0bacac",
       "version_major": 2,
       "version_minor": 0
      },
      "text/plain": [
       "HBox(children=(HTML(value=''), FloatProgress(value=0.0, max=514.0), HTML(value='')))"
      ]
     },
     "metadata": {},
     "output_type": "display_data"
    },
    {
     "name": "stdout",
     "output_type": "stream",
     "text": [
      "\n"
     ]
    },
    {
     "data": {
      "application/vnd.jupyter.widget-view+json": {
       "model_id": "dfc600e5ab48498d8a863aff1d7c8379",
       "version_major": 2,
       "version_minor": 0
      },
      "text/plain": [
       "HBox(children=(HTML(value=''), FloatProgress(value=0.0, max=514.0), HTML(value='')))"
      ]
     },
     "metadata": {},
     "output_type": "display_data"
    },
    {
     "name": "stdout",
     "output_type": "stream",
     "text": [
      "\n"
     ]
    },
    {
     "data": {
      "application/vnd.jupyter.widget-view+json": {
       "model_id": "f71d8c9072824f7c943174ce65023331",
       "version_major": 2,
       "version_minor": 0
      },
      "text/plain": [
       "HBox(children=(HTML(value=''), FloatProgress(value=0.0, max=514.0), HTML(value='')))"
      ]
     },
     "metadata": {},
     "output_type": "display_data"
    },
    {
     "name": "stdout",
     "output_type": "stream",
     "text": [
      "\n"
     ]
    },
    {
     "data": {
      "application/vnd.jupyter.widget-view+json": {
       "model_id": "8b30ea74362642ee8473a1b73f87a3e0",
       "version_major": 2,
       "version_minor": 0
      },
      "text/plain": [
       "HBox(children=(HTML(value=''), FloatProgress(value=0.0, max=514.0), HTML(value='')))"
      ]
     },
     "metadata": {},
     "output_type": "display_data"
    },
    {
     "name": "stdout",
     "output_type": "stream",
     "text": [
      "\n"
     ]
    }
   ],
   "source": [
    "dice_scores = dict(\n",
    "    fastmri=test_sampling_pattern(fastmri_mask_x16, model, val_generator), \n",
    "    center=test_sampling_pattern(zm, model, val_generator),\n",
    "    center2d=test_sampling_pattern(zm2, model, val_generator),\n",
    "    ours=test_sampling_pattern(w.cuda(), model, val_generator),\n",
    ")"
   ]
  },
  {
   "cell_type": "code",
   "execution_count": 14,
   "metadata": {},
   "outputs": [
    {
     "data": {
      "text/html": [
       "<div>\n",
       "<style scoped>\n",
       "    .dataframe tbody tr th:only-of-type {\n",
       "        vertical-align: middle;\n",
       "    }\n",
       "\n",
       "    .dataframe tbody tr th {\n",
       "        vertical-align: top;\n",
       "    }\n",
       "\n",
       "    .dataframe thead th {\n",
       "        text-align: right;\n",
       "    }\n",
       "</style>\n",
       "<table border=\"1\" class=\"dataframe\">\n",
       "  <thead>\n",
       "    <tr style=\"text-align: right;\">\n",
       "      <th></th>\n",
       "      <th>fastmri</th>\n",
       "      <th>center</th>\n",
       "      <th>center2d</th>\n",
       "      <th>ours</th>\n",
       "    </tr>\n",
       "  </thead>\n",
       "  <tbody>\n",
       "    <tr>\n",
       "      <th>count</th>\n",
       "      <td>514.000000</td>\n",
       "      <td>514.000000</td>\n",
       "      <td>514.000000</td>\n",
       "      <td>514.000000</td>\n",
       "    </tr>\n",
       "    <tr>\n",
       "      <th>mean</th>\n",
       "      <td>0.566204</td>\n",
       "      <td>0.690101</td>\n",
       "      <td>0.813481</td>\n",
       "      <td>0.815258</td>\n",
       "    </tr>\n",
       "    <tr>\n",
       "      <th>std</th>\n",
       "      <td>0.199179</td>\n",
       "      <td>0.214193</td>\n",
       "      <td>0.185630</td>\n",
       "      <td>0.184340</td>\n",
       "    </tr>\n",
       "    <tr>\n",
       "      <th>min</th>\n",
       "      <td>0.236721</td>\n",
       "      <td>0.245490</td>\n",
       "      <td>0.247269</td>\n",
       "      <td>0.247325</td>\n",
       "    </tr>\n",
       "    <tr>\n",
       "      <th>25%</th>\n",
       "      <td>0.416039</td>\n",
       "      <td>0.573333</td>\n",
       "      <td>0.761895</td>\n",
       "      <td>0.762545</td>\n",
       "    </tr>\n",
       "    <tr>\n",
       "      <th>50%</th>\n",
       "      <td>0.594005</td>\n",
       "      <td>0.787003</td>\n",
       "      <td>0.901032</td>\n",
       "      <td>0.901980</td>\n",
       "    </tr>\n",
       "    <tr>\n",
       "      <th>75%</th>\n",
       "      <td>0.747023</td>\n",
       "      <td>0.860908</td>\n",
       "      <td>0.931016</td>\n",
       "      <td>0.932031</td>\n",
       "    </tr>\n",
       "    <tr>\n",
       "      <th>max</th>\n",
       "      <td>0.858473</td>\n",
       "      <td>0.923622</td>\n",
       "      <td>0.959758</td>\n",
       "      <td>0.961427</td>\n",
       "    </tr>\n",
       "  </tbody>\n",
       "</table>\n",
       "</div>"
      ],
      "text/plain": [
       "          fastmri      center    center2d        ours\n",
       "count  514.000000  514.000000  514.000000  514.000000\n",
       "mean     0.566204    0.690101    0.813481    0.815258\n",
       "std      0.199179    0.214193    0.185630    0.184340\n",
       "min      0.236721    0.245490    0.247269    0.247325\n",
       "25%      0.416039    0.573333    0.761895    0.762545\n",
       "50%      0.594005    0.787003    0.901032    0.901980\n",
       "75%      0.747023    0.860908    0.931016    0.932031\n",
       "max      0.858473    0.923622    0.959758    0.961427"
      ]
     },
     "execution_count": 14,
     "metadata": {},
     "output_type": "execute_result"
    }
   ],
   "source": [
    "df_dice = pd.DataFrame.from_dict(dice_scores)\n",
    "df_dice.describe()"
   ]
  },
  {
   "cell_type": "code",
   "execution_count": 15,
   "metadata": {},
   "outputs": [
    {
     "data": {
      "text/plain": [
       "<matplotlib.image.AxesImage at 0x7fc5e47b53a0>"
      ]
     },
     "execution_count": 15,
     "metadata": {},
     "output_type": "execute_result"
    },
    {
     "data": {
      "image/png": "[encoded data removed]",
      "text/plain": [
       "<Figure size 432x288 with 1 Axes>"
      ]
     },
     "metadata": {
      "needs_background": "light"
     },
     "output_type": "display_data"
    }
   ],
   "source": [
    "plt.imshow(zm2.cpu())"
   ]
  },
  {
   "cell_type": "code",
   "execution_count": 16,
   "metadata": {},
   "outputs": [
    {
     "data": {
      "text/plain": [
       "<matplotlib.image.AxesImage at 0x7fc5e470eee0>"
      ]
     },
     "execution_count": 16,
     "metadata": {},
     "output_type": "execute_result"
    },
    {
     "data": {
      "image/png": "[encoded data removed]",
      "text/plain": [
       "<Figure size 432x288 with 1 Axes>"
      ]
     },
     "metadata": {
      "needs_background": "light"
     },
     "output_type": "display_data"
    }
   ],
   "source": [
    "plt.imshow(w.cpu())"
   ]
  },
  {
   "cell_type": "markdown",
   "metadata": {},
   "source": [
    "# Eval dice classes scores"
   ]
  },
  {
   "cell_type": "code",
   "execution_count": 52,
   "metadata": {},
   "outputs": [],
   "source": [
    "fastmri_mask_x16 = torch.tensor(EquispacedMaskFunc([0.04], [8])((256, 256))[0]).cuda().float()\n",
    "zm = torch.zeros(256).cuda().float()\n",
    "zm[256//2 - int(32)//2 : 256//2 + int(32)//2] = 1\n",
    "fm = torch.ones(256).cuda().float()\n",
    "w = torch.load('sampling_igs.pt')[30]"
   ]
  },
  {
   "cell_type": "code",
   "execution_count": 53,
   "metadata": {},
   "outputs": [
    {
     "data": {
      "application/vnd.jupyter.widget-view+json": {
       "model_id": "9d3fed8edf0f43ba878d7245589e5a35",
       "version_major": 2,
       "version_minor": 0
      },
      "text/plain": [
       "HBox(children=(HTML(value=''), FloatProgress(value=0.0, max=514.0), HTML(value='')))"
      ]
     },
     "metadata": {},
     "output_type": "display_data"
    },
    {
     "name": "stdout",
     "output_type": "stream",
     "text": [
      "\n"
     ]
    },
    {
     "data": {
      "application/vnd.jupyter.widget-view+json": {
       "model_id": "cae2eb28d92944168047929b10c5861c",
       "version_major": 2,
       "version_minor": 0
      },
      "text/plain": [
       "HBox(children=(HTML(value=''), FloatProgress(value=0.0, max=514.0), HTML(value='')))"
      ]
     },
     "metadata": {},
     "output_type": "display_data"
    },
    {
     "name": "stdout",
     "output_type": "stream",
     "text": [
      "\n"
     ]
    },
    {
     "data": {
      "application/vnd.jupyter.widget-view+json": {
       "model_id": "b41b73b03eec43448dc9ba55ac4dbf35",
       "version_major": 2,
       "version_minor": 0
      },
      "text/plain": [
       "HBox(children=(HTML(value=''), FloatProgress(value=0.0, max=514.0), HTML(value='')))"
      ]
     },
     "metadata": {},
     "output_type": "display_data"
    },
    {
     "name": "stdout",
     "output_type": "stream",
     "text": [
      "\n"
     ]
    },
    {
     "data": {
      "application/vnd.jupyter.widget-view+json": {
       "model_id": "9c34fafdd03e47d295671851ff1fa58b",
       "version_major": 2,
       "version_minor": 0
      },
      "text/plain": [
       "HBox(children=(HTML(value=''), FloatProgress(value=0.0, max=514.0), HTML(value='')))"
      ]
     },
     "metadata": {},
     "output_type": "display_data"
    },
    {
     "name": "stdout",
     "output_type": "stream",
     "text": [
      "\n"
     ]
    }
   ],
   "source": [
    "dice_class_scores = dict(\n",
    "    fastmri=test_on_classes_sampling_pattern(fastmri_mask_x16, model, val_generator), \n",
    "    center=test_on_classes_sampling_pattern(zm, model, val_generator),\n",
    "    ours=test_on_classes_sampling_pattern(w, model, val_generator),\n",
    "    full=test_on_classes_sampling_pattern(fm, model, val_generator),\n",
    ")"
   ]
  },
  {
   "cell_type": "code",
   "execution_count": 54,
   "metadata": {},
   "outputs": [
    {
     "name": "stdout",
     "output_type": "stream",
     "text": [
      "############## fastmri ##############\n",
      "        RV cavity      LV myo   LV cavity\n",
      "count  514.000000  514.000000  514.000000\n",
      "mean     0.381188    0.387448    0.593597\n",
      "std      0.371435    0.232496    0.340607\n",
      "min      0.000000    0.000000    0.000000\n",
      "25%      0.000000    0.224808    0.412083\n",
      "50%      0.333635    0.438446    0.743590\n",
      "75%      0.771185    0.571852    0.858127\n",
      "max      0.939749    0.769974    0.951340\n",
      "############## center ##############\n",
      "        RV cavity      LV myo   LV cavity\n",
      "count  514.000000  514.000000  514.000000\n",
      "mean     0.580750    0.669203    0.795335\n",
      "std      0.386560    0.228259    0.279761\n",
      "min      0.000000    0.000000    0.000000\n",
      "25%      0.002825    0.622258    0.829225\n",
      "50%      0.808927    0.756548    0.914425\n",
      "75%      0.894388    0.816411    0.943239\n",
      "max      0.965830    0.907721    0.974557\n",
      "############## ours ##############\n",
      "        RV cavity      LV myo   LV cavity\n",
      "count  514.000000  514.000000  514.000000\n",
      "mean     0.595818    0.689580    0.805002\n",
      "std      0.389538    0.222687    0.274500\n",
      "min      0.000000    0.000000    0.000000\n",
      "25%      0.000000    0.651545    0.841097\n",
      "50%      0.823042    0.776837    0.918835\n",
      "75%      0.902572    0.828250    0.946079\n",
      "max      0.968380    0.913176    0.976993\n",
      "############## full ##############\n",
      "        RV cavity      LV myo   LV cavity\n",
      "count  514.000000  514.000000  514.000000\n",
      "mean     0.713786    0.817886    0.864896\n",
      "std      0.363874    0.199716    0.247265\n",
      "min      0.000000    0.000000    0.000000\n",
      "25%      0.654390    0.831038    0.911014\n",
      "50%      0.910236    0.883911    0.952855\n",
      "75%      0.949416    0.915312    0.970768\n",
      "max      0.985018    0.956050    0.989652\n"
     ]
    }
   ],
   "source": [
    "class_map = {0: 'RV cavity', 1: 'LV myo', 2: 'LV cavity'}\n",
    "for name in dice_class_scores.keys():\n",
    "    arr = np.array(dice_class_scores[name]).T\n",
    "    print('##############', name, '##############')\n",
    "    print(pd.DataFrame.from_dict({class_map[i]:arr[i] for i in range(arr.shape[0])}).describe())"
   ]
  },
  {
   "cell_type": "code",
   "execution_count": 55,
   "metadata": {},
   "outputs": [
    {
     "data": {
      "application/vnd.jupyter.widget-view+json": {
       "model_id": "7260371f9ae54422afdf6040d57ffa2e",
       "version_major": 2,
       "version_minor": 0
      },
      "text/plain": [
       "HBox(children=(HTML(value=''), FloatProgress(value=0.0, max=514.0), HTML(value='')))"
      ]
     },
     "metadata": {},
     "output_type": "display_data"
    },
    {
     "name": "stdout",
     "output_type": "stream",
     "text": [
      "\n"
     ]
    },
    {
     "data": {
      "application/vnd.jupyter.widget-view+json": {
       "model_id": "826bb07cffd14012b0b59b084e44360c",
       "version_major": 2,
       "version_minor": 0
      },
      "text/plain": [
       "HBox(children=(HTML(value=''), FloatProgress(value=0.0, max=514.0), HTML(value='')))"
      ]
     },
     "metadata": {},
     "output_type": "display_data"
    },
    {
     "name": "stdout",
     "output_type": "stream",
     "text": [
      "\n"
     ]
    },
    {
     "data": {
      "application/vnd.jupyter.widget-view+json": {
       "model_id": "9690b6b206774788885b298287965cbf",
       "version_major": 2,
       "version_minor": 0
      },
      "text/plain": [
       "HBox(children=(HTML(value=''), FloatProgress(value=0.0, max=514.0), HTML(value='')))"
      ]
     },
     "metadata": {},
     "output_type": "display_data"
    },
    {
     "name": "stdout",
     "output_type": "stream",
     "text": [
      "\n"
     ]
    },
    {
     "data": {
      "application/vnd.jupyter.widget-view+json": {
       "model_id": "edcc4fba09b74125a83e5786c59e9901",
       "version_major": 2,
       "version_minor": 0
      },
      "text/plain": [
       "HBox(children=(HTML(value=''), FloatProgress(value=0.0, max=514.0), HTML(value='')))"
      ]
     },
     "metadata": {},
     "output_type": "display_data"
    },
    {
     "name": "stdout",
     "output_type": "stream",
     "text": [
      "\n",
      "############## fastmri ##############\n",
      "        RV cavity      LV myo   LV cavity\n",
      "count  514.000000  514.000000  514.000000\n",
      "mean     0.342371    0.334447    0.565903\n",
      "std      0.358415    0.214003    0.339937\n",
      "min      0.000000    0.000000    0.000000\n",
      "25%      0.000000    0.157670    0.282711\n",
      "50%      0.193719    0.364101    0.719919\n",
      "75%      0.742822    0.511418    0.832895\n",
      "max      0.922642    0.723350    0.937900\n",
      "############## center ##############\n",
      "        RV cavity      LV myo   LV cavity\n",
      "count  514.000000  514.000000  514.000000\n",
      "mean     0.464225    0.497252    0.693303\n",
      "std      0.380757    0.243481    0.328034\n",
      "min      0.000000    0.000000    0.000000\n",
      "25%      0.000000    0.377058    0.659942\n",
      "50%      0.581346    0.590786    0.851644\n",
      "75%      0.841381    0.672704    0.908577\n",
      "max      0.954875    0.844853    0.959712\n",
      "############## ours ##############\n",
      "        RV cavity      LV myo   LV cavity\n",
      "count  514.000000  514.000000  514.000000\n",
      "mean     0.500341    0.547661    0.715802\n",
      "std      0.389113    0.251689    0.318239\n",
      "min      0.000000    0.000000    0.000000\n",
      "25%      0.000000    0.419101    0.694286\n",
      "50%      0.681145    0.642445    0.860584\n",
      "75%      0.858499    0.733941    0.918777\n",
      "max      0.961106    0.861274    0.972850\n",
      "############## full ##############\n",
      "        RV cavity      LV myo   LV cavity\n",
      "count  514.000000  514.000000  514.000000\n",
      "mean     0.713786    0.817886    0.864896\n",
      "std      0.363874    0.199716    0.247265\n",
      "min      0.000000    0.000000    0.000000\n",
      "25%      0.654390    0.831038    0.911014\n",
      "50%      0.910236    0.883911    0.952855\n",
      "75%      0.949416    0.915312    0.970768\n",
      "max      0.985018    0.956050    0.989652\n"
     ]
    }
   ],
   "source": [
    "fastmri_mask_x16 = torch.tensor(EquispacedMaskFunc([0.04], [16])((256, 256))[0]).cuda().float()\n",
    "zm = torch.zeros(256).cuda().float()\n",
    "zm[256//2 - int(16)//2 : 256//2 + int(16)//2] = 1\n",
    "fm = torch.ones(256).cuda().float()\n",
    "w = torch.load('sampling_igs.pt')[14]\n",
    "\n",
    "dice_class_scores = dict(\n",
    "    fastmri=test_on_classes_sampling_pattern(fastmri_mask_x16, model, val_generator), \n",
    "    center=test_on_classes_sampling_pattern(zm, model, val_generator),\n",
    "    ours=test_on_classes_sampling_pattern(w, model, val_generator),\n",
    "    full=test_on_classes_sampling_pattern(fm, model, val_generator),\n",
    ")\n",
    "\n",
    "class_map = {0: 'RV cavity', 1: 'LV myo', 2: 'LV cavity'}\n",
    "for name in dice_class_scores.keys():\n",
    "    arr = np.array(dice_class_scores[name]).T\n",
    "    print('##############', name, '##############')\n",
    "    print(pd.DataFrame.from_dict({class_map[i]:arr[i] for i in range(arr.shape[0])}).describe())"
   ]
  },
  {
   "cell_type": "code",
   "execution_count": null,
   "metadata": {},
   "outputs": [],
   "source": []
  }
 ],
 "metadata": {
  "kernelspec": {
   "display_name": "Python 3",
   "language": "python",
   "name": "python3"
  },
  "language_info": {
   "codemirror_mode": {
    "name": "ipython",
    "version": 3
   },
   "file_extension": ".py",
   "mimetype": "text/x-python",
   "name": "python",
   "nbconvert_exporter": "python",
   "pygments_lexer": "ipython3",
   "version": "3.8.3"
  }
 },
 "nbformat": 4,
 "nbformat_minor": 4
}
