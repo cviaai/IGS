{
 "cells": [
  {
   "cell_type": "code",
   "execution_count": 1,
   "metadata": {},
   "outputs": [
    {
     "name": "stdout",
     "output_type": "stream",
     "text": [
      "env: CUDA_VISIBLE_DEVICES=3\n"
     ]
    }
   ],
   "source": [
    "%env CUDA_VISIBLE_DEVICES=3\n",
    "import sys\n",
    "sys.path.append('/home/a_razumov/projects/k-space-mri')\n",
    "import numpy as np\n",
    "import pylab as plt\n",
    "import pickle\n",
    "from tqdm.notebook import tqdm\n",
    "\n",
    "import torch\n",
    "import torch.nn.functional as F\n",
    "\n",
    "from k_space_reconstruction.utils.metrics import pt_msssim, pt_ssim\n",
    "from k_space_reconstruction.datasets.acdc import ACDCSet, ACDCTransform, RandomMaskFunc\n",
    "from k_space_reconstruction.datasets.fastmri import FastMRIh5Dataset, FastMRITransform, LegacyFastMRIh5Dataset\n",
    "from k_space_reconstruction.utils.kspace import EquispacedMaskFunc, RandomMaskFunc\n",
    "from k_space_reconstruction.utils.kspace import pt_spatial2kspace as Ft\n",
    "from k_space_reconstruction.utils.kspace import pt_kspace2spatial as IFt\n",
    "\n",
    "import os\n",
    "import sys\n",
    "from k_space_reconstruction.nets.unet import Unet\n",
    "from k_space_reconstruction.nets.enet import ENet\n",
    "from k_space_reconstruction.nets.mwcnn import MWCNN\n",
    "import datetime\n",
    "import torch\n",
    "import torchvision\n",
    "import numpy as np\n",
    "import pylab as plt\n",
    "plt.style.use('bmh')\n",
    "import albumentations\n",
    "import numpy as np\n",
    "import h5py\n",
    "import pylab as plt\n",
    "import torch\n",
    "import torch.nn.functional as F\n",
    "\n",
    "import os\n",
    "import re\n",
    "import numpy as np\n",
    "import pandas as pd\n",
    "import nibabel\n",
    "\n",
    "import torch\n",
    "import torch.utils.data\n",
    "import torchvision.transforms as transforms\n",
    "\n",
    "from os.path import isdir, join\n",
    "from typing import Callable, Dict, List, Any"
   ]
  },
  {
   "cell_type": "code",
   "execution_count": 2,
   "metadata": {},
   "outputs": [],
   "source": [
    "fig_bezzeless = lambda nc, nr : plt.subplots(ncols=nc, nrows=nr, figsize=(4 * nc, 4), dpi=120, \n",
    "                                             subplot_kw=dict(frameon=False, xticks=[], yticks=[]), \n",
    "                                             gridspec_kw=dict(wspace=0.0, hspace=0.0))\n",
    "\n",
    "\n",
    "def ce_loss(true, logits, weights, ignore=255):\n",
    "    torch.nn.CrossEntropyLoss\n",
    "    ce_loss = torch.nn.functional.cross_entropy(\n",
    "        logits.float(),\n",
    "        true.long(),\n",
    "        ignore_index=ignore,\n",
    "        weight=weights,\n",
    "    )\n",
    "    return ce_loss\n",
    "\n",
    "\n",
    "def dice_loss(true, logits, eps=1e-7):\n",
    "    num_classes = logits.shape[1]\n",
    "    if num_classes == 1:\n",
    "        true_1_hot = torch.eye(num_classes + 1)[true.squeeze(1)]\n",
    "        true_1_hot = true_1_hot.permute(0, 3, 1, 2).float()\n",
    "        true_1_hot_f = true_1_hot[:, 0:1, :, :]\n",
    "        true_1_hot_s = true_1_hot[:, 1:2, :, :]\n",
    "        true_1_hot = torch.cat([true_1_hot_s, true_1_hot_f], dim=1)\n",
    "        pos_prob = torch.sigmoid(logits)\n",
    "        neg_prob = 1 - pos_prob\n",
    "        probas = torch.cat([pos_prob, neg_prob], dim=1)\n",
    "    else:\n",
    "        true_1_hot = torch.eye(num_classes)[true.squeeze(1)]\n",
    "        true_1_hot = true_1_hot.permute(0, 3, 1, 2).float()\n",
    "        probas = torch.nn.functional.softmax(logits, dim=1)\n",
    "    true_1_hot = true_1_hot.type(logits.type())\n",
    "    dims = (0,) + tuple(range(2, true.ndimension()))\n",
    "    intersection = torch.sum(probas * true_1_hot, dims)\n",
    "    cardinality = torch.sum(probas + true_1_hot, dims)\n",
    "    dice_loss = (2. * intersection / (cardinality + eps)).mean()\n",
    "    return (1 - dice_loss)\n",
    "\n",
    "def dice_coeffs(true, logits):\n",
    "    num_classes = logits.shape[1]\n",
    "    probas = F.softmax(logits, dim=1)\n",
    "    probas[probas > 0.5] = 1; probas[probas <= 0.5] = 0\n",
    "    pmask = torch.zeros_like(true).float()\n",
    "    for i in range(1, num_classes):\n",
    "        pmask[:,0] += i * probas[:,i]\n",
    "    dice_ls = []\n",
    "    for i in range(1, num_classes):\n",
    "        yt = (true==i).float().flatten()\n",
    "        yp = (pmask==i).float().flatten()\n",
    "        intersection = torch.sum(yt * yp)\n",
    "        cardinality = torch.sum(yt + yp)\n",
    "        dice_ls.append((2. * intersection / (cardinality + 1e-7)).item())\n",
    "    return dice_ls        \n",
    "\n",
    "def train_sampling_pattern(train_generator, model, n=14):\n",
    "    c, bmasks, images, bmean, bstd = next(iter(train_generator))\n",
    "    bks = Ft(images * bstd + bmean)\n",
    "    bgt = IFt(bks).abs()\n",
    "    w = torch.zeros(256).cuda().float()\n",
    "    w[128] = 1\n",
    "    bbatch = 32\n",
    "    w_list = []\n",
    "    pbar = tqdm(range(n))\n",
    "    for count in pbar:\n",
    "        w = torch.autograd.Variable(w, requires_grad=True)\n",
    "        for j in range(bks.shape[0] // bbatch):\n",
    "            bbks = bks[bbatch*j:bbatch*(j+1)].cuda()\n",
    "            bbgt = bgt[bbatch*j:bbatch*(j+1)].cuda()\n",
    "            bbmean = bmean[bbatch*j:bbatch*(j+1)].cuda()\n",
    "            bbstd = bstd[bbatch*j:bbatch*(j+1)].cuda()\n",
    "            bbmasks = bmasks[bbatch*j:bbatch*(j+1)].cuda()\n",
    "            recs = IFt(bbks * w).abs()\n",
    "            pm = model((recs - bbmean) / (bbstd + 1e-11))\n",
    "            loss = dice_loss(bbmasks.long(), pm)\n",
    "            loss.backward()\n",
    "        for i in torch.topk(w.grad, 256, largest=False).indices:\n",
    "            if w[i] == 0: \n",
    "                w = w.detach()\n",
    "                w[i] = 1.\n",
    "                w_list.append(w.clone())\n",
    "                pbar.set_description('select: %d, loss: %.6f' % (i.item(), loss.item()))\n",
    "                break\n",
    "    return w_list\n",
    "\n",
    "def test_sampling_pattern(sampling, model, val_generator):\n",
    "    vc, vbmasks, vimages, vbmean, vbstd = next(iter(val_generator))\n",
    "    vbks = Ft(vimages * vbstd + vbmean)\n",
    "    vbgt = IFt(vbks).abs()\n",
    "    dice_scores = []\n",
    "    bbatch = 32\n",
    "    for j in tqdm(range(vbks.shape[0] // bbatch)):\n",
    "        vbbks = vbks[bbatch*j:bbatch*(j+1)].cuda()\n",
    "        vbbgt = vbgt[bbatch*j:bbatch*(j+1)].cuda()\n",
    "        vbbmean = vbmean[bbatch*j:bbatch*(j+1)].cuda()\n",
    "        vbbstd = vbstd[bbatch*j:bbatch*(j+1)].cuda()\n",
    "        vbbmasks = vbmasks[bbatch*j:bbatch*(j+1)].cuda()\n",
    "        with torch.no_grad():\n",
    "            # igs\n",
    "            recs = IFt(vbbks * sampling).abs()\n",
    "            pm = model((recs - vbbmean) / (vbbstd + 1e-11))\n",
    "            for i in range(recs.shape[0]):\n",
    "                dice_scores.append(1 - dice_loss(vbbmasks.long(), pm).item())\n",
    "    return dice_scores\n",
    "\n",
    "def test_on_classes_sampling_pattern(sampling, model, val_generator):\n",
    "    vc, vbmasks, vimages, vbmean, vbstd = next(iter(val_generator))\n",
    "    vbks = Ft(vimages * vbstd + vbmean)\n",
    "    vbgt = IFt(vbks).abs()\n",
    "    dice_scores = []\n",
    "    bbatch = 1\n",
    "    for j in tqdm(range(vbks.shape[0] // bbatch)):\n",
    "        vbbks = vbks[bbatch*j:bbatch*(j+1)].cuda()\n",
    "        vbbgt = vbgt[bbatch*j:bbatch*(j+1)].cuda()\n",
    "        vbbmean = vbmean[bbatch*j:bbatch*(j+1)].cuda()\n",
    "        vbbstd = vbstd[bbatch*j:bbatch*(j+1)].cuda()\n",
    "        vbbmasks = vbmasks[bbatch*j:bbatch*(j+1)].cuda()\n",
    "        with torch.no_grad():\n",
    "            # igs\n",
    "            recs = IFt(vbbks * sampling).abs()\n",
    "            pm = model((recs - vbbmean) / (vbbstd + 1e-11))\n",
    "            for i in range(recs.shape[0]):\n",
    "                dice_scores.append(dice_coeffs(vbbmasks.long(), pm))\n",
    "    return dice_scores\n",
    "\n",
    "class ACDCDataset(torch.utils.data.Dataset):\n",
    "    CLASSES = {0: 'NOR', 1: 'MINF', 2: 'DCM', 3: 'HCM', 4: 'RV'}\n",
    "\n",
    "    def __init__(self, hf_path: str):\n",
    "        super().__init__()\n",
    "        self.hf = h5py.File(hf_path)\n",
    "\n",
    "    def __len__(self) -> int:\n",
    "        return len(self.hf)\n",
    "\n",
    "    def __getitem__(self, item: int):\n",
    "        img = self.hf[str(item)][:1]\n",
    "        mask = self.hf[str(item)][1:]\n",
    "        c = self.hf[str(item)].attrs['class']\n",
    "        img = torch.tensor(img).float()\n",
    "        mask = torch.tensor(mask)\n",
    "        mean = img.mean()\n",
    "        std = img.std()\n",
    "        img = (img - mean) / (std + 1e-11)\n",
    "        return c, mask, img, mean.unsqueeze(0).unsqueeze(0).unsqueeze(0), std.unsqueeze(0).unsqueeze(0).unsqueeze(0)"
   ]
  },
  {
   "cell_type": "code",
   "execution_count": 3,
   "metadata": {},
   "outputs": [],
   "source": [
    "def pt_psnr(img1, img2, maxval):\n",
    "    mse = torch.mean((img1 - img2) ** 2)\n",
    "    return 20 * torch.log10(maxval / torch.sqrt(mse))"
   ]
  },
  {
   "cell_type": "code",
   "execution_count": 4,
   "metadata": {},
   "outputs": [],
   "source": [
    "np.random.seed(42)\n",
    "torch.manual_seed(42)\n",
    "train_dataset = ACDCDataset('/home/a_razumov/small_datasets/acdc_seg_h5/train.h5')\n",
    "val_dataset = ACDCDataset('/home/a_razumov/small_datasets/acdc_seg_h5/val.h5')\n",
    "train_generator = torch.utils.data.DataLoader(train_dataset, batch_size=len(train_dataset), shuffle=True, num_workers=6)\n",
    "val_generator = torch.utils.data.DataLoader(val_dataset, batch_size=len(val_dataset), shuffle=False)"
   ]
  },
  {
   "cell_type": "code",
   "execution_count": 5,
   "metadata": {},
   "outputs": [
    {
     "data": {
      "text/plain": [
       "<All keys matched successfully>"
      ]
     },
     "execution_count": 5,
     "metadata": {},
     "output_type": "execute_result"
    }
   ],
   "source": [
    "device = torch.device('cuda:0') if torch.cuda.is_available() else torch.device('cpu')\n",
    "model = Unet(1, 3+1).to(device).train(False).eval()\n",
    "for p in model.parameters():\n",
    "    p.requires_grad = False\n",
    "model.load_state_dict(torch.load('unet-acdc-norot.pt'))"
   ]
  },
  {
   "cell_type": "code",
   "execution_count": 6,
   "metadata": {},
   "outputs": [
    {
     "data": {
      "application/vnd.jupyter.widget-view+json": {
       "model_id": "cc08e5d850094bd2bd25d941f63705f3",
       "version_major": 2,
       "version_minor": 0
      },
      "text/plain": [
       "  0%|          | 0/514 [00:00<?, ?it/s]"
      ]
     },
     "metadata": {},
     "output_type": "display_data"
    },
    {
     "data": {
      "application/vnd.jupyter.widget-view+json": {
       "model_id": "a6ebb1df928f441b8298339b6fb6afe4",
       "version_major": 2,
       "version_minor": 0
      },
      "text/plain": [
       "  0%|          | 0/514 [00:00<?, ?it/s]"
      ]
     },
     "metadata": {},
     "output_type": "display_data"
    },
    {
     "data": {
      "application/vnd.jupyter.widget-view+json": {
       "model_id": "0ad0097c0eb74fecb3a18c880491c9e3",
       "version_major": 2,
       "version_minor": 0
      },
      "text/plain": [
       "  0%|          | 0/514 [00:00<?, ?it/s]"
      ]
     },
     "metadata": {},
     "output_type": "display_data"
    },
    {
     "data": {
      "application/vnd.jupyter.widget-view+json": {
       "model_id": "d214a8dbffea42c8969b5ffcc93f334c",
       "version_major": 2,
       "version_minor": 0
      },
      "text/plain": [
       "  0%|          | 0/514 [00:00<?, ?it/s]"
      ]
     },
     "metadata": {},
     "output_type": "display_data"
    },
    {
     "name": "stdout",
     "output_type": "stream",
     "text": [
      "############## fastmri ##############\n",
      "        RV cavity      LV myo   LV cavity\n",
      "count  514.000000  514.000000  514.000000\n",
      "mean     0.340587    0.335684    0.562872\n",
      "std      0.360848    0.216714    0.337534\n",
      "min      0.000000    0.000000    0.000000\n",
      "25%      0.000000    0.159906    0.278340\n",
      "50%      0.159383    0.369877    0.710149\n",
      "75%      0.751608    0.518913    0.826430\n",
      "max      0.929597    0.760809    0.948085\n",
      "############## center ##############\n",
      "        RV cavity      LV myo   LV cavity\n",
      "count  514.000000  514.000000  514.000000\n",
      "mean     0.464225    0.497252    0.693303\n",
      "std      0.380757    0.243481    0.328034\n",
      "min      0.000000    0.000000    0.000000\n",
      "25%      0.000000    0.377058    0.659942\n",
      "50%      0.581346    0.590786    0.851644\n",
      "75%      0.841381    0.672704    0.908577\n",
      "max      0.954875    0.844853    0.959712\n",
      "############## ours ##############\n",
      "        RV cavity      LV myo   LV cavity\n",
      "count  514.000000  514.000000  514.000000\n",
      "mean     0.500341    0.547660    0.715800\n",
      "std      0.389113    0.251688    0.318238\n",
      "min      0.000000    0.000000    0.000000\n",
      "25%      0.000000    0.419101    0.694286\n",
      "50%      0.681145    0.642445    0.860584\n",
      "75%      0.858499    0.733941    0.918777\n",
      "max      0.961106    0.861274    0.972850\n",
      "############## full ##############\n",
      "        RV cavity      LV myo   LV cavity\n",
      "count  514.000000  514.000000  514.000000\n",
      "mean     0.713786    0.817886    0.864896\n",
      "std      0.363874    0.199716    0.247265\n",
      "min      0.000000    0.000000    0.000000\n",
      "25%      0.654390    0.831038    0.911014\n",
      "50%      0.910236    0.883911    0.952855\n",
      "75%      0.949416    0.915312    0.970768\n",
      "max      0.985018    0.956050    0.989652\n"
     ]
    }
   ],
   "source": [
    "fastmri_mask_x16 = torch.tensor(EquispacedMaskFunc([0.04], [16])((256, 256))[0]).cuda().float()\n",
    "zm = torch.zeros(256).cuda().float()\n",
    "zm[256//2 - int(16)//2 : 256//2 + int(16)//2] = 1\n",
    "fm = torch.ones(256).cuda().float()\n",
    "w = torch.load('sampling_igs.pt')[14]\n",
    "\n",
    "dice_class_scores = dict(\n",
    "    fastmri=test_on_classes_sampling_pattern(fastmri_mask_x16, model, val_generator), \n",
    "    center=test_on_classes_sampling_pattern(zm, model, val_generator),\n",
    "    ours=test_on_classes_sampling_pattern(w, model, val_generator),\n",
    "    full=test_on_classes_sampling_pattern(fm, model, val_generator),\n",
    ")\n",
    "\n",
    "class_map = {0: 'RV cavity', 1: 'LV myo', 2: 'LV cavity'}\n",
    "for name in dice_class_scores.keys():\n",
    "    arr = np.array(dice_class_scores[name]).T\n",
    "    print('##############', name, '##############')\n",
    "    print(pd.DataFrame.from_dict({class_map[i]:arr[i] for i in range(arr.shape[0])}).describe())"
   ]
  },
  {
   "cell_type": "code",
   "execution_count": 84,
   "metadata": {},
   "outputs": [],
   "source": [
    "def dice_coeff_3d_classes(true, logits, eps=1e-11):\n",
    "    num_classes = logits.shape[0]\n",
    "    probas = torch.nn.functional.softmax(logits, dim=0)\n",
    "    probas[probas > 0.5] = 1\n",
    "    probas[probas <= 0.5] = 0\n",
    "    pmask = torch.zeros_like(true).float()\n",
    "    for i in range(1, num_classes): pmask[0] += probas[i] * i\n",
    "    dice_ls = []\n",
    "    # WT\n",
    "    true_1_hot = (true==1).float().flatten()\n",
    "    pred_1_hot = (pmask==1).float().flatten()\n",
    "    intersection = torch.sum(pred_1_hot * true_1_hot)\n",
    "    cardinality = torch.sum(pred_1_hot + true_1_hot)\n",
    "    dice_ls.append((2. * intersection / (cardinality + eps)).item())\n",
    "    # ET\n",
    "    true_1_hot = (true==2).float().flatten()\n",
    "    pred_1_hot = (pmask==2).float().flatten()\n",
    "    intersection = torch.sum(pred_1_hot * true_1_hot)\n",
    "    cardinality = torch.sum(pred_1_hot + true_1_hot)\n",
    "    dice_ls.append((2. * intersection / (cardinality + eps)).item())\n",
    "    # TC\n",
    "    true_1_hot = (true==3).float().flatten()\n",
    "    pred_1_hot = (pmask==3).float().flatten()\n",
    "    intersection = torch.sum(pred_1_hot * true_1_hot)\n",
    "    cardinality = torch.sum(pred_1_hot + true_1_hot)\n",
    "    dice_ls.append((2. * intersection / (cardinality + eps)).item())\n",
    "    return dice_ls\n",
    "\n",
    "def test_3d_on_classes_sampling_pattern(sampling, model, val_3d_dataset):\n",
    "    dice_scores = []\n",
    "    with torch.no_grad():\n",
    "        for i in tqdm(range(len(val_3d_dataset))):\n",
    "            _, mask, img, mean, std = val_3d_dataset[i]\n",
    "            mask = mask.cuda(); img = img.cuda(); mean = mean.cuda(); std = std.cuda()\n",
    "            ks = Ft(img * std + mean)\n",
    "            img = (IFt(ks * sampling).abs() - mean) / (std + 1e-11)\n",
    "            pred = model(img.movedim(1,0))\n",
    "            dice_scores.append(dice_coeff_3d_classes(mask, pred.movedim(1,0)))\n",
    "    return dice_scores\n",
    "\n",
    "class ACDCDataset3D(torch.utils.data.Dataset):\n",
    "    CLASSES = {0: 'NOR', 1: 'MINF', 2: 'DCM', 3: 'HCM', 4: 'RV'}\n",
    "\n",
    "    def __init__(self, hf_path: str):\n",
    "        super().__init__()\n",
    "        self.hf = h5py.File(hf_path)\n",
    "        self.vols = []\n",
    "        for k in self.hf.keys():\n",
    "            for kk in self.hf[k].keys():\n",
    "                self.vols.append((k, kk))\n",
    "\n",
    "    def __len__(self) -> int:\n",
    "        return len(self.vols)\n",
    "\n",
    "    def __getitem__(self, item: int):\n",
    "        k, kk = self.vols[item]\n",
    "        vol = self.hf[k][kk][:1]\n",
    "        mask = self.hf[k][kk][1:]\n",
    "        \n",
    "        vol = torch.tensor(vol).float()\n",
    "        mask = torch.tensor(mask)\n",
    "        mean = vol.mean()\n",
    "        std = vol.std()\n",
    "        vol = (vol - mean) / (std + 1e-11)\n",
    "        return _, mask, vol, mean.unsqueeze(0).unsqueeze(0).unsqueeze(0), std.unsqueeze(0).unsqueeze(0).unsqueeze(0)"
   ]
  },
  {
   "cell_type": "code",
   "execution_count": 85,
   "metadata": {},
   "outputs": [
    {
     "data": {
      "text/plain": [
       "60"
      ]
     },
     "execution_count": 85,
     "metadata": {},
     "output_type": "execute_result"
    }
   ],
   "source": [
    "dataset = ACDCDataset3D('/home/a_razumov/small_datasets/acdc_seg_h5/val_3d.h5')\n",
    "len(dataset)"
   ]
  },
  {
   "cell_type": "code",
   "execution_count": 86,
   "metadata": {},
   "outputs": [
    {
     "data": {
      "application/vnd.jupyter.widget-view+json": {
       "model_id": "6f5ee44133524e0385a7a38f0ac44c54",
       "version_major": 2,
       "version_minor": 0
      },
      "text/plain": [
       "  0%|          | 0/60 [00:00<?, ?it/s]"
      ]
     },
     "metadata": {},
     "output_type": "display_data"
    },
    {
     "data": {
      "application/vnd.jupyter.widget-view+json": {
       "model_id": "4a0bbba2dbab4470815e4e29b0c0edae",
       "version_major": 2,
       "version_minor": 0
      },
      "text/plain": [
       "  0%|          | 0/60 [00:00<?, ?it/s]"
      ]
     },
     "metadata": {},
     "output_type": "display_data"
    },
    {
     "data": {
      "application/vnd.jupyter.widget-view+json": {
       "model_id": "b63c060bbf9d4101b265fe12cd50f0ac",
       "version_major": 2,
       "version_minor": 0
      },
      "text/plain": [
       "  0%|          | 0/60 [00:00<?, ?it/s]"
      ]
     },
     "metadata": {},
     "output_type": "display_data"
    },
    {
     "data": {
      "application/vnd.jupyter.widget-view+json": {
       "model_id": "95de43ea79f54921ab2864ab46d50ce4",
       "version_major": 2,
       "version_minor": 0
      },
      "text/plain": [
       "  0%|          | 0/60 [00:00<?, ?it/s]"
      ]
     },
     "metadata": {},
     "output_type": "display_data"
    },
    {
     "name": "stdout",
     "output_type": "stream",
     "text": [
      "############## fastmri ##############\n",
      "       RV cavity     LV myo  LV cavity\n",
      "count  60.000000  60.000000  60.000000\n",
      "mean    0.490497   0.353173   0.648106\n",
      "std     0.232201   0.136147   0.199118\n",
      "min     0.000000   0.016551   0.000000\n",
      "25%     0.329849   0.226409   0.581212\n",
      "50%     0.565992   0.370298   0.707573\n",
      "75%     0.682331   0.463012   0.780427\n",
      "max     0.856920   0.599014   0.900061\n",
      "############## center ##############\n",
      "       RV cavity     LV myo  LV cavity\n",
      "count  60.000000  60.000000  60.000000\n",
      "mean    0.643096   0.546234   0.768793\n",
      "std     0.212844   0.133350   0.190635\n",
      "min     0.000000   0.059345   0.000000\n",
      "25%     0.520511   0.512382   0.725628\n",
      "50%     0.717071   0.591204   0.834722\n",
      "75%     0.792440   0.635697   0.893228\n",
      "max     0.899322   0.709760   0.935348\n",
      "############## ours ##############\n",
      "       RV cavity     LV myo  LV cavity\n",
      "count  60.000000  60.000000  60.000000\n",
      "mean    0.685235   0.612487   0.800424\n",
      "std     0.203021   0.127989   0.160652\n",
      "min     0.000000   0.070957   0.000000\n",
      "25%     0.634646   0.582107   0.757037\n",
      "50%     0.751703   0.643276   0.849243\n",
      "75%     0.826347   0.690369   0.904000\n",
      "max     0.915339   0.778235   0.945821\n",
      "############## full ##############\n",
      "       RV cavity     LV myo  LV cavity\n",
      "count  60.000000  60.000000  60.000000\n",
      "mean    0.867778   0.864935   0.930580\n",
      "std     0.117375   0.048668   0.065102\n",
      "min     0.236422   0.696567   0.582278\n",
      "25%     0.828208   0.845954   0.921248\n",
      "50%     0.912357   0.873573   0.952332\n",
      "75%     0.941682   0.897881   0.968809\n",
      "max     0.973015   0.924708   0.984619\n"
     ]
    }
   ],
   "source": [
    "fastmri_mask_x16 = torch.tensor(EquispacedMaskFunc([0.04], [16])((256, 256))[0]).cuda().float()\n",
    "zm = torch.zeros(256).cuda().float()\n",
    "zm[256//2 - int(16)//2 : 256//2 + int(16)//2] = 1\n",
    "fm = torch.ones(256).cuda().float()\n",
    "w = torch.load('sampling_igs.pt')[14]\n",
    "\n",
    "dice_class_scores = dict(\n",
    "    fastmri=test_3d_on_classes_sampling_pattern(fastmri_mask_x16, model, dataset), \n",
    "    center=test_3d_on_classes_sampling_pattern(zm, model, dataset),\n",
    "    ours=test_3d_on_classes_sampling_pattern(w, model, dataset),\n",
    "    full=test_3d_on_classes_sampling_pattern(fm, model, dataset),\n",
    ")\n",
    "\n",
    "class_map = {0: 'RV cavity', 1: 'LV myo', 2: 'LV cavity'}\n",
    "for name in dice_class_scores.keys():\n",
    "    arr = np.array(dice_class_scores[name]).T\n",
    "    print('##############', name, '##############')\n",
    "    print(pd.DataFrame.from_dict({class_map[i]:arr[i] for i in range(arr.shape[0])}).describe())"
   ]
  },
  {
   "cell_type": "code",
   "execution_count": null,
   "metadata": {},
   "outputs": [],
   "source": []
  }
 ],
 "metadata": {
  "kernelspec": {
   "display_name": "Python 3",
   "language": "python",
   "name": "python3"
  },
  "language_info": {
   "codemirror_mode": {
    "name": "ipython",
    "version": 3
   },
   "file_extension": ".py",
   "mimetype": "text/x-python",
   "name": "python",
   "nbconvert_exporter": "python",
   "pygments_lexer": "ipython3",
   "version": "3.8.8"
  }
 },
 "nbformat": 4,
 "nbformat_minor": 4
}
