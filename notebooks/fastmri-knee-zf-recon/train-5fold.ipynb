{
 "cells": [
  {
   "cell_type": "code",
   "execution_count": 1,
   "metadata": {},
   "outputs": [
    {
     "name": "stdout",
     "output_type": "stream",
     "text": [
      "env: CUDA_VISIBLE_DEVICES=2\n"
     ]
    }
   ],
   "source": [
    "%env CUDA_VISIBLE_DEVICES=2\n",
    "import sys\n",
    "sys.path.append('/home/a_razumov/projects/k-space-mri')\n",
    "import numpy as np\n",
    "import pylab as plt\n",
    "import pickle\n",
    "from tqdm.notebook import tqdm\n",
    "\n",
    "import torch\n",
    "import torch.nn.functional as F\n",
    "\n",
    "# from k_space_reconstruction.utils.metrics import pt_msssim, pt_ssim\n",
    "from k_space_reconstruction.datasets.acdc import ACDCSet, ACDCTransform, RandomMaskFunc\n",
    "from k_space_reconstruction.datasets.fastmri import FastMRIh5Dataset, FastMRITransform, LegacyFastMRIh5Dataset\n",
    "from k_space_reconstruction.utils.kspace import EquispacedMaskFunc, RandomMaskFunc\n",
    "from k_space_reconstruction.utils.kspace import pt_spatial2kspace as Ft\n",
    "from k_space_reconstruction.utils.kspace import pt_kspace2spatial as IFt\n",
    "\n",
    "import os\n",
    "import sys\n",
    "from k_space_reconstruction.nets.unet import Unet\n",
    "from k_space_reconstruction.nets.enet import ENet\n",
    "from k_space_reconstruction.nets.mwcnn import MWCNN\n",
    "import datetime\n",
    "import torch\n",
    "import torchvision\n",
    "import numpy as np\n",
    "import pylab as plt\n",
    "plt.style.use('bmh')\n",
    "import albumentations\n",
    "import numpy as np\n",
    "import h5py\n",
    "import pylab as plt\n",
    "import torch\n",
    "import torch.nn.functional as F\n",
    "\n",
    "import os\n",
    "import re\n",
    "import numpy as np\n",
    "import pandas as pd\n",
    "import nibabel\n",
    "\n",
    "import torch\n",
    "import torch.utils.data\n",
    "import torchvision.transforms as transforms\n",
    "\n",
    "from os.path import isdir, join\n",
    "from typing import Callable, Dict, List, Any"
   ]
  },
  {
   "cell_type": "code",
   "execution_count": 2,
   "metadata": {},
   "outputs": [],
   "source": [
    "fig_bezzeless = lambda nc, nr : plt.subplots(ncols=nc, nrows=nr, figsize=(4 * nc, 4), dpi=120, \n",
    "                                             subplot_kw=dict(frameon=False, xticks=[], yticks=[]), \n",
    "                                             gridspec_kw=dict(wspace=0.0, hspace=0.0))\n",
    "    \n",
    "\n",
    "def train_sampling_pattern(train_gen, n=14, loss_fn=F.l1_loss):\n",
    "    bks = next(iter(train_gen))\n",
    "    w = torch.zeros(320).cuda().float()\n",
    "    w[160] = 1\n",
    "    bbatch = 32\n",
    "    w_list = []\n",
    "    pbar = tqdm(range(n))\n",
    "    for count in pbar:\n",
    "        w = torch.autograd.Variable(w, requires_grad=True)\n",
    "        for j in range(bks.shape[0] // bbatch):\n",
    "            bbks = bks[bbatch*j:bbatch*(j+1)].cuda()\n",
    "            bbgt = IFt(bbks).abs()\n",
    "            recs = IFt(bbks * w).abs()\n",
    "            loss = loss_fn(recs, bbgt)\n",
    "            loss.backward()\n",
    "        for i in torch.topk(w.grad, 320, largest=False).indices:\n",
    "            if w[i] == 0: \n",
    "                w = w.detach()\n",
    "                w[i] = 1.\n",
    "                w_list.append(w.clone())\n",
    "                pbar.set_description('select: %d, loss: %.6f' % (i.item(), loss.item()))\n",
    "                break\n",
    "    return w_list\n",
    "\n",
    "def test_sampling_pattern(sampling, val_gen, score_fn=F.l1_loss):\n",
    "    bks = next(iter(val_gen))\n",
    "    scores = []\n",
    "    for j in tqdm(range(bks.shape[0])):\n",
    "        bbks = bks[j:j+1].cuda()\n",
    "        bbgt = IFt(bbks).abs()\n",
    "        with torch.no_grad():\n",
    "            recs = IFt(bbks * sampling).abs()\n",
    "        scores.append(score_fn(recs[:, 220:-220, 60:-60], bbgt[:, 220:-220, 60:-60]).item())\n",
    "    return scores"
   ]
  },
  {
   "cell_type": "code",
   "execution_count": 3,
   "metadata": {},
   "outputs": [],
   "source": [
    "def t2i(x):\n",
    "    x = x - x.min()\n",
    "    x = x / x.max()\n",
    "    x = x * 255.\n",
    "    return x\n",
    "\n",
    "def pt_ssim(pred, gt):\n",
    "    from pytorch_msssim import ssim\n",
    "    return ssim(t2i(pred)[None], t2i(gt)[None], win_size=11)\n",
    "\n",
    "def ssim_score(pred, gt):\n",
    "    from k_space_reconstruction.utils.metrics import ssim\n",
    "    return ssim(t2i(pred).cpu().numpy(), t2i(gt).cpu().numpy())\n",
    "\n",
    "def pt_msssim(pred, gt):\n",
    "    from pytorch_msssim import ms_ssim\n",
    "    return ms_ssim(t2i(pred)[None], t2i(gt)[None])\n",
    "\n",
    "def pt_nmse(pred, gt):\n",
    "    pred = t2i(pred)\n",
    "    gt = t2i(gt)\n",
    "    return torch.norm(gt - pred, p=2) ** 2 / torch.norm(gt, p=2) ** 2\n",
    "\n",
    "def pt_psnr(pred, gt):\n",
    "    pred = t2i(pred)\n",
    "    gt = t2i(gt)\n",
    "    maxval = gt.max()\n",
    "    mse = torch.mean((pred - gt) ** 2)\n",
    "    return 20 * torch.log10(maxval / torch.sqrt(mse))"
   ]
  },
  {
   "cell_type": "code",
   "execution_count": 4,
   "metadata": {},
   "outputs": [],
   "source": [
    "np.random.seed(42)\n",
    "torch.manual_seed(42)\n",
    "\n",
    "train_datasets = {\n",
    "    'PD1T': LegacyFastMRIh5Dataset('/home/a_razumov/small_datasets/fastMRIh5_split/train_PD_1T.h5', None),\n",
    "    'PD3T': LegacyFastMRIh5Dataset('/home/a_razumov/small_datasets/fastMRIh5_split/train_PD_3T.h5', None),\n",
    "    'PDFS1T': LegacyFastMRIh5Dataset('/home/a_razumov/small_datasets/fastMRIh5_split/train_PDFS_1T.h5', None),\n",
    "    'PDFS3T': LegacyFastMRIh5Dataset('/home/a_razumov/small_datasets/fastMRIh5_split/train_PDFS_3T.h5', None),\n",
    "}\n",
    "\n",
    "val_datasets = {\n",
    "    'PD1T': LegacyFastMRIh5Dataset('/home/a_razumov/small_datasets/fastMRIh5_split/val_PD_1T.h5', None),\n",
    "    'PD3T': LegacyFastMRIh5Dataset('/home/a_razumov/small_datasets/fastMRIh5_split/val_PD_3T.h5', None),\n",
    "    'PDFS1T': LegacyFastMRIh5Dataset('/home/a_razumov/small_datasets/fastMRIh5_split/val_PDFS_1T.h5', None),\n",
    "    'PDFS3T': LegacyFastMRIh5Dataset('/home/a_razumov/small_datasets/fastMRIh5_split/val_PDFS_3T.h5', None),\n",
    "}\n",
    "\n",
    "train_generators = {k:torch.utils.data.DataLoader(v, batch_size=len(v), shuffle=True) for k,v in train_datasets.items()}\n",
    "val_generators = {k:torch.utils.data.DataLoader(v, batch_size=len(v), shuffle=False) for k,v in val_datasets.items()}"
   ]
  },
  {
   "cell_type": "code",
   "execution_count": 5,
   "metadata": {},
   "outputs": [],
   "source": [
    "train_dataset = train_datasets['PD3T']\n",
    "val_dataset = val_datasets['PD3T']\n",
    "\n",
    "train_generator = train_generators['PD3T']\n",
    "val_generator = val_generators['PD3T']"
   ]
  },
  {
   "cell_type": "code",
   "execution_count": 6,
   "metadata": {},
   "outputs": [],
   "source": [
    "ks = train_datasets['PD3T'][0]"
   ]
  },
  {
   "cell_type": "code",
   "execution_count": 7,
   "metadata": {},
   "outputs": [
    {
     "data": {
      "text/plain": [
       "torch.Size([640, 320])"
      ]
     },
     "execution_count": 7,
     "metadata": {},
     "output_type": "execute_result"
    }
   ],
   "source": [
    "ks.shape"
   ]
  },
  {
   "cell_type": "markdown",
   "metadata": {},
   "source": [
    "# 5-fold validation x16"
   ]
  },
  {
   "cell_type": "code",
   "execution_count": 8,
   "metadata": {
    "tags": []
   },
   "outputs": [
    {
     "data": {
      "application/vnd.jupyter.widget-view+json": {
       "model_id": "e7c645aaa81a439f9944cce08ddaae7e",
       "version_major": 2,
       "version_minor": 0
      },
      "text/plain": [
       "  0%|          | 0/19 [00:00<?, ?it/s]"
      ]
     },
     "metadata": {},
     "output_type": "display_data"
    },
    {
     "data": {
      "application/vnd.jupyter.widget-view+json": {
       "model_id": "23dedee6ae8c4e7ba7b6e68488f71673",
       "version_major": 2,
       "version_minor": 0
      },
      "text/plain": [
       "  0%|          | 0/2075 [00:00<?, ?it/s]"
      ]
     },
     "metadata": {},
     "output_type": "display_data"
    },
    {
     "data": {
      "application/vnd.jupyter.widget-view+json": {
       "model_id": "b145858e0c1d49dfa509d0f8fed4603d",
       "version_major": 2,
       "version_minor": 0
      },
      "text/plain": [
       "  0%|          | 0/2075 [00:00<?, ?it/s]"
      ]
     },
     "metadata": {},
     "output_type": "display_data"
    },
    {
     "data": {
      "application/vnd.jupyter.widget-view+json": {
       "model_id": "5b95bce404a14bb2804e6201d4e5529e",
       "version_major": 2,
       "version_minor": 0
      },
      "text/plain": [
       "  0%|          | 0/2075 [00:00<?, ?it/s]"
      ]
     },
     "metadata": {},
     "output_type": "display_data"
    },
    {
     "data": {
      "application/vnd.jupyter.widget-view+json": {
       "model_id": "b8a6656b6f53459bbdbdca00b5b2e25b",
       "version_major": 2,
       "version_minor": 0
      },
      "text/plain": [
       "  0%|          | 0/19 [00:00<?, ?it/s]"
      ]
     },
     "metadata": {},
     "output_type": "display_data"
    },
    {
     "data": {
      "application/vnd.jupyter.widget-view+json": {
       "model_id": "5f3b1ae44ccb42cda29b56dc7cb6de9d",
       "version_major": 2,
       "version_minor": 0
      },
      "text/plain": [
       "  0%|          | 0/2075 [00:00<?, ?it/s]"
      ]
     },
     "metadata": {},
     "output_type": "display_data"
    },
    {
     "data": {
      "application/vnd.jupyter.widget-view+json": {
       "model_id": "b1e1445c72aa4474b80e8b467160f878",
       "version_major": 2,
       "version_minor": 0
      },
      "text/plain": [
       "  0%|          | 0/2075 [00:00<?, ?it/s]"
      ]
     },
     "metadata": {},
     "output_type": "display_data"
    },
    {
     "data": {
      "application/vnd.jupyter.widget-view+json": {
       "model_id": "107c404a32e345c6b3f55b0079f083b4",
       "version_major": 2,
       "version_minor": 0
      },
      "text/plain": [
       "  0%|          | 0/2075 [00:00<?, ?it/s]"
      ]
     },
     "metadata": {},
     "output_type": "display_data"
    },
    {
     "data": {
      "application/vnd.jupyter.widget-view+json": {
       "model_id": "4c7707c4d49b4898b7e5afa54facb5a0",
       "version_major": 2,
       "version_minor": 0
      },
      "text/plain": [
       "  0%|          | 0/19 [00:00<?, ?it/s]"
      ]
     },
     "metadata": {},
     "output_type": "display_data"
    },
    {
     "data": {
      "application/vnd.jupyter.widget-view+json": {
       "model_id": "7f0314f586e84c9abc4ccd7d2f016ae6",
       "version_major": 2,
       "version_minor": 0
      },
      "text/plain": [
       "  0%|          | 0/2075 [00:00<?, ?it/s]"
      ]
     },
     "metadata": {},
     "output_type": "display_data"
    },
    {
     "data": {
      "application/vnd.jupyter.widget-view+json": {
       "model_id": "6ea6f8e40beb462ab389520ef2559453",
       "version_major": 2,
       "version_minor": 0
      },
      "text/plain": [
       "  0%|          | 0/2075 [00:00<?, ?it/s]"
      ]
     },
     "metadata": {},
     "output_type": "display_data"
    },
    {
     "data": {
      "application/vnd.jupyter.widget-view+json": {
       "model_id": "f4aa556b3ac54cdbbc81b4d1caef6b3c",
       "version_major": 2,
       "version_minor": 0
      },
      "text/plain": [
       "  0%|          | 0/2075 [00:00<?, ?it/s]"
      ]
     },
     "metadata": {},
     "output_type": "display_data"
    },
    {
     "data": {
      "application/vnd.jupyter.widget-view+json": {
       "model_id": "c353a05555c245a386ef7fcae0f42d8c",
       "version_major": 2,
       "version_minor": 0
      },
      "text/plain": [
       "  0%|          | 0/19 [00:00<?, ?it/s]"
      ]
     },
     "metadata": {},
     "output_type": "display_data"
    },
    {
     "data": {
      "application/vnd.jupyter.widget-view+json": {
       "model_id": "1efa456c89914075bae9edf3dcad4bf7",
       "version_major": 2,
       "version_minor": 0
      },
      "text/plain": [
       "  0%|          | 0/2075 [00:00<?, ?it/s]"
      ]
     },
     "metadata": {},
     "output_type": "display_data"
    },
    {
     "data": {
      "application/vnd.jupyter.widget-view+json": {
       "model_id": "18035a41414f46f79d23c4adc0fd0c12",
       "version_major": 2,
       "version_minor": 0
      },
      "text/plain": [
       "  0%|          | 0/2075 [00:00<?, ?it/s]"
      ]
     },
     "metadata": {},
     "output_type": "display_data"
    },
    {
     "data": {
      "application/vnd.jupyter.widget-view+json": {
       "model_id": "08a354e415e145c8882faa41aec642b9",
       "version_major": 2,
       "version_minor": 0
      },
      "text/plain": [
       "  0%|          | 0/2075 [00:00<?, ?it/s]"
      ]
     },
     "metadata": {},
     "output_type": "display_data"
    },
    {
     "data": {
      "application/vnd.jupyter.widget-view+json": {
       "model_id": "5bbc5e3ab2d64c5b8857c787ec7991c7",
       "version_major": 2,
       "version_minor": 0
      },
      "text/plain": [
       "  0%|          | 0/19 [00:00<?, ?it/s]"
      ]
     },
     "metadata": {},
     "output_type": "display_data"
    },
    {
     "data": {
      "application/vnd.jupyter.widget-view+json": {
       "model_id": "31715df85e494610a3a6308b94638e8a",
       "version_major": 2,
       "version_minor": 0
      },
      "text/plain": [
       "  0%|          | 0/2074 [00:00<?, ?it/s]"
      ]
     },
     "metadata": {},
     "output_type": "display_data"
    },
    {
     "data": {
      "application/vnd.jupyter.widget-view+json": {
       "model_id": "11ce4b125d8e48b49e9963a66f92832d",
       "version_major": 2,
       "version_minor": 0
      },
      "text/plain": [
       "  0%|          | 0/2074 [00:00<?, ?it/s]"
      ]
     },
     "metadata": {},
     "output_type": "display_data"
    },
    {
     "data": {
      "application/vnd.jupyter.widget-view+json": {
       "model_id": "15c7540718de4be3a19c85ab1947736e",
       "version_major": 2,
       "version_minor": 0
      },
      "text/plain": [
       "  0%|          | 0/2074 [00:00<?, ?it/s]"
      ]
     },
     "metadata": {},
     "output_type": "display_data"
    }
   ],
   "source": [
    "from collections import defaultdict\n",
    "from sklearn.model_selection import KFold\n",
    "\n",
    "fastmri_mask_x16 = torch.tensor(EquispacedMaskFunc([0.04], [16])((640, 320))[0]).cuda().float()\n",
    "zm = torch.zeros(320).cuda().float()\n",
    "zm[320//2 - int(20)//2 : 320//2 + int(20)//2] = 1\n",
    "fm = torch.ones(320).cuda().float()\n",
    "\n",
    "fold_scores = defaultdict(dict)\n",
    "\n",
    "for i, (train_id, val_id) in enumerate(KFold(shuffle=False).split(range(len(train_dataset)))):\n",
    "    td = torch.utils.data.Subset(train_dataset, train_id)\n",
    "    vd = torch.utils.data.Subset(train_dataset, val_id)\n",
    "    tg = torch.utils.data.DataLoader(td, batch_size=len(td), shuffle=True)\n",
    "    vg = torch.utils.data.DataLoader(vd, batch_size=len(vd), shuffle=False)\n",
    "    w_list = train_sampling_pattern(tg, n=19, loss_fn=F.l1_loss)\n",
    "    fold_scores[i] = dict(\n",
    "        ours=test_sampling_pattern(w_list[18], vg, score_fn=pt_ssim),\n",
    "        fastmri=test_sampling_pattern(fastmri_mask_x16, vg, score_fn=pt_ssim), \n",
    "        center=test_sampling_pattern(zm, vg, score_fn=pt_ssim),\n",
    "    )\n",
    "fold_scores = [{k:[vv for vv in v] for k,v in dv.items()} for dv in fold_scores.values()]\n",
    "with open('fold_scores_l2.pkl', mode='wb') as f: pickle.dump(fold_scores, f)"
   ]
  },
  {
   "cell_type": "code",
   "execution_count": 9,
   "metadata": {},
   "outputs": [],
   "source": [
    "with open('fold_scores_l2.pkl', 'rb') as f: fold_scores = pickle.load(f)"
   ]
  },
  {
   "cell_type": "code",
   "execution_count": 10,
   "metadata": {},
   "outputs": [
    {
     "name": "stdout",
     "output_type": "stream",
     "text": [
      "Ttest_relResult(statistic=-47.98684720289339, pvalue=1.1282519660101401e-06)\n"
     ]
    },
    {
     "data": {
      "text/html": [
       "<div>\n",
       "<style scoped>\n",
       "    .dataframe tbody tr th:only-of-type {\n",
       "        vertical-align: middle;\n",
       "    }\n",
       "\n",
       "    .dataframe tbody tr th {\n",
       "        vertical-align: top;\n",
       "    }\n",
       "\n",
       "    .dataframe thead th {\n",
       "        text-align: right;\n",
       "    }\n",
       "</style>\n",
       "<table border=\"1\" class=\"dataframe\">\n",
       "  <thead>\n",
       "    <tr style=\"text-align: right;\">\n",
       "      <th></th>\n",
       "      <th>fastmri</th>\n",
       "      <th>center</th>\n",
       "      <th>ours</th>\n",
       "    </tr>\n",
       "  </thead>\n",
       "  <tbody>\n",
       "    <tr>\n",
       "      <th>count</th>\n",
       "      <td>5.000000</td>\n",
       "      <td>5.000000</td>\n",
       "      <td>5.000000</td>\n",
       "    </tr>\n",
       "    <tr>\n",
       "      <th>mean</th>\n",
       "      <td>0.426638</td>\n",
       "      <td>0.467216</td>\n",
       "      <td>0.473714</td>\n",
       "    </tr>\n",
       "    <tr>\n",
       "      <th>std</th>\n",
       "      <td>0.007083</td>\n",
       "      <td>0.007792</td>\n",
       "      <td>0.007812</td>\n",
       "    </tr>\n",
       "    <tr>\n",
       "      <th>min</th>\n",
       "      <td>0.420538</td>\n",
       "      <td>0.461055</td>\n",
       "      <td>0.467785</td>\n",
       "    </tr>\n",
       "    <tr>\n",
       "      <th>25%</th>\n",
       "      <td>0.421140</td>\n",
       "      <td>0.461446</td>\n",
       "      <td>0.468009</td>\n",
       "    </tr>\n",
       "    <tr>\n",
       "      <th>50%</th>\n",
       "      <td>0.425897</td>\n",
       "      <td>0.466263</td>\n",
       "      <td>0.472474</td>\n",
       "    </tr>\n",
       "    <tr>\n",
       "      <th>75%</th>\n",
       "      <td>0.427491</td>\n",
       "      <td>0.467037</td>\n",
       "      <td>0.473371</td>\n",
       "    </tr>\n",
       "    <tr>\n",
       "      <th>max</th>\n",
       "      <td>0.438125</td>\n",
       "      <td>0.480279</td>\n",
       "      <td>0.486933</td>\n",
       "    </tr>\n",
       "  </tbody>\n",
       "</table>\n",
       "</div>"
      ],
      "text/plain": [
       "        fastmri    center      ours\n",
       "count  5.000000  5.000000  5.000000\n",
       "mean   0.426638  0.467216  0.473714\n",
       "std    0.007083  0.007792  0.007812\n",
       "min    0.420538  0.461055  0.467785\n",
       "25%    0.421140  0.461446  0.468009\n",
       "50%    0.425897  0.466263  0.472474\n",
       "75%    0.427491  0.467037  0.473371\n",
       "max    0.438125  0.480279  0.486933"
      ]
     },
     "execution_count": 10,
     "metadata": {},
     "output_type": "execute_result"
    }
   ],
   "source": [
    "import scipy\n",
    "\n",
    "df_dice = pd.DataFrame.from_dict({\n",
    "    'fastmri': [np.mean(v['fastmri']) for v in fold_scores],\n",
    "    'center': [np.mean(v['center']) for v in fold_scores],\n",
    "    'ours': [np.mean(v['ours']) for v in fold_scores]\n",
    "})\n",
    "print(scipy.stats.ttest_rel(df_dice.center, df_dice.ours))\n",
    "df_dice.describe()"
   ]
  },
  {
   "cell_type": "code",
   "execution_count": 11,
   "metadata": {},
   "outputs": [
    {
     "data": {
      "image/png": "[encoded data removed]",
      "text/plain": [
       "<Figure size 432x288 with 1 Axes>"
      ]
     },
     "metadata": {
      "needs_background": "light"
     },
     "output_type": "display_data"
    }
   ],
   "source": [
    "plt.plot(w_list[-1].data.cpu())\n",
    "plt.plot(zm.data.cpu())\n",
    "plt.plot(fastmri_mask_x16.data.cpu())\n",
    "plt.show()"
   ]
  },
  {
   "cell_type": "code",
   "execution_count": 12,
   "metadata": {},
   "outputs": [
    {
     "data": {
      "application/vnd.jupyter.widget-view+json": {
       "model_id": "af1735fd65884ee8bdd4dc1eaf3edcdf",
       "version_major": 2,
       "version_minor": 0
      },
      "text/plain": [
       "  0%|          | 0/19 [00:00<?, ?it/s]"
      ]
     },
     "metadata": {},
     "output_type": "display_data"
    },
    {
     "data": {
      "application/vnd.jupyter.widget-view+json": {
       "model_id": "d199f92146d5487eb9c027a36552a876",
       "version_major": 2,
       "version_minor": 0
      },
      "text/plain": [
       "  0%|          | 0/2075 [00:00<?, ?it/s]"
      ]
     },
     "metadata": {},
     "output_type": "display_data"
    },
    {
     "data": {
      "application/vnd.jupyter.widget-view+json": {
       "model_id": "1c1d52e0dd3f498f861a7b9956fc0263",
       "version_major": 2,
       "version_minor": 0
      },
      "text/plain": [
       "  0%|          | 0/2075 [00:00<?, ?it/s]"
      ]
     },
     "metadata": {},
     "output_type": "display_data"
    },
    {
     "data": {
      "application/vnd.jupyter.widget-view+json": {
       "model_id": "a596e937e04d4c67ad660ac577626d2c",
       "version_major": 2,
       "version_minor": 0
      },
      "text/plain": [
       "  0%|          | 0/2075 [00:00<?, ?it/s]"
      ]
     },
     "metadata": {},
     "output_type": "display_data"
    },
    {
     "data": {
      "application/vnd.jupyter.widget-view+json": {
       "model_id": "56c2d389d66449f09f24a4663cebb5fd",
       "version_major": 2,
       "version_minor": 0
      },
      "text/plain": [
       "  0%|          | 0/19 [00:00<?, ?it/s]"
      ]
     },
     "metadata": {},
     "output_type": "display_data"
    },
    {
     "data": {
      "application/vnd.jupyter.widget-view+json": {
       "model_id": "06a67d39d605472f9278340514830721",
       "version_major": 2,
       "version_minor": 0
      },
      "text/plain": [
       "  0%|          | 0/2075 [00:00<?, ?it/s]"
      ]
     },
     "metadata": {},
     "output_type": "display_data"
    },
    {
     "data": {
      "application/vnd.jupyter.widget-view+json": {
       "model_id": "e9cb7b66d6c34a67977c777b10a2e808",
       "version_major": 2,
       "version_minor": 0
      },
      "text/plain": [
       "  0%|          | 0/2075 [00:00<?, ?it/s]"
      ]
     },
     "metadata": {},
     "output_type": "display_data"
    },
    {
     "data": {
      "application/vnd.jupyter.widget-view+json": {
       "model_id": "d924a7e8012e426aad9fc65ab27ee387",
       "version_major": 2,
       "version_minor": 0
      },
      "text/plain": [
       "  0%|          | 0/2075 [00:00<?, ?it/s]"
      ]
     },
     "metadata": {},
     "output_type": "display_data"
    },
    {
     "data": {
      "application/vnd.jupyter.widget-view+json": {
       "model_id": "e006c24a81864462b40bbc33047ae0cf",
       "version_major": 2,
       "version_minor": 0
      },
      "text/plain": [
       "  0%|          | 0/19 [00:00<?, ?it/s]"
      ]
     },
     "metadata": {},
     "output_type": "display_data"
    },
    {
     "data": {
      "application/vnd.jupyter.widget-view+json": {
       "model_id": "bab626cce32b4aa7bd98aa93a648f06e",
       "version_major": 2,
       "version_minor": 0
      },
      "text/plain": [
       "  0%|          | 0/2075 [00:00<?, ?it/s]"
      ]
     },
     "metadata": {},
     "output_type": "display_data"
    },
    {
     "data": {
      "application/vnd.jupyter.widget-view+json": {
       "model_id": "bc33a8b9b1914324955888579da03255",
       "version_major": 2,
       "version_minor": 0
      },
      "text/plain": [
       "  0%|          | 0/2075 [00:00<?, ?it/s]"
      ]
     },
     "metadata": {},
     "output_type": "display_data"
    },
    {
     "data": {
      "application/vnd.jupyter.widget-view+json": {
       "model_id": "b1978fd522804095bc827b7685b243e0",
       "version_major": 2,
       "version_minor": 0
      },
      "text/plain": [
       "  0%|          | 0/2075 [00:00<?, ?it/s]"
      ]
     },
     "metadata": {},
     "output_type": "display_data"
    },
    {
     "data": {
      "application/vnd.jupyter.widget-view+json": {
       "model_id": "fdd63946e89c4c1b9f3f25edf8e0b545",
       "version_major": 2,
       "version_minor": 0
      },
      "text/plain": [
       "  0%|          | 0/19 [00:00<?, ?it/s]"
      ]
     },
     "metadata": {},
     "output_type": "display_data"
    },
    {
     "data": {
      "application/vnd.jupyter.widget-view+json": {
       "model_id": "77738af512b641d6b27747ff73074841",
       "version_major": 2,
       "version_minor": 0
      },
      "text/plain": [
       "  0%|          | 0/2075 [00:00<?, ?it/s]"
      ]
     },
     "metadata": {},
     "output_type": "display_data"
    },
    {
     "data": {
      "application/vnd.jupyter.widget-view+json": {
       "model_id": "6d4896afe1de4b13be1fc10ee7299d89",
       "version_major": 2,
       "version_minor": 0
      },
      "text/plain": [
       "  0%|          | 0/2075 [00:00<?, ?it/s]"
      ]
     },
     "metadata": {},
     "output_type": "display_data"
    },
    {
     "data": {
      "application/vnd.jupyter.widget-view+json": {
       "model_id": "81b9c5e5de1647d2a4483f1722f08f32",
       "version_major": 2,
       "version_minor": 0
      },
      "text/plain": [
       "  0%|          | 0/2075 [00:00<?, ?it/s]"
      ]
     },
     "metadata": {},
     "output_type": "display_data"
    },
    {
     "data": {
      "application/vnd.jupyter.widget-view+json": {
       "model_id": "a7fbd18ab0084986a25974614d229025",
       "version_major": 2,
       "version_minor": 0
      },
      "text/plain": [
       "  0%|          | 0/19 [00:00<?, ?it/s]"
      ]
     },
     "metadata": {},
     "output_type": "display_data"
    },
    {
     "data": {
      "application/vnd.jupyter.widget-view+json": {
       "model_id": "2fcb542ab0924889a87657e665f457d5",
       "version_major": 2,
       "version_minor": 0
      },
      "text/plain": [
       "  0%|          | 0/2074 [00:00<?, ?it/s]"
      ]
     },
     "metadata": {},
     "output_type": "display_data"
    },
    {
     "data": {
      "application/vnd.jupyter.widget-view+json": {
       "model_id": "1ef7f7529e234e92b9df8d61f47637ff",
       "version_major": 2,
       "version_minor": 0
      },
      "text/plain": [
       "  0%|          | 0/2074 [00:00<?, ?it/s]"
      ]
     },
     "metadata": {},
     "output_type": "display_data"
    },
    {
     "data": {
      "application/vnd.jupyter.widget-view+json": {
       "model_id": "114e7e9a287e41a1b6870c355cab5227",
       "version_major": 2,
       "version_minor": 0
      },
      "text/plain": [
       "  0%|          | 0/2074 [00:00<?, ?it/s]"
      ]
     },
     "metadata": {},
     "output_type": "display_data"
    }
   ],
   "source": [
    "from collections import defaultdict\n",
    "from sklearn.model_selection import KFold\n",
    "\n",
    "fastmri_mask_x16 = torch.tensor(EquispacedMaskFunc([0.04], [16])((640, 320))[0]).cuda().float()\n",
    "zm = torch.zeros(320).cuda().float()\n",
    "zm[320//2 - int(20)//2 : 320//2 + int(20)//2] = 1\n",
    "fm = torch.ones(320).cuda().float()\n",
    "\n",
    "fold_scores = defaultdict(dict)\n",
    "\n",
    "for i, (train_id, val_id) in enumerate(KFold(shuffle=False).split(range(len(train_dataset)))):\n",
    "    td = torch.utils.data.Subset(train_dataset, train_id)\n",
    "    vd = torch.utils.data.Subset(train_dataset, val_id)\n",
    "    tg = torch.utils.data.DataLoader(td, batch_size=len(td), shuffle=True)\n",
    "    vg = torch.utils.data.DataLoader(vd, batch_size=len(vd), shuffle=False)\n",
    "    w_list = train_sampling_pattern(tg, n=19, loss_fn=lambda x,y : -pt_psnr(x, y))\n",
    "    fold_scores[i] = dict(\n",
    "        ours=test_sampling_pattern(w_list[18], vg, score_fn=pt_ssim),\n",
    "        fastmri=test_sampling_pattern(fastmri_mask_x16, vg, score_fn=pt_ssim), \n",
    "        center=test_sampling_pattern(zm, vg, score_fn=pt_ssim),\n",
    "    )\n",
    "fold_scores = [{k:[vv for vv in v] for k,v in dv.items()} for dv in fold_scores.values()]\n",
    "with open('fold_scores_psnr.pkl', mode='wb') as f: pickle.dump(fold_scores, f)"
   ]
  },
  {
   "cell_type": "code",
   "execution_count": 13,
   "metadata": {},
   "outputs": [
    {
     "name": "stdout",
     "output_type": "stream",
     "text": [
      "Ttest_relResult(statistic=-47.98684720289339, pvalue=1.1282519660101401e-06)\n"
     ]
    },
    {
     "data": {
      "text/html": [
       "<div>\n",
       "<style scoped>\n",
       "    .dataframe tbody tr th:only-of-type {\n",
       "        vertical-align: middle;\n",
       "    }\n",
       "\n",
       "    .dataframe tbody tr th {\n",
       "        vertical-align: top;\n",
       "    }\n",
       "\n",
       "    .dataframe thead th {\n",
       "        text-align: right;\n",
       "    }\n",
       "</style>\n",
       "<table border=\"1\" class=\"dataframe\">\n",
       "  <thead>\n",
       "    <tr style=\"text-align: right;\">\n",
       "      <th></th>\n",
       "      <th>fastmri</th>\n",
       "      <th>center</th>\n",
       "      <th>ours</th>\n",
       "    </tr>\n",
       "  </thead>\n",
       "  <tbody>\n",
       "    <tr>\n",
       "      <th>count</th>\n",
       "      <td>5.000000</td>\n",
       "      <td>5.000000</td>\n",
       "      <td>5.000000</td>\n",
       "    </tr>\n",
       "    <tr>\n",
       "      <th>mean</th>\n",
       "      <td>0.433547</td>\n",
       "      <td>0.467216</td>\n",
       "      <td>0.473714</td>\n",
       "    </tr>\n",
       "    <tr>\n",
       "      <th>std</th>\n",
       "      <td>0.006909</td>\n",
       "      <td>0.007792</td>\n",
       "      <td>0.007812</td>\n",
       "    </tr>\n",
       "    <tr>\n",
       "      <th>min</th>\n",
       "      <td>0.427807</td>\n",
       "      <td>0.461055</td>\n",
       "      <td>0.467785</td>\n",
       "    </tr>\n",
       "    <tr>\n",
       "      <th>25%</th>\n",
       "      <td>0.428098</td>\n",
       "      <td>0.461446</td>\n",
       "      <td>0.468009</td>\n",
       "    </tr>\n",
       "    <tr>\n",
       "      <th>50%</th>\n",
       "      <td>0.432685</td>\n",
       "      <td>0.466263</td>\n",
       "      <td>0.472474</td>\n",
       "    </tr>\n",
       "    <tr>\n",
       "      <th>75%</th>\n",
       "      <td>0.434333</td>\n",
       "      <td>0.467037</td>\n",
       "      <td>0.473371</td>\n",
       "    </tr>\n",
       "    <tr>\n",
       "      <th>max</th>\n",
       "      <td>0.444813</td>\n",
       "      <td>0.480279</td>\n",
       "      <td>0.486933</td>\n",
       "    </tr>\n",
       "  </tbody>\n",
       "</table>\n",
       "</div>"
      ],
      "text/plain": [
       "        fastmri    center      ours\n",
       "count  5.000000  5.000000  5.000000\n",
       "mean   0.433547  0.467216  0.473714\n",
       "std    0.006909  0.007792  0.007812\n",
       "min    0.427807  0.461055  0.467785\n",
       "25%    0.428098  0.461446  0.468009\n",
       "50%    0.432685  0.466263  0.472474\n",
       "75%    0.434333  0.467037  0.473371\n",
       "max    0.444813  0.480279  0.486933"
      ]
     },
     "execution_count": 13,
     "metadata": {},
     "output_type": "execute_result"
    }
   ],
   "source": [
    "import scipy\n",
    "\n",
    "with open('fold_scores_psnr.pkl', 'rb') as f: fold_scores = pickle.load(f)\n",
    "\n",
    "df_dice = pd.DataFrame.from_dict({\n",
    "    'fastmri': [np.mean(v['fastmri']) for v in fold_scores],\n",
    "    'center': [np.mean(v['center']) for v in fold_scores],\n",
    "    'ours': [np.mean(v['ours']) for v in fold_scores]\n",
    "})\n",
    "print(scipy.stats.ttest_rel(df_dice.center, df_dice.ours))\n",
    "df_dice.describe()"
   ]
  },
  {
   "cell_type": "code",
   "execution_count": 14,
   "metadata": {},
   "outputs": [
    {
     "data": {
      "application/vnd.jupyter.widget-view+json": {
       "model_id": "d8323648c77a47799ec1893f8fbe821a",
       "version_major": 2,
       "version_minor": 0
      },
      "text/plain": [
       "  0%|          | 0/19 [00:00<?, ?it/s]"
      ]
     },
     "metadata": {},
     "output_type": "display_data"
    },
    {
     "data": {
      "application/vnd.jupyter.widget-view+json": {
       "model_id": "e21129461345487b858dfc8a975319e8",
       "version_major": 2,
       "version_minor": 0
      },
      "text/plain": [
       "  0%|          | 0/2075 [00:00<?, ?it/s]"
      ]
     },
     "metadata": {},
     "output_type": "display_data"
    },
    {
     "data": {
      "application/vnd.jupyter.widget-view+json": {
       "model_id": "3a8b4b46391442a5a3b7503d7ac760b1",
       "version_major": 2,
       "version_minor": 0
      },
      "text/plain": [
       "  0%|          | 0/2075 [00:00<?, ?it/s]"
      ]
     },
     "metadata": {},
     "output_type": "display_data"
    },
    {
     "data": {
      "application/vnd.jupyter.widget-view+json": {
       "model_id": "990d6815a6314bbd975723f3cfc1c887",
       "version_major": 2,
       "version_minor": 0
      },
      "text/plain": [
       "  0%|          | 0/2075 [00:00<?, ?it/s]"
      ]
     },
     "metadata": {},
     "output_type": "display_data"
    },
    {
     "data": {
      "application/vnd.jupyter.widget-view+json": {
       "model_id": "abfba1b2b2a64839a17288fc0d94475e",
       "version_major": 2,
       "version_minor": 0
      },
      "text/plain": [
       "  0%|          | 0/19 [00:00<?, ?it/s]"
      ]
     },
     "metadata": {},
     "output_type": "display_data"
    },
    {
     "data": {
      "application/vnd.jupyter.widget-view+json": {
       "model_id": "e58aed995cc646e58fba8c1260ad5439",
       "version_major": 2,
       "version_minor": 0
      },
      "text/plain": [
       "  0%|          | 0/2075 [00:00<?, ?it/s]"
      ]
     },
     "metadata": {},
     "output_type": "display_data"
    },
    {
     "data": {
      "application/vnd.jupyter.widget-view+json": {
       "model_id": "144666a8ecb6421ba5f7eb69bdaa651b",
       "version_major": 2,
       "version_minor": 0
      },
      "text/plain": [
       "  0%|          | 0/2075 [00:00<?, ?it/s]"
      ]
     },
     "metadata": {},
     "output_type": "display_data"
    },
    {
     "data": {
      "application/vnd.jupyter.widget-view+json": {
       "model_id": "b30db7d61cb44ca8a2412e1ee25422e8",
       "version_major": 2,
       "version_minor": 0
      },
      "text/plain": [
       "  0%|          | 0/2075 [00:00<?, ?it/s]"
      ]
     },
     "metadata": {},
     "output_type": "display_data"
    },
    {
     "data": {
      "application/vnd.jupyter.widget-view+json": {
       "model_id": "b51f43dd918e4ae2a3429c7bbc50f9b5",
       "version_major": 2,
       "version_minor": 0
      },
      "text/plain": [
       "  0%|          | 0/19 [00:00<?, ?it/s]"
      ]
     },
     "metadata": {},
     "output_type": "display_data"
    },
    {
     "data": {
      "application/vnd.jupyter.widget-view+json": {
       "model_id": "e2991dd87a3e4348b392a4b1dbc1f8f9",
       "version_major": 2,
       "version_minor": 0
      },
      "text/plain": [
       "  0%|          | 0/2075 [00:00<?, ?it/s]"
      ]
     },
     "metadata": {},
     "output_type": "display_data"
    },
    {
     "data": {
      "application/vnd.jupyter.widget-view+json": {
       "model_id": "f2cc7c76057c4ae2bd4bde7633e9404a",
       "version_major": 2,
       "version_minor": 0
      },
      "text/plain": [
       "  0%|          | 0/2075 [00:00<?, ?it/s]"
      ]
     },
     "metadata": {},
     "output_type": "display_data"
    },
    {
     "data": {
      "application/vnd.jupyter.widget-view+json": {
       "model_id": "d7e4257a2e3749c08dc803c758c1a04b",
       "version_major": 2,
       "version_minor": 0
      },
      "text/plain": [
       "  0%|          | 0/2075 [00:00<?, ?it/s]"
      ]
     },
     "metadata": {},
     "output_type": "display_data"
    },
    {
     "data": {
      "application/vnd.jupyter.widget-view+json": {
       "model_id": "b84f133e6d5b48eb8521a7ee9ac1a64a",
       "version_major": 2,
       "version_minor": 0
      },
      "text/plain": [
       "  0%|          | 0/19 [00:00<?, ?it/s]"
      ]
     },
     "metadata": {},
     "output_type": "display_data"
    },
    {
     "data": {
      "application/vnd.jupyter.widget-view+json": {
       "model_id": "83963951c7b341b8a472a0d477414d12",
       "version_major": 2,
       "version_minor": 0
      },
      "text/plain": [
       "  0%|          | 0/2075 [00:00<?, ?it/s]"
      ]
     },
     "metadata": {},
     "output_type": "display_data"
    },
    {
     "data": {
      "application/vnd.jupyter.widget-view+json": {
       "model_id": "9737bd23d3714315b0ec37f567f951be",
       "version_major": 2,
       "version_minor": 0
      },
      "text/plain": [
       "  0%|          | 0/2075 [00:00<?, ?it/s]"
      ]
     },
     "metadata": {},
     "output_type": "display_data"
    },
    {
     "data": {
      "application/vnd.jupyter.widget-view+json": {
       "model_id": "2e1b531bae994945b1a630ad54a47a51",
       "version_major": 2,
       "version_minor": 0
      },
      "text/plain": [
       "  0%|          | 0/2075 [00:00<?, ?it/s]"
      ]
     },
     "metadata": {},
     "output_type": "display_data"
    },
    {
     "data": {
      "application/vnd.jupyter.widget-view+json": {
       "model_id": "fb6441bb3a2643a98cdae65af3893a2e",
       "version_major": 2,
       "version_minor": 0
      },
      "text/plain": [
       "  0%|          | 0/19 [00:00<?, ?it/s]"
      ]
     },
     "metadata": {},
     "output_type": "display_data"
    },
    {
     "data": {
      "application/vnd.jupyter.widget-view+json": {
       "model_id": "ae4171e8f93d4a689a2b4ac7831afe62",
       "version_major": 2,
       "version_minor": 0
      },
      "text/plain": [
       "  0%|          | 0/2074 [00:00<?, ?it/s]"
      ]
     },
     "metadata": {},
     "output_type": "display_data"
    },
    {
     "data": {
      "application/vnd.jupyter.widget-view+json": {
       "model_id": "640adf7fcfc34f30a484360c3bb02b91",
       "version_major": 2,
       "version_minor": 0
      },
      "text/plain": [
       "  0%|          | 0/2074 [00:00<?, ?it/s]"
      ]
     },
     "metadata": {},
     "output_type": "display_data"
    },
    {
     "data": {
      "application/vnd.jupyter.widget-view+json": {
       "model_id": "1e9f3bbeec584ac8b446152017338411",
       "version_major": 2,
       "version_minor": 0
      },
      "text/plain": [
       "  0%|          | 0/2074 [00:00<?, ?it/s]"
      ]
     },
     "metadata": {},
     "output_type": "display_data"
    }
   ],
   "source": [
    "from collections import defaultdict\n",
    "from sklearn.model_selection import KFold\n",
    "\n",
    "fastmri_mask_x16 = torch.tensor(EquispacedMaskFunc([0.04], [16])((640, 320))[0]).cuda().float()\n",
    "zm = torch.zeros(320).cuda().float()\n",
    "zm[320//2 - int(20)//2 : 320//2 + int(20)//2] = 1\n",
    "fm = torch.ones(320).cuda().float()\n",
    "\n",
    "fold_scores = defaultdict(dict)\n",
    "\n",
    "for i, (train_id, val_id) in enumerate(KFold(shuffle=False).split(range(len(train_dataset)))):\n",
    "    td = torch.utils.data.Subset(train_dataset, train_id)\n",
    "    vd = torch.utils.data.Subset(train_dataset, val_id)\n",
    "    tg = torch.utils.data.DataLoader(td, batch_size=len(td), shuffle=True)\n",
    "    vg = torch.utils.data.DataLoader(vd, batch_size=len(vd), shuffle=False)\n",
    "    w_list = train_sampling_pattern(tg, n=19, loss_fn=lambda x,y : -pt_ssim(x, y))\n",
    "    fold_scores[i] = dict(\n",
    "        ours=test_sampling_pattern(w_list[18], vg, score_fn=pt_ssim),\n",
    "        fastmri=test_sampling_pattern(fastmri_mask_x16, vg, score_fn=pt_ssim), \n",
    "        center=test_sampling_pattern(zm, vg, score_fn=pt_ssim),\n",
    "    )\n",
    "fold_scores = [{k:[vv for vv in v] for k,v in dv.items()} for dv in fold_scores.values()]\n",
    "with open('fold_scores_ssim.pkl', mode='wb') as f: pickle.dump(fold_scores, f)"
   ]
  },
  {
   "cell_type": "code",
   "execution_count": 15,
   "metadata": {},
   "outputs": [
    {
     "name": "stdout",
     "output_type": "stream",
     "text": [
      "Ttest_relResult(statistic=-3.65686188383289, pvalue=0.021640079477235372)\n"
     ]
    },
    {
     "data": {
      "text/html": [
       "<div>\n",
       "<style scoped>\n",
       "    .dataframe tbody tr th:only-of-type {\n",
       "        vertical-align: middle;\n",
       "    }\n",
       "\n",
       "    .dataframe tbody tr th {\n",
       "        vertical-align: top;\n",
       "    }\n",
       "\n",
       "    .dataframe thead th {\n",
       "        text-align: right;\n",
       "    }\n",
       "</style>\n",
       "<table border=\"1\" class=\"dataframe\">\n",
       "  <thead>\n",
       "    <tr style=\"text-align: right;\">\n",
       "      <th></th>\n",
       "      <th>fastmri</th>\n",
       "      <th>center</th>\n",
       "      <th>ours</th>\n",
       "    </tr>\n",
       "  </thead>\n",
       "  <tbody>\n",
       "    <tr>\n",
       "      <th>count</th>\n",
       "      <td>5.000000</td>\n",
       "      <td>5.000000</td>\n",
       "      <td>5.000000</td>\n",
       "    </tr>\n",
       "    <tr>\n",
       "      <th>mean</th>\n",
       "      <td>0.434053</td>\n",
       "      <td>0.467216</td>\n",
       "      <td>0.468684</td>\n",
       "    </tr>\n",
       "    <tr>\n",
       "      <th>std</th>\n",
       "      <td>0.006879</td>\n",
       "      <td>0.007792</td>\n",
       "      <td>0.007784</td>\n",
       "    </tr>\n",
       "    <tr>\n",
       "      <th>min</th>\n",
       "      <td>0.428345</td>\n",
       "      <td>0.461055</td>\n",
       "      <td>0.463045</td>\n",
       "    </tr>\n",
       "    <tr>\n",
       "      <th>25%</th>\n",
       "      <td>0.428465</td>\n",
       "      <td>0.461446</td>\n",
       "      <td>0.463427</td>\n",
       "    </tr>\n",
       "    <tr>\n",
       "      <th>50%</th>\n",
       "      <td>0.433290</td>\n",
       "      <td>0.466263</td>\n",
       "      <td>0.466223</td>\n",
       "    </tr>\n",
       "    <tr>\n",
       "      <th>75%</th>\n",
       "      <td>0.434973</td>\n",
       "      <td>0.467037</td>\n",
       "      <td>0.468741</td>\n",
       "    </tr>\n",
       "    <tr>\n",
       "      <th>max</th>\n",
       "      <td>0.445190</td>\n",
       "      <td>0.480279</td>\n",
       "      <td>0.481983</td>\n",
       "    </tr>\n",
       "  </tbody>\n",
       "</table>\n",
       "</div>"
      ],
      "text/plain": [
       "        fastmri    center      ours\n",
       "count  5.000000  5.000000  5.000000\n",
       "mean   0.434053  0.467216  0.468684\n",
       "std    0.006879  0.007792  0.007784\n",
       "min    0.428345  0.461055  0.463045\n",
       "25%    0.428465  0.461446  0.463427\n",
       "50%    0.433290  0.466263  0.466223\n",
       "75%    0.434973  0.467037  0.468741\n",
       "max    0.445190  0.480279  0.481983"
      ]
     },
     "execution_count": 15,
     "metadata": {},
     "output_type": "execute_result"
    }
   ],
   "source": [
    "import scipy\n",
    "\n",
    "with open('fold_scores_ssim.pkl', 'rb') as f: fold_scores = pickle.load(f)\n",
    "\n",
    "df_dice = pd.DataFrame.from_dict({\n",
    "    'fastmri': [np.mean(v['fastmri']) for v in fold_scores],\n",
    "    'center': [np.mean(v['center']) for v in fold_scores],\n",
    "    'ours': [np.mean(v['ours']) for v in fold_scores]\n",
    "})\n",
    "print(scipy.stats.ttest_rel(df_dice.center, df_dice.ours))\n",
    "df_dice.describe()"
   ]
  },
  {
   "cell_type": "code",
   "execution_count": 16,
   "metadata": {},
   "outputs": [
    {
     "data": {
      "application/vnd.jupyter.widget-view+json": {
       "model_id": "61a3da699b624cd3a2bef4817bef379f",
       "version_major": 2,
       "version_minor": 0
      },
      "text/plain": [
       "  0%|          | 0/19 [00:00<?, ?it/s]"
      ]
     },
     "metadata": {},
     "output_type": "display_data"
    },
    {
     "data": {
      "application/vnd.jupyter.widget-view+json": {
       "model_id": "5685e82b31544865ab09dc01150faeaf",
       "version_major": 2,
       "version_minor": 0
      },
      "text/plain": [
       "  0%|          | 0/2075 [00:00<?, ?it/s]"
      ]
     },
     "metadata": {},
     "output_type": "display_data"
    },
    {
     "data": {
      "application/vnd.jupyter.widget-view+json": {
       "model_id": "68c9006083c64dc0808405f5d9872b3d",
       "version_major": 2,
       "version_minor": 0
      },
      "text/plain": [
       "  0%|          | 0/2075 [00:00<?, ?it/s]"
      ]
     },
     "metadata": {},
     "output_type": "display_data"
    },
    {
     "data": {
      "application/vnd.jupyter.widget-view+json": {
       "model_id": "d08f4b4957424c26a0a742bcf2d37b2c",
       "version_major": 2,
       "version_minor": 0
      },
      "text/plain": [
       "  0%|          | 0/2075 [00:00<?, ?it/s]"
      ]
     },
     "metadata": {},
     "output_type": "display_data"
    },
    {
     "data": {
      "application/vnd.jupyter.widget-view+json": {
       "model_id": "399f076cbdde4aa894224ee21c2b51dc",
       "version_major": 2,
       "version_minor": 0
      },
      "text/plain": [
       "  0%|          | 0/19 [00:00<?, ?it/s]"
      ]
     },
     "metadata": {},
     "output_type": "display_data"
    },
    {
     "data": {
      "application/vnd.jupyter.widget-view+json": {
       "model_id": "8ff6557555224c6a8f3887f10a34e13f",
       "version_major": 2,
       "version_minor": 0
      },
      "text/plain": [
       "  0%|          | 0/2075 [00:00<?, ?it/s]"
      ]
     },
     "metadata": {},
     "output_type": "display_data"
    },
    {
     "data": {
      "application/vnd.jupyter.widget-view+json": {
       "model_id": "1679c45989284a98862e7cab141d7203",
       "version_major": 2,
       "version_minor": 0
      },
      "text/plain": [
       "  0%|          | 0/2075 [00:00<?, ?it/s]"
      ]
     },
     "metadata": {},
     "output_type": "display_data"
    },
    {
     "data": {
      "application/vnd.jupyter.widget-view+json": {
       "model_id": "a6611b0ce196489f975dac713869579d",
       "version_major": 2,
       "version_minor": 0
      },
      "text/plain": [
       "  0%|          | 0/2075 [00:00<?, ?it/s]"
      ]
     },
     "metadata": {},
     "output_type": "display_data"
    },
    {
     "data": {
      "application/vnd.jupyter.widget-view+json": {
       "model_id": "307648197fdb424d83309a181df6f749",
       "version_major": 2,
       "version_minor": 0
      },
      "text/plain": [
       "  0%|          | 0/19 [00:00<?, ?it/s]"
      ]
     },
     "metadata": {},
     "output_type": "display_data"
    },
    {
     "data": {
      "application/vnd.jupyter.widget-view+json": {
       "model_id": "f8ad6925ba0c4ee5901f350e2829f746",
       "version_major": 2,
       "version_minor": 0
      },
      "text/plain": [
       "  0%|          | 0/2075 [00:00<?, ?it/s]"
      ]
     },
     "metadata": {},
     "output_type": "display_data"
    },
    {
     "data": {
      "application/vnd.jupyter.widget-view+json": {
       "model_id": "eb9e5a1bccfb4b34b638fab415e41daa",
       "version_major": 2,
       "version_minor": 0
      },
      "text/plain": [
       "  0%|          | 0/2075 [00:00<?, ?it/s]"
      ]
     },
     "metadata": {},
     "output_type": "display_data"
    },
    {
     "data": {
      "application/vnd.jupyter.widget-view+json": {
       "model_id": "7ed215de265c47df8f6da81a8f6eb29c",
       "version_major": 2,
       "version_minor": 0
      },
      "text/plain": [
       "  0%|          | 0/2075 [00:00<?, ?it/s]"
      ]
     },
     "metadata": {},
     "output_type": "display_data"
    },
    {
     "data": {
      "application/vnd.jupyter.widget-view+json": {
       "model_id": "5b9b752c064346fc9ff0c0564800a529",
       "version_major": 2,
       "version_minor": 0
      },
      "text/plain": [
       "  0%|          | 0/19 [00:00<?, ?it/s]"
      ]
     },
     "metadata": {},
     "output_type": "display_data"
    },
    {
     "data": {
      "application/vnd.jupyter.widget-view+json": {
       "model_id": "1d8fd6034cca496584d7d91dd55c3926",
       "version_major": 2,
       "version_minor": 0
      },
      "text/plain": [
       "  0%|          | 0/2075 [00:00<?, ?it/s]"
      ]
     },
     "metadata": {},
     "output_type": "display_data"
    },
    {
     "data": {
      "application/vnd.jupyter.widget-view+json": {
       "model_id": "d04415877db34d5883afda8ca4b4ca3a",
       "version_major": 2,
       "version_minor": 0
      },
      "text/plain": [
       "  0%|          | 0/2075 [00:00<?, ?it/s]"
      ]
     },
     "metadata": {},
     "output_type": "display_data"
    },
    {
     "data": {
      "application/vnd.jupyter.widget-view+json": {
       "model_id": "f7ad0c57d8da4bf6b094046a5df7d4ff",
       "version_major": 2,
       "version_minor": 0
      },
      "text/plain": [
       "  0%|          | 0/2075 [00:00<?, ?it/s]"
      ]
     },
     "metadata": {},
     "output_type": "display_data"
    },
    {
     "data": {
      "application/vnd.jupyter.widget-view+json": {
       "model_id": "99118ac7cfa74d079b1468fdd9dc09e6",
       "version_major": 2,
       "version_minor": 0
      },
      "text/plain": [
       "  0%|          | 0/19 [00:00<?, ?it/s]"
      ]
     },
     "metadata": {},
     "output_type": "display_data"
    },
    {
     "data": {
      "application/vnd.jupyter.widget-view+json": {
       "model_id": "b3e70ec7daed4cb99248a890d752cedf",
       "version_major": 2,
       "version_minor": 0
      },
      "text/plain": [
       "  0%|          | 0/2074 [00:00<?, ?it/s]"
      ]
     },
     "metadata": {},
     "output_type": "display_data"
    },
    {
     "data": {
      "application/vnd.jupyter.widget-view+json": {
       "model_id": "95fdf4d295214a89a870cae0c90b58af",
       "version_major": 2,
       "version_minor": 0
      },
      "text/plain": [
       "  0%|          | 0/2074 [00:00<?, ?it/s]"
      ]
     },
     "metadata": {},
     "output_type": "display_data"
    },
    {
     "data": {
      "application/vnd.jupyter.widget-view+json": {
       "model_id": "80783905221841d491635455e759d653",
       "version_major": 2,
       "version_minor": 0
      },
      "text/plain": [
       "  0%|          | 0/2074 [00:00<?, ?it/s]"
      ]
     },
     "metadata": {},
     "output_type": "display_data"
    }
   ],
   "source": [
    "from collections import defaultdict\n",
    "from sklearn.model_selection import KFold\n",
    "\n",
    "fastmri_mask_x16 = torch.tensor(EquispacedMaskFunc([0.04], [16])((640, 320))[0]).cuda().float()\n",
    "zm = torch.zeros(320).cuda().float()\n",
    "zm[320//2 - int(20)//2 : 320//2 + int(20)//2] = 1\n",
    "fm = torch.ones(320).cuda().float()\n",
    "\n",
    "fold_scores = defaultdict(dict)\n",
    "\n",
    "for i, (train_id, val_id) in enumerate(KFold(shuffle=False).split(range(len(train_dataset)))):\n",
    "    td = torch.utils.data.Subset(train_dataset, train_id)\n",
    "    vd = torch.utils.data.Subset(train_dataset, val_id)\n",
    "    tg = torch.utils.data.DataLoader(td, batch_size=len(td), shuffle=True)\n",
    "    vg = torch.utils.data.DataLoader(vd, batch_size=len(vd), shuffle=False)\n",
    "    w_list = train_sampling_pattern(tg, n=19, loss_fn=lambda x,y : -pt_msssim(x, y))\n",
    "    fold_scores[i] = dict(\n",
    "        ours=test_sampling_pattern(w_list[18], vg, score_fn=pt_ssim),\n",
    "        fastmri=test_sampling_pattern(fastmri_mask_x16, vg, score_fn=pt_ssim), \n",
    "        center=test_sampling_pattern(zm, vg, score_fn=pt_ssim),\n",
    "    )\n",
    "fold_scores = [{k:[vv for vv in v] for k,v in dv.items()} for dv in fold_scores.values()]\n",
    "with open('fold_scores_msssim.pkl', mode='wb') as f: pickle.dump(fold_scores, f)"
   ]
  },
  {
   "cell_type": "code",
   "execution_count": 17,
   "metadata": {},
   "outputs": [
    {
     "name": "stdout",
     "output_type": "stream",
     "text": [
      "Ttest_relResult(statistic=-11.243995622619245, pvalue=0.0003563755366608021)\n"
     ]
    },
    {
     "data": {
      "text/html": [
       "<div>\n",
       "<style scoped>\n",
       "    .dataframe tbody tr th:only-of-type {\n",
       "        vertical-align: middle;\n",
       "    }\n",
       "\n",
       "    .dataframe tbody tr th {\n",
       "        vertical-align: top;\n",
       "    }\n",
       "\n",
       "    .dataframe thead th {\n",
       "        text-align: right;\n",
       "    }\n",
       "</style>\n",
       "<table border=\"1\" class=\"dataframe\">\n",
       "  <thead>\n",
       "    <tr style=\"text-align: right;\">\n",
       "      <th></th>\n",
       "      <th>fastmri</th>\n",
       "      <th>center</th>\n",
       "      <th>ours</th>\n",
       "    </tr>\n",
       "  </thead>\n",
       "  <tbody>\n",
       "    <tr>\n",
       "      <th>count</th>\n",
       "      <td>5.000000</td>\n",
       "      <td>5.000000</td>\n",
       "      <td>5.000000</td>\n",
       "    </tr>\n",
       "    <tr>\n",
       "      <th>mean</th>\n",
       "      <td>0.435708</td>\n",
       "      <td>0.467216</td>\n",
       "      <td>0.472808</td>\n",
       "    </tr>\n",
       "    <tr>\n",
       "      <th>std</th>\n",
       "      <td>0.006812</td>\n",
       "      <td>0.007792</td>\n",
       "      <td>0.008207</td>\n",
       "    </tr>\n",
       "    <tr>\n",
       "      <th>min</th>\n",
       "      <td>0.429938</td>\n",
       "      <td>0.461055</td>\n",
       "      <td>0.466266</td>\n",
       "    </tr>\n",
       "    <tr>\n",
       "      <th>25%</th>\n",
       "      <td>0.430732</td>\n",
       "      <td>0.461446</td>\n",
       "      <td>0.468009</td>\n",
       "    </tr>\n",
       "    <tr>\n",
       "      <th>50%</th>\n",
       "      <td>0.434838</td>\n",
       "      <td>0.466263</td>\n",
       "      <td>0.471097</td>\n",
       "    </tr>\n",
       "    <tr>\n",
       "      <th>75%</th>\n",
       "      <td>0.436070</td>\n",
       "      <td>0.467037</td>\n",
       "      <td>0.471737</td>\n",
       "    </tr>\n",
       "    <tr>\n",
       "      <th>max</th>\n",
       "      <td>0.446963</td>\n",
       "      <td>0.480279</td>\n",
       "      <td>0.486933</td>\n",
       "    </tr>\n",
       "  </tbody>\n",
       "</table>\n",
       "</div>"
      ],
      "text/plain": [
       "        fastmri    center      ours\n",
       "count  5.000000  5.000000  5.000000\n",
       "mean   0.435708  0.467216  0.472808\n",
       "std    0.006812  0.007792  0.008207\n",
       "min    0.429938  0.461055  0.466266\n",
       "25%    0.430732  0.461446  0.468009\n",
       "50%    0.434838  0.466263  0.471097\n",
       "75%    0.436070  0.467037  0.471737\n",
       "max    0.446963  0.480279  0.486933"
      ]
     },
     "execution_count": 17,
     "metadata": {},
     "output_type": "execute_result"
    }
   ],
   "source": [
    "import scipy\n",
    "\n",
    "with open('fold_scores_msssim.pkl', 'rb') as f: fold_scores = pickle.load(f)\n",
    "\n",
    "df_dice = pd.DataFrame.from_dict({\n",
    "    'fastmri': [np.mean(v['fastmri']) for v in fold_scores],\n",
    "    'center': [np.mean(v['center']) for v in fold_scores],\n",
    "    'ours': [np.mean(v['ours']) for v in fold_scores]\n",
    "})\n",
    "print(scipy.stats.ttest_rel(df_dice.center, df_dice.ours))\n",
    "df_dice.describe()"
   ]
  },
  {
   "cell_type": "markdown",
   "metadata": {},
   "source": [
    "# 5-fold validation x8"
   ]
  },
  {
   "cell_type": "code",
   "execution_count": 29,
   "metadata": {},
   "outputs": [
    {
     "data": {
      "application/vnd.jupyter.widget-view+json": {
       "model_id": "12746cf5f9ef43fd86c9d34d97f5d14c",
       "version_major": 2,
       "version_minor": 0
      },
      "text/plain": [
       "  0%|          | 0/39 [00:00<?, ?it/s]"
      ]
     },
     "metadata": {},
     "output_type": "display_data"
    },
    {
     "data": {
      "application/vnd.jupyter.widget-view+json": {
       "model_id": "cecaa2e8ea3e4883b0ddbc60b5aa4d95",
       "version_major": 2,
       "version_minor": 0
      },
      "text/plain": [
       "  0%|          | 0/2075 [00:00<?, ?it/s]"
      ]
     },
     "metadata": {},
     "output_type": "display_data"
    },
    {
     "data": {
      "application/vnd.jupyter.widget-view+json": {
       "model_id": "82464d18eaeb496d9923b3508afda344",
       "version_major": 2,
       "version_minor": 0
      },
      "text/plain": [
       "  0%|          | 0/2075 [00:00<?, ?it/s]"
      ]
     },
     "metadata": {},
     "output_type": "display_data"
    },
    {
     "data": {
      "application/vnd.jupyter.widget-view+json": {
       "model_id": "cd1a001a6da14c808a2cd6fa4db2b8d7",
       "version_major": 2,
       "version_minor": 0
      },
      "text/plain": [
       "  0%|          | 0/2075 [00:00<?, ?it/s]"
      ]
     },
     "metadata": {},
     "output_type": "display_data"
    },
    {
     "data": {
      "application/vnd.jupyter.widget-view+json": {
       "model_id": "3d238aff2b05410ba718dee3c0cff2d8",
       "version_major": 2,
       "version_minor": 0
      },
      "text/plain": [
       "  0%|          | 0/39 [00:00<?, ?it/s]"
      ]
     },
     "metadata": {},
     "output_type": "display_data"
    },
    {
     "data": {
      "application/vnd.jupyter.widget-view+json": {
       "model_id": "53f39cb8c5934500a7651c8592f66a39",
       "version_major": 2,
       "version_minor": 0
      },
      "text/plain": [
       "  0%|          | 0/2075 [00:00<?, ?it/s]"
      ]
     },
     "metadata": {},
     "output_type": "display_data"
    },
    {
     "data": {
      "application/vnd.jupyter.widget-view+json": {
       "model_id": "dec6f2a864954f4691c4a3a497cc75ef",
       "version_major": 2,
       "version_minor": 0
      },
      "text/plain": [
       "  0%|          | 0/2075 [00:00<?, ?it/s]"
      ]
     },
     "metadata": {},
     "output_type": "display_data"
    },
    {
     "data": {
      "application/vnd.jupyter.widget-view+json": {
       "model_id": "6fe5460129da4a19815fa5f09c541a4c",
       "version_major": 2,
       "version_minor": 0
      },
      "text/plain": [
       "  0%|          | 0/2075 [00:00<?, ?it/s]"
      ]
     },
     "metadata": {},
     "output_type": "display_data"
    },
    {
     "data": {
      "application/vnd.jupyter.widget-view+json": {
       "model_id": "81651288606e4c0cae9eed2d1917d3a3",
       "version_major": 2,
       "version_minor": 0
      },
      "text/plain": [
       "  0%|          | 0/39 [00:00<?, ?it/s]"
      ]
     },
     "metadata": {},
     "output_type": "display_data"
    },
    {
     "data": {
      "application/vnd.jupyter.widget-view+json": {
       "model_id": "622eaacdb66244c08818116f40d10466",
       "version_major": 2,
       "version_minor": 0
      },
      "text/plain": [
       "  0%|          | 0/2075 [00:00<?, ?it/s]"
      ]
     },
     "metadata": {},
     "output_type": "display_data"
    },
    {
     "data": {
      "application/vnd.jupyter.widget-view+json": {
       "model_id": "beabba0c7756458da504b3f79b502f92",
       "version_major": 2,
       "version_minor": 0
      },
      "text/plain": [
       "  0%|          | 0/2075 [00:00<?, ?it/s]"
      ]
     },
     "metadata": {},
     "output_type": "display_data"
    },
    {
     "data": {
      "application/vnd.jupyter.widget-view+json": {
       "model_id": "c1be15a340d74550bb9557b27fc9c77d",
       "version_major": 2,
       "version_minor": 0
      },
      "text/plain": [
       "  0%|          | 0/2075 [00:00<?, ?it/s]"
      ]
     },
     "metadata": {},
     "output_type": "display_data"
    },
    {
     "data": {
      "application/vnd.jupyter.widget-view+json": {
       "model_id": "cbce429477f14bfdaaa75fd3a48611cd",
       "version_major": 2,
       "version_minor": 0
      },
      "text/plain": [
       "  0%|          | 0/39 [00:00<?, ?it/s]"
      ]
     },
     "metadata": {},
     "output_type": "display_data"
    },
    {
     "data": {
      "application/vnd.jupyter.widget-view+json": {
       "model_id": "dd73de0be5f94d95baa7621e9913ddd2",
       "version_major": 2,
       "version_minor": 0
      },
      "text/plain": [
       "  0%|          | 0/2075 [00:00<?, ?it/s]"
      ]
     },
     "metadata": {},
     "output_type": "display_data"
    },
    {
     "data": {
      "application/vnd.jupyter.widget-view+json": {
       "model_id": "bb64997f78f941c3af3ed9ecc279ff9a",
       "version_major": 2,
       "version_minor": 0
      },
      "text/plain": [
       "  0%|          | 0/2075 [00:00<?, ?it/s]"
      ]
     },
     "metadata": {},
     "output_type": "display_data"
    },
    {
     "data": {
      "application/vnd.jupyter.widget-view+json": {
       "model_id": "4cef7e033396463ea6cebf3efae5f90d",
       "version_major": 2,
       "version_minor": 0
      },
      "text/plain": [
       "  0%|          | 0/2075 [00:00<?, ?it/s]"
      ]
     },
     "metadata": {},
     "output_type": "display_data"
    },
    {
     "data": {
      "application/vnd.jupyter.widget-view+json": {
       "model_id": "f299df6added43ff80dcc3732229d6fa",
       "version_major": 2,
       "version_minor": 0
      },
      "text/plain": [
       "  0%|          | 0/39 [00:00<?, ?it/s]"
      ]
     },
     "metadata": {},
     "output_type": "display_data"
    },
    {
     "data": {
      "application/vnd.jupyter.widget-view+json": {
       "model_id": "bfd392546178484b80a0fa1bd119e356",
       "version_major": 2,
       "version_minor": 0
      },
      "text/plain": [
       "  0%|          | 0/2074 [00:00<?, ?it/s]"
      ]
     },
     "metadata": {},
     "output_type": "display_data"
    },
    {
     "data": {
      "application/vnd.jupyter.widget-view+json": {
       "model_id": "4c97306c82bf46ac91d750ab0f90e4de",
       "version_major": 2,
       "version_minor": 0
      },
      "text/plain": [
       "  0%|          | 0/2074 [00:00<?, ?it/s]"
      ]
     },
     "metadata": {},
     "output_type": "display_data"
    },
    {
     "data": {
      "application/vnd.jupyter.widget-view+json": {
       "model_id": "15fb3580333849e59cbcc51c8453f7ea",
       "version_major": 2,
       "version_minor": 0
      },
      "text/plain": [
       "  0%|          | 0/2074 [00:00<?, ?it/s]"
      ]
     },
     "metadata": {},
     "output_type": "display_data"
    }
   ],
   "source": [
    "from collections import defaultdict\n",
    "from sklearn.model_selection import KFold\n",
    "\n",
    "fastmri_mask_x8 = torch.tensor(EquispacedMaskFunc([0.04], [8])((640, 320))[0]).cuda().float()\n",
    "zm = torch.zeros(320).cuda().float()\n",
    "zm[320//2 - int(40)//2 : 320//2 + int(40)//2] = 1\n",
    "fm = torch.ones(320).cuda().float()\n",
    "\n",
    "fold_scores = defaultdict(dict)\n",
    "\n",
    "for i, (train_id, val_id) in enumerate(KFold(shuffle=False).split(range(len(train_dataset)))):\n",
    "    td = torch.utils.data.Subset(train_dataset, train_id)\n",
    "    vd = torch.utils.data.Subset(train_dataset, val_id)\n",
    "    tg = torch.utils.data.DataLoader(td, batch_size=len(td), shuffle=True)\n",
    "    vg = torch.utils.data.DataLoader(vd, batch_size=len(vd), shuffle=False)\n",
    "    w_list = train_sampling_pattern(tg, n=39, loss_fn=F.l1_loss)\n",
    "    fold_scores[i] = dict(\n",
    "        ours=test_sampling_pattern(w_list[-1], vg, score_fn=pt_ssim),\n",
    "        fastmri=test_sampling_pattern(fastmri_mask_x8, vg, score_fn=pt_ssim), \n",
    "        center=test_sampling_pattern(zm, vg, score_fn=pt_ssim),\n",
    "    )\n",
    "fold_scores = [{k:[vv for vv in v] for k,v in dv.items()} for dv in fold_scores.values()]\n",
    "with open('fold_scores_l2_x8.pkl', mode='wb') as f: pickle.dump(fold_scores, f)"
   ]
  },
  {
   "cell_type": "code",
   "execution_count": 30,
   "metadata": {},
   "outputs": [
    {
     "name": "stdout",
     "output_type": "stream",
     "text": [
      "Ttest_relResult(statistic=-57.36459347746635, pvalue=5.529632110604527e-07)\n"
     ]
    },
    {
     "data": {
      "text/html": [
       "<div>\n",
       "<style scoped>\n",
       "    .dataframe tbody tr th:only-of-type {\n",
       "        vertical-align: middle;\n",
       "    }\n",
       "\n",
       "    .dataframe tbody tr th {\n",
       "        vertical-align: top;\n",
       "    }\n",
       "\n",
       "    .dataframe thead th {\n",
       "        text-align: right;\n",
       "    }\n",
       "</style>\n",
       "<table border=\"1\" class=\"dataframe\">\n",
       "  <thead>\n",
       "    <tr style=\"text-align: right;\">\n",
       "      <th></th>\n",
       "      <th>fastmri</th>\n",
       "      <th>center</th>\n",
       "      <th>ours</th>\n",
       "    </tr>\n",
       "  </thead>\n",
       "  <tbody>\n",
       "    <tr>\n",
       "      <th>count</th>\n",
       "      <td>5.000000</td>\n",
       "      <td>5.000000</td>\n",
       "      <td>5.000000</td>\n",
       "    </tr>\n",
       "    <tr>\n",
       "      <th>mean</th>\n",
       "      <td>0.470528</td>\n",
       "      <td>0.576725</td>\n",
       "      <td>0.583744</td>\n",
       "    </tr>\n",
       "    <tr>\n",
       "      <th>std</th>\n",
       "      <td>0.006357</td>\n",
       "      <td>0.007931</td>\n",
       "      <td>0.007772</td>\n",
       "    </tr>\n",
       "    <tr>\n",
       "      <th>min</th>\n",
       "      <td>0.464331</td>\n",
       "      <td>0.570392</td>\n",
       "      <td>0.577465</td>\n",
       "    </tr>\n",
       "    <tr>\n",
       "      <th>25%</th>\n",
       "      <td>0.465569</td>\n",
       "      <td>0.572153</td>\n",
       "      <td>0.579560</td>\n",
       "    </tr>\n",
       "    <tr>\n",
       "      <th>50%</th>\n",
       "      <td>0.470177</td>\n",
       "      <td>0.574047</td>\n",
       "      <td>0.581145</td>\n",
       "    </tr>\n",
       "    <tr>\n",
       "      <th>75%</th>\n",
       "      <td>0.472262</td>\n",
       "      <td>0.576763</td>\n",
       "      <td>0.583471</td>\n",
       "    </tr>\n",
       "    <tr>\n",
       "      <th>max</th>\n",
       "      <td>0.480302</td>\n",
       "      <td>0.590269</td>\n",
       "      <td>0.597080</td>\n",
       "    </tr>\n",
       "  </tbody>\n",
       "</table>\n",
       "</div>"
      ],
      "text/plain": [
       "        fastmri    center      ours\n",
       "count  5.000000  5.000000  5.000000\n",
       "mean   0.470528  0.576725  0.583744\n",
       "std    0.006357  0.007931  0.007772\n",
       "min    0.464331  0.570392  0.577465\n",
       "25%    0.465569  0.572153  0.579560\n",
       "50%    0.470177  0.574047  0.581145\n",
       "75%    0.472262  0.576763  0.583471\n",
       "max    0.480302  0.590269  0.597080"
      ]
     },
     "execution_count": 30,
     "metadata": {},
     "output_type": "execute_result"
    }
   ],
   "source": [
    "import scipy\n",
    "\n",
    "with open('fold_scores_l2_x8.pkl', 'rb') as f: fold_scores = pickle.load(f)\n",
    "\n",
    "df_dice = pd.DataFrame.from_dict({\n",
    "    'fastmri': [np.mean(v['fastmri']) for v in fold_scores],\n",
    "    'center': [np.mean(v['center']) for v in fold_scores],\n",
    "    'ours': [np.mean(v['ours']) for v in fold_scores]\n",
    "})\n",
    "print(scipy.stats.ttest_rel(df_dice.center, df_dice.ours))\n",
    "df_dice.describe()"
   ]
  },
  {
   "cell_type": "markdown",
   "metadata": {},
   "source": [
    "# 5-fold validation x5"
   ]
  },
  {
   "cell_type": "code",
   "execution_count": 38,
   "metadata": {},
   "outputs": [
    {
     "data": {
      "application/vnd.jupyter.widget-view+json": {
       "model_id": "38a74e419ad048799d27884019a4f882",
       "version_major": 2,
       "version_minor": 0
      },
      "text/plain": [
       "  0%|          | 0/63 [00:00<?, ?it/s]"
      ]
     },
     "metadata": {},
     "output_type": "display_data"
    },
    {
     "data": {
      "application/vnd.jupyter.widget-view+json": {
       "model_id": "da7fa43e715a4555b431c6707844075a",
       "version_major": 2,
       "version_minor": 0
      },
      "text/plain": [
       "  0%|          | 0/2075 [00:00<?, ?it/s]"
      ]
     },
     "metadata": {},
     "output_type": "display_data"
    },
    {
     "data": {
      "application/vnd.jupyter.widget-view+json": {
       "model_id": "282086dbd87b43a39dcdc8f870cfbfa1",
       "version_major": 2,
       "version_minor": 0
      },
      "text/plain": [
       "  0%|          | 0/2075 [00:00<?, ?it/s]"
      ]
     },
     "metadata": {},
     "output_type": "display_data"
    },
    {
     "data": {
      "application/vnd.jupyter.widget-view+json": {
       "model_id": "8e4567732829484cb2fab097230978cf",
       "version_major": 2,
       "version_minor": 0
      },
      "text/plain": [
       "  0%|          | 0/2075 [00:00<?, ?it/s]"
      ]
     },
     "metadata": {},
     "output_type": "display_data"
    },
    {
     "data": {
      "application/vnd.jupyter.widget-view+json": {
       "model_id": "2030873c27664ce78ed40b1a22bd01c8",
       "version_major": 2,
       "version_minor": 0
      },
      "text/plain": [
       "  0%|          | 0/63 [00:00<?, ?it/s]"
      ]
     },
     "metadata": {},
     "output_type": "display_data"
    },
    {
     "data": {
      "application/vnd.jupyter.widget-view+json": {
       "model_id": "4e77743728c54f1fb13e2ed98eec1ab7",
       "version_major": 2,
       "version_minor": 0
      },
      "text/plain": [
       "  0%|          | 0/2075 [00:00<?, ?it/s]"
      ]
     },
     "metadata": {},
     "output_type": "display_data"
    },
    {
     "data": {
      "application/vnd.jupyter.widget-view+json": {
       "model_id": "b789230afa8d4deb921c5102bdc332c0",
       "version_major": 2,
       "version_minor": 0
      },
      "text/plain": [
       "  0%|          | 0/2075 [00:00<?, ?it/s]"
      ]
     },
     "metadata": {},
     "output_type": "display_data"
    },
    {
     "data": {
      "application/vnd.jupyter.widget-view+json": {
       "model_id": "e9c8dde2cd77414e9e7d77db2e251ccf",
       "version_major": 2,
       "version_minor": 0
      },
      "text/plain": [
       "  0%|          | 0/2075 [00:00<?, ?it/s]"
      ]
     },
     "metadata": {},
     "output_type": "display_data"
    },
    {
     "data": {
      "application/vnd.jupyter.widget-view+json": {
       "model_id": "3365f3070c8b466a8ad5bce42432dad8",
       "version_major": 2,
       "version_minor": 0
      },
      "text/plain": [
       "  0%|          | 0/63 [00:00<?, ?it/s]"
      ]
     },
     "metadata": {},
     "output_type": "display_data"
    },
    {
     "data": {
      "application/vnd.jupyter.widget-view+json": {
       "model_id": "d006997e5688415e9b8279cab4327711",
       "version_major": 2,
       "version_minor": 0
      },
      "text/plain": [
       "  0%|          | 0/2075 [00:00<?, ?it/s]"
      ]
     },
     "metadata": {},
     "output_type": "display_data"
    },
    {
     "data": {
      "application/vnd.jupyter.widget-view+json": {
       "model_id": "e677a1f34d554d41a66db4026d4c4e0c",
       "version_major": 2,
       "version_minor": 0
      },
      "text/plain": [
       "  0%|          | 0/2075 [00:00<?, ?it/s]"
      ]
     },
     "metadata": {},
     "output_type": "display_data"
    },
    {
     "data": {
      "application/vnd.jupyter.widget-view+json": {
       "model_id": "99f837f34c5e40618d215aebf5af3fe7",
       "version_major": 2,
       "version_minor": 0
      },
      "text/plain": [
       "  0%|          | 0/2075 [00:00<?, ?it/s]"
      ]
     },
     "metadata": {},
     "output_type": "display_data"
    },
    {
     "data": {
      "application/vnd.jupyter.widget-view+json": {
       "model_id": "59427c6abaf141d3bba7abe1d9baa8fb",
       "version_major": 2,
       "version_minor": 0
      },
      "text/plain": [
       "  0%|          | 0/63 [00:00<?, ?it/s]"
      ]
     },
     "metadata": {},
     "output_type": "display_data"
    },
    {
     "data": {
      "application/vnd.jupyter.widget-view+json": {
       "model_id": "dc2d0e2c9a58477788af0ef7bfb95b37",
       "version_major": 2,
       "version_minor": 0
      },
      "text/plain": [
       "  0%|          | 0/2075 [00:00<?, ?it/s]"
      ]
     },
     "metadata": {},
     "output_type": "display_data"
    },
    {
     "data": {
      "application/vnd.jupyter.widget-view+json": {
       "model_id": "b9c7b9f9323b435a9a4ecb8a57011259",
       "version_major": 2,
       "version_minor": 0
      },
      "text/plain": [
       "  0%|          | 0/2075 [00:00<?, ?it/s]"
      ]
     },
     "metadata": {},
     "output_type": "display_data"
    },
    {
     "data": {
      "application/vnd.jupyter.widget-view+json": {
       "model_id": "692784c46ee444fdb3358ec6e187d2c5",
       "version_major": 2,
       "version_minor": 0
      },
      "text/plain": [
       "  0%|          | 0/2075 [00:00<?, ?it/s]"
      ]
     },
     "metadata": {},
     "output_type": "display_data"
    },
    {
     "data": {
      "application/vnd.jupyter.widget-view+json": {
       "model_id": "ddc12703d0304c02a71130db4b514cef",
       "version_major": 2,
       "version_minor": 0
      },
      "text/plain": [
       "  0%|          | 0/63 [00:00<?, ?it/s]"
      ]
     },
     "metadata": {},
     "output_type": "display_data"
    },
    {
     "data": {
      "application/vnd.jupyter.widget-view+json": {
       "model_id": "f11108720e69486396d8503cf4a71ac4",
       "version_major": 2,
       "version_minor": 0
      },
      "text/plain": [
       "  0%|          | 0/2074 [00:00<?, ?it/s]"
      ]
     },
     "metadata": {},
     "output_type": "display_data"
    },
    {
     "data": {
      "application/vnd.jupyter.widget-view+json": {
       "model_id": "de427f99dcab4757a264296d33586baa",
       "version_major": 2,
       "version_minor": 0
      },
      "text/plain": [
       "  0%|          | 0/2074 [00:00<?, ?it/s]"
      ]
     },
     "metadata": {},
     "output_type": "display_data"
    },
    {
     "data": {
      "application/vnd.jupyter.widget-view+json": {
       "model_id": "bbdc91fdb0314ea9be08d96bf2aaabe5",
       "version_major": 2,
       "version_minor": 0
      },
      "text/plain": [
       "  0%|          | 0/2074 [00:00<?, ?it/s]"
      ]
     },
     "metadata": {},
     "output_type": "display_data"
    }
   ],
   "source": [
    "from collections import defaultdict\n",
    "from sklearn.model_selection import KFold\n",
    "\n",
    "fastmri_mask_x5 = torch.tensor(EquispacedMaskFunc([0.04], [5])((640, 320))[0]).cuda().float()\n",
    "zm = torch.zeros(320).cuda().float()\n",
    "zm[320//2 - int(64)//2 : 320//2 + int(64)//2] = 1\n",
    "fm = torch.ones(320).cuda().float()\n",
    "\n",
    "fold_scores = defaultdict(dict)\n",
    "\n",
    "for i, (train_id, val_id) in enumerate(KFold(shuffle=False).split(range(len(train_dataset)))):\n",
    "    td = torch.utils.data.Subset(train_dataset, train_id)\n",
    "    vd = torch.utils.data.Subset(train_dataset, val_id)\n",
    "    tg = torch.utils.data.DataLoader(td, batch_size=len(td), shuffle=True)\n",
    "    vg = torch.utils.data.DataLoader(vd, batch_size=len(vd), shuffle=False)\n",
    "    w_list = train_sampling_pattern(tg, n=63, loss_fn=F.l1_loss)\n",
    "    fold_scores[i] = dict(\n",
    "        ours=test_sampling_pattern(w_list[-1], vg, score_fn=pt_ssim),\n",
    "        fastmri=test_sampling_pattern(fastmri_mask_x5, vg, score_fn=pt_ssim), \n",
    "        center=test_sampling_pattern(zm, vg, score_fn=pt_ssim),\n",
    "    )\n",
    "fold_scores = [{k:[vv for vv in v] for k,v in dv.items()} for dv in fold_scores.values()]\n",
    "with open('fold_scores_l2_x5.pkl', mode='wb') as f: pickle.dump(fold_scores, f)"
   ]
  },
  {
   "cell_type": "code",
   "execution_count": 39,
   "metadata": {},
   "outputs": [
    {
     "name": "stdout",
     "output_type": "stream",
     "text": [
      "Ttest_relResult(statistic=-24.933966132959284, pvalue=1.5358296329315145e-05)\n"
     ]
    },
    {
     "data": {
      "text/html": [
       "<div>\n",
       "<style scoped>\n",
       "    .dataframe tbody tr th:only-of-type {\n",
       "        vertical-align: middle;\n",
       "    }\n",
       "\n",
       "    .dataframe tbody tr th {\n",
       "        vertical-align: top;\n",
       "    }\n",
       "\n",
       "    .dataframe thead th {\n",
       "        text-align: right;\n",
       "    }\n",
       "</style>\n",
       "<table border=\"1\" class=\"dataframe\">\n",
       "  <thead>\n",
       "    <tr style=\"text-align: right;\">\n",
       "      <th></th>\n",
       "      <th>fastmri</th>\n",
       "      <th>center</th>\n",
       "      <th>ours</th>\n",
       "    </tr>\n",
       "  </thead>\n",
       "  <tbody>\n",
       "    <tr>\n",
       "      <th>count</th>\n",
       "      <td>5.000000</td>\n",
       "      <td>5.000000</td>\n",
       "      <td>5.000000</td>\n",
       "    </tr>\n",
       "    <tr>\n",
       "      <th>mean</th>\n",
       "      <td>0.530906</td>\n",
       "      <td>0.662424</td>\n",
       "      <td>0.670277</td>\n",
       "    </tr>\n",
       "    <tr>\n",
       "      <th>std</th>\n",
       "      <td>0.005730</td>\n",
       "      <td>0.007718</td>\n",
       "      <td>0.007062</td>\n",
       "    </tr>\n",
       "    <tr>\n",
       "      <th>min</th>\n",
       "      <td>0.524761</td>\n",
       "      <td>0.656544</td>\n",
       "      <td>0.665090</td>\n",
       "    </tr>\n",
       "    <tr>\n",
       "      <th>25%</th>\n",
       "      <td>0.526394</td>\n",
       "      <td>0.659034</td>\n",
       "      <td>0.666992</td>\n",
       "    </tr>\n",
       "    <tr>\n",
       "      <th>50%</th>\n",
       "      <td>0.530878</td>\n",
       "      <td>0.659239</td>\n",
       "      <td>0.667079</td>\n",
       "    </tr>\n",
       "    <tr>\n",
       "      <th>75%</th>\n",
       "      <td>0.533411</td>\n",
       "      <td>0.661421</td>\n",
       "      <td>0.669654</td>\n",
       "    </tr>\n",
       "    <tr>\n",
       "      <th>max</th>\n",
       "      <td>0.539088</td>\n",
       "      <td>0.675880</td>\n",
       "      <td>0.682572</td>\n",
       "    </tr>\n",
       "  </tbody>\n",
       "</table>\n",
       "</div>"
      ],
      "text/plain": [
       "        fastmri    center      ours\n",
       "count  5.000000  5.000000  5.000000\n",
       "mean   0.530906  0.662424  0.670277\n",
       "std    0.005730  0.007718  0.007062\n",
       "min    0.524761  0.656544  0.665090\n",
       "25%    0.526394  0.659034  0.666992\n",
       "50%    0.530878  0.659239  0.667079\n",
       "75%    0.533411  0.661421  0.669654\n",
       "max    0.539088  0.675880  0.682572"
      ]
     },
     "execution_count": 39,
     "metadata": {},
     "output_type": "execute_result"
    }
   ],
   "source": [
    "import scipy\n",
    "\n",
    "with open('fold_scores_l2_x5.pkl', 'rb') as f: fold_scores = pickle.load(f)\n",
    "\n",
    "df_dice = pd.DataFrame.from_dict({\n",
    "    'fastmri': [np.mean(v['fastmri']) for v in fold_scores],\n",
    "    'center': [np.mean(v['center']) for v in fold_scores],\n",
    "    'ours': [np.mean(v['ours']) for v in fold_scores]\n",
    "})\n",
    "print(scipy.stats.ttest_rel(df_dice.center, df_dice.ours))\n",
    "df_dice.describe()"
   ]
  },
  {
   "cell_type": "markdown",
   "metadata": {},
   "source": [
    "# 5-fold validation x4"
   ]
  },
  {
   "cell_type": "code",
   "execution_count": 40,
   "metadata": {},
   "outputs": [
    {
     "data": {
      "application/vnd.jupyter.widget-view+json": {
       "model_id": "39acb8c8cbfb4d698b00fa2ed11f6a6f",
       "version_major": 2,
       "version_minor": 0
      },
      "text/plain": [
       "  0%|          | 0/79 [00:00<?, ?it/s]"
      ]
     },
     "metadata": {},
     "output_type": "display_data"
    },
    {
     "data": {
      "application/vnd.jupyter.widget-view+json": {
       "model_id": "01908ff14ee04af4943c9023ed2149de",
       "version_major": 2,
       "version_minor": 0
      },
      "text/plain": [
       "  0%|          | 0/2075 [00:00<?, ?it/s]"
      ]
     },
     "metadata": {},
     "output_type": "display_data"
    },
    {
     "data": {
      "application/vnd.jupyter.widget-view+json": {
       "model_id": "69249178d4d247fa8d2af877c5ccb197",
       "version_major": 2,
       "version_minor": 0
      },
      "text/plain": [
       "  0%|          | 0/2075 [00:00<?, ?it/s]"
      ]
     },
     "metadata": {},
     "output_type": "display_data"
    },
    {
     "data": {
      "application/vnd.jupyter.widget-view+json": {
       "model_id": "48dd4b071b5748429495d0b304172453",
       "version_major": 2,
       "version_minor": 0
      },
      "text/plain": [
       "  0%|          | 0/2075 [00:00<?, ?it/s]"
      ]
     },
     "metadata": {},
     "output_type": "display_data"
    },
    {
     "data": {
      "application/vnd.jupyter.widget-view+json": {
       "model_id": "028fc68b5b744f3f931e105664b7479e",
       "version_major": 2,
       "version_minor": 0
      },
      "text/plain": [
       "  0%|          | 0/79 [00:00<?, ?it/s]"
      ]
     },
     "metadata": {},
     "output_type": "display_data"
    },
    {
     "data": {
      "application/vnd.jupyter.widget-view+json": {
       "model_id": "8f61717be91d410abb031ff443e73dcb",
       "version_major": 2,
       "version_minor": 0
      },
      "text/plain": [
       "  0%|          | 0/2075 [00:00<?, ?it/s]"
      ]
     },
     "metadata": {},
     "output_type": "display_data"
    },
    {
     "data": {
      "application/vnd.jupyter.widget-view+json": {
       "model_id": "f49042435c324b74a8906589c44e2953",
       "version_major": 2,
       "version_minor": 0
      },
      "text/plain": [
       "  0%|          | 0/2075 [00:00<?, ?it/s]"
      ]
     },
     "metadata": {},
     "output_type": "display_data"
    },
    {
     "data": {
      "application/vnd.jupyter.widget-view+json": {
       "model_id": "cf4fdbf5598b4bd9a84f4f2ee543beba",
       "version_major": 2,
       "version_minor": 0
      },
      "text/plain": [
       "  0%|          | 0/2075 [00:00<?, ?it/s]"
      ]
     },
     "metadata": {},
     "output_type": "display_data"
    },
    {
     "data": {
      "application/vnd.jupyter.widget-view+json": {
       "model_id": "be49b02c98ed4306903899033a1573ad",
       "version_major": 2,
       "version_minor": 0
      },
      "text/plain": [
       "  0%|          | 0/79 [00:00<?, ?it/s]"
      ]
     },
     "metadata": {},
     "output_type": "display_data"
    },
    {
     "data": {
      "application/vnd.jupyter.widget-view+json": {
       "model_id": "e605823cdc824cd89e1764d3b3c60281",
       "version_major": 2,
       "version_minor": 0
      },
      "text/plain": [
       "  0%|          | 0/2075 [00:00<?, ?it/s]"
      ]
     },
     "metadata": {},
     "output_type": "display_data"
    },
    {
     "data": {
      "application/vnd.jupyter.widget-view+json": {
       "model_id": "011a8e9780cf4c3ba726db08198c6e5b",
       "version_major": 2,
       "version_minor": 0
      },
      "text/plain": [
       "  0%|          | 0/2075 [00:00<?, ?it/s]"
      ]
     },
     "metadata": {},
     "output_type": "display_data"
    },
    {
     "data": {
      "application/vnd.jupyter.widget-view+json": {
       "model_id": "8b88bc58b18b49a7889d9fad28cfeb3f",
       "version_major": 2,
       "version_minor": 0
      },
      "text/plain": [
       "  0%|          | 0/2075 [00:00<?, ?it/s]"
      ]
     },
     "metadata": {},
     "output_type": "display_data"
    },
    {
     "data": {
      "application/vnd.jupyter.widget-view+json": {
       "model_id": "9a95bf6d121446e58b8d1de095a67178",
       "version_major": 2,
       "version_minor": 0
      },
      "text/plain": [
       "  0%|          | 0/79 [00:00<?, ?it/s]"
      ]
     },
     "metadata": {},
     "output_type": "display_data"
    },
    {
     "data": {
      "application/vnd.jupyter.widget-view+json": {
       "model_id": "017cb3f316784809876f5e58da8826e5",
       "version_major": 2,
       "version_minor": 0
      },
      "text/plain": [
       "  0%|          | 0/2075 [00:00<?, ?it/s]"
      ]
     },
     "metadata": {},
     "output_type": "display_data"
    },
    {
     "data": {
      "application/vnd.jupyter.widget-view+json": {
       "model_id": "5421c75ca09c46c3806ea09e780d4d10",
       "version_major": 2,
       "version_minor": 0
      },
      "text/plain": [
       "  0%|          | 0/2075 [00:00<?, ?it/s]"
      ]
     },
     "metadata": {},
     "output_type": "display_data"
    },
    {
     "data": {
      "application/vnd.jupyter.widget-view+json": {
       "model_id": "7bd5ed838dc4459f89d75543aa0862d9",
       "version_major": 2,
       "version_minor": 0
      },
      "text/plain": [
       "  0%|          | 0/2075 [00:00<?, ?it/s]"
      ]
     },
     "metadata": {},
     "output_type": "display_data"
    },
    {
     "data": {
      "application/vnd.jupyter.widget-view+json": {
       "model_id": "7e15e77755e74de99dbb6a8c1ad7c7ba",
       "version_major": 2,
       "version_minor": 0
      },
      "text/plain": [
       "  0%|          | 0/79 [00:00<?, ?it/s]"
      ]
     },
     "metadata": {},
     "output_type": "display_data"
    },
    {
     "data": {
      "application/vnd.jupyter.widget-view+json": {
       "model_id": "6df764a60f244da8b565c397ac3f7040",
       "version_major": 2,
       "version_minor": 0
      },
      "text/plain": [
       "  0%|          | 0/2074 [00:00<?, ?it/s]"
      ]
     },
     "metadata": {},
     "output_type": "display_data"
    },
    {
     "data": {
      "application/vnd.jupyter.widget-view+json": {
       "model_id": "9144182d7a5548449d8f0c07173349f9",
       "version_major": 2,
       "version_minor": 0
      },
      "text/plain": [
       "  0%|          | 0/2074 [00:00<?, ?it/s]"
      ]
     },
     "metadata": {},
     "output_type": "display_data"
    },
    {
     "data": {
      "application/vnd.jupyter.widget-view+json": {
       "model_id": "fa2094ec02554131b3bfe8bc06aa4d00",
       "version_major": 2,
       "version_minor": 0
      },
      "text/plain": [
       "  0%|          | 0/2074 [00:00<?, ?it/s]"
      ]
     },
     "metadata": {},
     "output_type": "display_data"
    }
   ],
   "source": [
    "from collections import defaultdict\n",
    "from sklearn.model_selection import KFold\n",
    "\n",
    "fastmri_mask_x4 = torch.tensor(EquispacedMaskFunc([0.04], [4])((640, 320))[0]).cuda().float()\n",
    "zm = torch.zeros(320).cuda().float()\n",
    "zm[320//2 - int(80)//2 : 320//2 + int(80)//2] = 1\n",
    "fm = torch.ones(320).cuda().float()\n",
    "\n",
    "fold_scores = defaultdict(dict)\n",
    "\n",
    "for i, (train_id, val_id) in enumerate(KFold(shuffle=False).split(range(len(train_dataset)))):\n",
    "    td = torch.utils.data.Subset(train_dataset, train_id)\n",
    "    vd = torch.utils.data.Subset(train_dataset, val_id)\n",
    "    tg = torch.utils.data.DataLoader(td, batch_size=len(td), shuffle=True)\n",
    "    vg = torch.utils.data.DataLoader(vd, batch_size=len(vd), shuffle=False)\n",
    "    w_list = train_sampling_pattern(tg, n=79, loss_fn=F.l1_loss)\n",
    "    fold_scores[i] = dict(\n",
    "        ours=test_sampling_pattern(w_list[-1], vg, score_fn=pt_ssim),\n",
    "        fastmri=test_sampling_pattern(fastmri_mask_x4, vg, score_fn=pt_ssim), \n",
    "        center=test_sampling_pattern(zm, vg, score_fn=pt_ssim),\n",
    "    )\n",
    "fold_scores = [{k:[vv for vv in v] for k,v in dv.items()} for dv in fold_scores.values()]\n",
    "with open('fold_scores_l2_x4.pkl', mode='wb') as f: pickle.dump(fold_scores, f)"
   ]
  },
  {
   "cell_type": "code",
   "execution_count": 41,
   "metadata": {},
   "outputs": [
    {
     "name": "stdout",
     "output_type": "stream",
     "text": [
      "Ttest_relResult(statistic=-36.44284081410106, pvalue=3.384740933735797e-06)\n"
     ]
    },
    {
     "data": {
      "text/html": [
       "<div>\n",
       "<style scoped>\n",
       "    .dataframe tbody tr th:only-of-type {\n",
       "        vertical-align: middle;\n",
       "    }\n",
       "\n",
       "    .dataframe tbody tr th {\n",
       "        vertical-align: top;\n",
       "    }\n",
       "\n",
       "    .dataframe thead th {\n",
       "        text-align: right;\n",
       "    }\n",
       "</style>\n",
       "<table border=\"1\" class=\"dataframe\">\n",
       "  <thead>\n",
       "    <tr style=\"text-align: right;\">\n",
       "      <th></th>\n",
       "      <th>fastmri</th>\n",
       "      <th>center</th>\n",
       "      <th>ours</th>\n",
       "    </tr>\n",
       "  </thead>\n",
       "  <tbody>\n",
       "    <tr>\n",
       "      <th>count</th>\n",
       "      <td>5.000000</td>\n",
       "      <td>5.000000</td>\n",
       "      <td>5.000000</td>\n",
       "    </tr>\n",
       "    <tr>\n",
       "      <th>mean</th>\n",
       "      <td>0.571783</td>\n",
       "      <td>0.705411</td>\n",
       "      <td>0.711708</td>\n",
       "    </tr>\n",
       "    <tr>\n",
       "      <th>std</th>\n",
       "      <td>0.005200</td>\n",
       "      <td>0.007118</td>\n",
       "      <td>0.006735</td>\n",
       "    </tr>\n",
       "    <tr>\n",
       "      <th>min</th>\n",
       "      <td>0.566963</td>\n",
       "      <td>0.700048</td>\n",
       "      <td>0.706585</td>\n",
       "    </tr>\n",
       "    <tr>\n",
       "      <th>25%</th>\n",
       "      <td>0.567915</td>\n",
       "      <td>0.702203</td>\n",
       "      <td>0.708699</td>\n",
       "    </tr>\n",
       "    <tr>\n",
       "      <th>50%</th>\n",
       "      <td>0.570459</td>\n",
       "      <td>0.702271</td>\n",
       "      <td>0.708703</td>\n",
       "    </tr>\n",
       "    <tr>\n",
       "      <th>75%</th>\n",
       "      <td>0.573785</td>\n",
       "      <td>0.704743</td>\n",
       "      <td>0.711151</td>\n",
       "    </tr>\n",
       "    <tr>\n",
       "      <th>max</th>\n",
       "      <td>0.579796</td>\n",
       "      <td>0.717791</td>\n",
       "      <td>0.723404</td>\n",
       "    </tr>\n",
       "  </tbody>\n",
       "</table>\n",
       "</div>"
      ],
      "text/plain": [
       "        fastmri    center      ours\n",
       "count  5.000000  5.000000  5.000000\n",
       "mean   0.571783  0.705411  0.711708\n",
       "std    0.005200  0.007118  0.006735\n",
       "min    0.566963  0.700048  0.706585\n",
       "25%    0.567915  0.702203  0.708699\n",
       "50%    0.570459  0.702271  0.708703\n",
       "75%    0.573785  0.704743  0.711151\n",
       "max    0.579796  0.717791  0.723404"
      ]
     },
     "execution_count": 41,
     "metadata": {},
     "output_type": "execute_result"
    }
   ],
   "source": [
    "import scipy\n",
    "\n",
    "with open('fold_scores_l2_x4.pkl', 'rb') as f: fold_scores = pickle.load(f)\n",
    "\n",
    "df_dice = pd.DataFrame.from_dict({\n",
    "    'fastmri': [np.mean(v['fastmri']) for v in fold_scores],\n",
    "    'center': [np.mean(v['center']) for v in fold_scores],\n",
    "    'ours': [np.mean(v['ours']) for v in fold_scores]\n",
    "})\n",
    "print(scipy.stats.ttest_rel(df_dice.center, df_dice.ours))\n",
    "df_dice.describe()"
   ]
  },
  {
   "cell_type": "markdown",
   "metadata": {},
   "source": [
    "## Full train"
   ]
  },
  {
   "cell_type": "code",
   "execution_count": 43,
   "metadata": {},
   "outputs": [
    {
     "data": {
      "application/vnd.jupyter.widget-view+json": {
       "model_id": "01a67ddb018343cab7af63ae74f56686",
       "version_major": 2,
       "version_minor": 0
      },
      "text/plain": [
       "  0%|          | 0/79 [00:00<?, ?it/s]"
      ]
     },
     "metadata": {},
     "output_type": "display_data"
    }
   ],
   "source": [
    "w_list = train_sampling_pattern(train_generators['PD3T'], n=79, loss_fn=F.l1_loss)\n",
    "torch.save(w_list, 'sampling_igs.pt')"
   ]
  },
  {
   "cell_type": "code",
   "execution_count": 8,
   "metadata": {},
   "outputs": [],
   "source": [
    "fastmri_mask_x4 = torch.tensor(EquispacedMaskFunc([0.04], [4])((640, 320))[0]).cuda().float()\n",
    "zm = torch.zeros(320).cuda().float()\n",
    "zm[320//2 - int(80)//2 : 320//2 + int(80)//2] = 1\n",
    "fm = torch.ones(320).cuda().float()\n",
    "w = torch.load('sampling_igs.pt')[-1]"
   ]
  },
  {
   "cell_type": "code",
   "execution_count": 9,
   "metadata": {},
   "outputs": [
    {
     "data": {
      "text/plain": [
       "(tensor(80., device='cuda:0'), tensor(80., device='cuda:0'))"
      ]
     },
     "execution_count": 9,
     "metadata": {},
     "output_type": "execute_result"
    }
   ],
   "source": [
    "w.sum(), zm.sum()"
   ]
  },
  {
   "cell_type": "code",
   "execution_count": 10,
   "metadata": {},
   "outputs": [
    {
     "name": "stdout",
     "output_type": "stream",
     "text": [
      "tensor(0.7192)\n",
      "0.7346537865804029\n"
     ]
    },
    {
     "data": {
      "image/png": "[encoded data removed]",
      "text/plain": [
       "<Figure size 576x576 with 2 Axes>"
      ]
     },
     "metadata": {
      "needs_background": "light"
     },
     "output_type": "display_data"
    }
   ],
   "source": [
    "ks = train_dataset[323]\n",
    "img = IFt(ks).abs()\n",
    "_img = IFt(ks * w.cpu()).abs()\n",
    "\n",
    "print(pt_ssim(_img[220:-220, 60:-60][None], img[220:-220, 60:-60][None]))\n",
    "print(ssim_score(_img[220:-220, 60:-60][None], img[220:-220, 60:-60][None]))\n",
    "\n",
    "plt.figure(figsize=(8,8))\n",
    "plt.subplot(121)\n",
    "plt.imshow(img[220:-220, 60:-60])\n",
    "plt.axis('off')\n",
    "\n",
    "plt.subplot(122)\n",
    "plt.imshow(_img[220:-220, 60:-60])\n",
    "plt.axis('off')\n",
    "\n",
    "plt.show()"
   ]
  },
  {
   "cell_type": "code",
   "execution_count": 11,
   "metadata": {},
   "outputs": [
    {
     "name": "stdout",
     "output_type": "stream",
     "text": [
      "tensor(0.7050)\n",
      "0.7202899083976736\n"
     ]
    },
    {
     "data": {
      "image/png": "[encoded data removed]",
      "text/plain": [
       "<Figure size 576x576 with 2 Axes>"
      ]
     },
     "metadata": {
      "needs_background": "light"
     },
     "output_type": "display_data"
    }
   ],
   "source": [
    "ks = train_dataset[323]\n",
    "img = IFt(ks).abs()\n",
    "_img = IFt(ks * zm.cpu()).abs()\n",
    "\n",
    "print(pt_ssim(_img[220:-220, 60:-60][None], img[220:-220, 60:-60][None]))\n",
    "print(ssim_score(_img[220:-220, 60:-60][None], img[220:-220, 60:-60][None]))\n",
    "\n",
    "plt.figure(figsize=(8,8))\n",
    "plt.subplot(121)\n",
    "plt.imshow(img[220:-220, 60:-60])\n",
    "plt.axis('off')\n",
    "\n",
    "plt.subplot(122)\n",
    "plt.imshow(_img[220:-220, 60:-60])\n",
    "plt.axis('off')\n",
    "\n",
    "plt.show()"
   ]
  },
  {
   "cell_type": "code",
   "execution_count": 12,
   "metadata": {},
   "outputs": [
    {
     "name": "stdout",
     "output_type": "stream",
     "text": [
      "tensor(0.5671)\n",
      "0.5486545220630374\n"
     ]
    },
    {
     "data": {
      "image/png": "[encoded data removed]",
      "text/plain": [
       "<Figure size 576x576 with 2 Axes>"
      ]
     },
     "metadata": {
      "needs_background": "light"
     },
     "output_type": "display_data"
    }
   ],
   "source": [
    "ks = train_dataset[323]\n",
    "img = IFt(ks).abs()\n",
    "_img = IFt(ks * fastmri_mask_x4.cpu()).abs()\n",
    "\n",
    "print(pt_ssim(_img[220:-220, 60:-60][None], img[220:-220, 60:-60][None]))\n",
    "print(ssim_score(_img[220:-220, 60:-60][None], img[220:-220, 60:-60][None]))\n",
    "\n",
    "plt.figure(figsize=(8,8))\n",
    "plt.subplot(121)\n",
    "plt.imshow(img[220:-220, 60:-60])\n",
    "plt.axis('off')\n",
    "\n",
    "plt.subplot(122)\n",
    "plt.imshow(_img[220:-220, 60:-60])\n",
    "plt.axis('off')\n",
    "\n",
    "plt.show()"
   ]
  },
  {
   "cell_type": "code",
   "execution_count": 14,
   "metadata": {},
   "outputs": [
    {
     "data": {
      "application/vnd.jupyter.widget-view+json": {
       "model_id": "a58a79b5247d436dbe65a41a7cadf28d",
       "version_major": 2,
       "version_minor": 0
      },
      "text/plain": [
       "  0%|          | 0/1992 [00:00<?, ?it/s]"
      ]
     },
     "metadata": {},
     "output_type": "display_data"
    },
    {
     "data": {
      "application/vnd.jupyter.widget-view+json": {
       "model_id": "df1c1114c3bf473991581b4cb5f2569d",
       "version_major": 2,
       "version_minor": 0
      },
      "text/plain": [
       "  0%|          | 0/1992 [00:00<?, ?it/s]"
      ]
     },
     "metadata": {},
     "output_type": "display_data"
    },
    {
     "data": {
      "application/vnd.jupyter.widget-view+json": {
       "model_id": "cd1c2493db05436b882a614d2b3176f0",
       "version_major": 2,
       "version_minor": 0
      },
      "text/plain": [
       "  0%|          | 0/1992 [00:00<?, ?it/s]"
      ]
     },
     "metadata": {},
     "output_type": "display_data"
    },
    {
     "data": {
      "application/vnd.jupyter.widget-view+json": {
       "model_id": "94c0dd17d7fb4bf7bbee14cc9c68ec94",
       "version_major": 2,
       "version_minor": 0
      },
      "text/plain": [
       "  0%|          | 0/1992 [00:00<?, ?it/s]"
      ]
     },
     "metadata": {},
     "output_type": "display_data"
    },
    {
     "data": {
      "application/vnd.jupyter.widget-view+json": {
       "model_id": "62ad688ed3f64b88a28358dcba384fcd",
       "version_major": 2,
       "version_minor": 0
      },
      "text/plain": [
       "  0%|          | 0/1992 [00:00<?, ?it/s]"
      ]
     },
     "metadata": {},
     "output_type": "display_data"
    },
    {
     "data": {
      "application/vnd.jupyter.widget-view+json": {
       "model_id": "ab9b3509c5ab4334a7eb25ec1809cdb2",
       "version_major": 2,
       "version_minor": 0
      },
      "text/plain": [
       "  0%|          | 0/1992 [00:00<?, ?it/s]"
      ]
     },
     "metadata": {},
     "output_type": "display_data"
    },
    {
     "data": {
      "application/vnd.jupyter.widget-view+json": {
       "model_id": "9479b11b06e840c9b1fb1627593c6fe0",
       "version_major": 2,
       "version_minor": 0
      },
      "text/plain": [
       "  0%|          | 0/1992 [00:00<?, ?it/s]"
      ]
     },
     "metadata": {},
     "output_type": "display_data"
    },
    {
     "data": {
      "application/vnd.jupyter.widget-view+json": {
       "model_id": "4acb57f28c3c4de18cf2e21bfa17bb03",
       "version_major": 2,
       "version_minor": 0
      },
      "text/plain": [
       "  0%|          | 0/1992 [00:00<?, ?it/s]"
      ]
     },
     "metadata": {},
     "output_type": "display_data"
    },
    {
     "data": {
      "application/vnd.jupyter.widget-view+json": {
       "model_id": "c00455597fe24804b0da8c80b88fa7db",
       "version_major": 2,
       "version_minor": 0
      },
      "text/plain": [
       "  0%|          | 0/1992 [00:00<?, ?it/s]"
      ]
     },
     "metadata": {},
     "output_type": "display_data"
    },
    {
     "name": "stdout",
     "output_type": "stream",
     "text": [
      "SSIM\n",
      "              ours      fastmri       center\n",
      "count  1992.000000  1992.000000  1992.000000\n",
      "mean      0.699558     0.564430     0.693210\n",
      "std       0.102476     0.082127     0.101608\n",
      "min       0.025568     0.132779     0.025254\n",
      "25%       0.677009     0.527346     0.670491\n",
      "50%       0.715555     0.561356     0.709001\n",
      "75%       0.754154     0.603475     0.746588\n",
      "max       0.914247     0.815776     0.909440\n",
      "PSNR\n",
      "              ours      fastmri       center\n",
      "count  1992.000000  1992.000000  1992.000000\n",
      "mean     26.860683    20.329746    26.849439\n",
      "std       3.275443     3.314353     3.205168\n",
      "min      10.184169    11.671541    10.100690\n",
      "25%      25.198386    18.291992    25.265934\n",
      "50%      26.970737    20.244328    26.891373\n",
      "75%      28.854317    22.101372    28.850932\n",
      "max      36.853035    35.257545    36.780609\n",
      "NMSE\n",
      "              ours      fastmri       center\n",
      "count  1992.000000  1992.000000  1992.000000\n",
      "mean      0.028792     0.103897     0.028694\n",
      "std       0.051433     0.091302     0.051290\n",
      "min       0.001978     0.005333     0.002177\n",
      "25%       0.010631     0.048497     0.010939\n",
      "50%       0.014765     0.071590     0.014810\n",
      "75%       0.023582     0.120180     0.023194\n",
      "max       0.666837     0.800778     0.623842\n"
     ]
    }
   ],
   "source": [
    "ssim_scores = dict(\n",
    "    ours=test_sampling_pattern(w, val_generators['PD3T'], score_fn=pt_ssim),\n",
    "    fastmri=test_sampling_pattern(fastmri_mask_x4, val_generators['PD3T'], score_fn=pt_ssim), \n",
    "    center=test_sampling_pattern(zm, val_generators['PD3T'], score_fn=pt_ssim),\n",
    ")\n",
    "\n",
    "psnr_scores = dict(\n",
    "    ours=test_sampling_pattern(w, val_generators['PD3T'], score_fn=pt_psnr),\n",
    "    fastmri=test_sampling_pattern(fastmri_mask_x4, val_generators['PD3T'], score_fn=pt_psnr), \n",
    "    center=test_sampling_pattern(zm, val_generators['PD3T'], score_fn=pt_psnr),\n",
    ")\n",
    "\n",
    "nmse_scores = dict(\n",
    "    ours=test_sampling_pattern(w, val_generators['PD3T'], score_fn=pt_nmse),\n",
    "    fastmri=test_sampling_pattern(fastmri_mask_x4, val_generators['PD3T'], score_fn=pt_nmse), \n",
    "    center=test_sampling_pattern(zm, val_generators['PD3T'], score_fn=pt_nmse),\n",
    ")\n",
    "\n",
    "print('SSIM')\n",
    "print(pd.DataFrame.from_dict(ssim_scores).describe())\n",
    "print('PSNR')\n",
    "print(pd.DataFrame.from_dict(psnr_scores).describe())\n",
    "print('NMSE')\n",
    "print(pd.DataFrame.from_dict(nmse_scores).describe())"
   ]
  },
  {
   "cell_type": "code",
   "execution_count": null,
   "metadata": {},
   "outputs": [],
   "source": []
  }
 ],
 "metadata": {
  "kernelspec": {
   "display_name": "Python 3",
   "language": "python",
   "name": "python3"
  },
  "language_info": {
   "codemirror_mode": {
    "name": "ipython",
    "version": 3
   },
   "file_extension": ".py",
   "mimetype": "text/x-python",
   "name": "python",
   "nbconvert_exporter": "python",
   "pygments_lexer": "ipython3",
   "version": "3.8.8"
  }
 },
 "nbformat": 4,
 "nbformat_minor": 4
}
